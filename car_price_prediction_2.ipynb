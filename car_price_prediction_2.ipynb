{
  "nbformat": 4,
  "nbformat_minor": 0,
  "metadata": {
    "colab": {
      "provenance": [],
      "gpuType": "T4"
    },
    "kernelspec": {
      "name": "python3",
      "display_name": "Python 3"
    },
    "language_info": {
      "name": "python"
    },
    "accelerator": "GPU"
  },
  "cells": [
    {
      "cell_type": "markdown",
      "source": [
        "# ✅ Tallaabada 1: Import Libraries"
      ],
      "metadata": {
        "id": "8JT38v0dQLaU"
      }
    },
    {
      "cell_type": "code",
      "execution_count": null,
      "metadata": {
        "id": "ebXPJnzxO6wB"
      },
      "outputs": [],
      "source": [
        "# ✅ Tallaabada 1: Import Libraries\n",
        "import pandas as pd\n",
        "import numpy as np\n",
        "import matplotlib.pyplot as plt\n",
        "import seaborn as sns\n",
        "\n",
        "# Models & tools\n",
        "from sklearn.model_selection import train_test_split, GridSearchCV\n",
        "from sklearn.ensemble import RandomForestRegressor\n",
        "from sklearn.metrics import mean_absolute_error, mean_squared_error, r2_score\n",
        "from sklearn.preprocessing import OneHotEncoder\n"
      ]
    },
    {
      "cell_type": "markdown",
      "source": [],
      "metadata": {
        "id": "dSc57FPIQP-g"
      }
    },
    {
      "cell_type": "markdown",
      "source": [
        "# ✅ Tallaabada 2: Load Dataset & Muujin xogta horudhaca ah\n"
      ],
      "metadata": {
        "id": "oBdocwIhQU3u"
      }
    },
    {
      "cell_type": "code",
      "source": [
        "# ✅ Tallaabada 2: Load Dataset & Muujin xogta horudhaca ah\n",
        "\n",
        "# Load dataset\n",
        "df = pd.read_csv(\"/content/ford.csv\")\n",
        "\n",
        "# Muujin 5-ta saf ee ugu horeeya\n",
        "print(\"🟩 Qayb ka mid ah dataset-ka:\")\n",
        "display(df.head())\n",
        "\n",
        "# Macluumaad guud oo ku saabsan column-yada\n",
        "print(\"\\n🟩 Info:\")\n",
        "df.info()\n",
        "\n",
        "# Tiro-koobka guud ee columns-ka numerical ah\n",
        "print(\"\\n🟩 Statistical Summary:\")\n",
        "display(df.describe())\n"
      ],
      "metadata": {
        "colab": {
          "base_uri": "https://localhost:8080/",
          "height": 854
        },
        "id": "uzCPLkLOQQW_",
        "outputId": "e296edec-eb2e-43bc-c2b5-1bd6eadd570b"
      },
      "execution_count": null,
      "outputs": [
        {
          "output_type": "stream",
          "name": "stdout",
          "text": [
            "🟩 Qayb ka mid ah dataset-ka:\n"
          ]
        },
        {
          "output_type": "display_data",
          "data": {
            "text/plain": [
              "     model  year  price transmission  mileage fuelType  tax   mpg  engineSize\n",
              "0   Fiesta  2017  12000    Automatic    15944   Petrol  150  57.7         1.0\n",
              "1    Focus  2018  14000       Manual     9083   Petrol  150  57.7         1.0\n",
              "2    Focus  2017  13000       Manual    12456   Petrol  150  57.7         1.0\n",
              "3   Fiesta  2019  17500       Manual    10460   Petrol  145  40.3         1.5\n",
              "4   Fiesta  2019  16500    Automatic     1482   Petrol  145  48.7         1.0"
            ],
            "text/html": [
              "\n",
              "  <div id=\"df-8e7a098f-eabb-4b5e-a53d-15513d659d99\" class=\"colab-df-container\">\n",
              "    <div>\n",
              "<style scoped>\n",
              "    .dataframe tbody tr th:only-of-type {\n",
              "        vertical-align: middle;\n",
              "    }\n",
              "\n",
              "    .dataframe tbody tr th {\n",
              "        vertical-align: top;\n",
              "    }\n",
              "\n",
              "    .dataframe thead th {\n",
              "        text-align: right;\n",
              "    }\n",
              "</style>\n",
              "<table border=\"1\" class=\"dataframe\">\n",
              "  <thead>\n",
              "    <tr style=\"text-align: right;\">\n",
              "      <th></th>\n",
              "      <th>model</th>\n",
              "      <th>year</th>\n",
              "      <th>price</th>\n",
              "      <th>transmission</th>\n",
              "      <th>mileage</th>\n",
              "      <th>fuelType</th>\n",
              "      <th>tax</th>\n",
              "      <th>mpg</th>\n",
              "      <th>engineSize</th>\n",
              "    </tr>\n",
              "  </thead>\n",
              "  <tbody>\n",
              "    <tr>\n",
              "      <th>0</th>\n",
              "      <td>Fiesta</td>\n",
              "      <td>2017</td>\n",
              "      <td>12000</td>\n",
              "      <td>Automatic</td>\n",
              "      <td>15944</td>\n",
              "      <td>Petrol</td>\n",
              "      <td>150</td>\n",
              "      <td>57.7</td>\n",
              "      <td>1.0</td>\n",
              "    </tr>\n",
              "    <tr>\n",
              "      <th>1</th>\n",
              "      <td>Focus</td>\n",
              "      <td>2018</td>\n",
              "      <td>14000</td>\n",
              "      <td>Manual</td>\n",
              "      <td>9083</td>\n",
              "      <td>Petrol</td>\n",
              "      <td>150</td>\n",
              "      <td>57.7</td>\n",
              "      <td>1.0</td>\n",
              "    </tr>\n",
              "    <tr>\n",
              "      <th>2</th>\n",
              "      <td>Focus</td>\n",
              "      <td>2017</td>\n",
              "      <td>13000</td>\n",
              "      <td>Manual</td>\n",
              "      <td>12456</td>\n",
              "      <td>Petrol</td>\n",
              "      <td>150</td>\n",
              "      <td>57.7</td>\n",
              "      <td>1.0</td>\n",
              "    </tr>\n",
              "    <tr>\n",
              "      <th>3</th>\n",
              "      <td>Fiesta</td>\n",
              "      <td>2019</td>\n",
              "      <td>17500</td>\n",
              "      <td>Manual</td>\n",
              "      <td>10460</td>\n",
              "      <td>Petrol</td>\n",
              "      <td>145</td>\n",
              "      <td>40.3</td>\n",
              "      <td>1.5</td>\n",
              "    </tr>\n",
              "    <tr>\n",
              "      <th>4</th>\n",
              "      <td>Fiesta</td>\n",
              "      <td>2019</td>\n",
              "      <td>16500</td>\n",
              "      <td>Automatic</td>\n",
              "      <td>1482</td>\n",
              "      <td>Petrol</td>\n",
              "      <td>145</td>\n",
              "      <td>48.7</td>\n",
              "      <td>1.0</td>\n",
              "    </tr>\n",
              "  </tbody>\n",
              "</table>\n",
              "</div>\n",
              "    <div class=\"colab-df-buttons\">\n",
              "\n",
              "  <div class=\"colab-df-container\">\n",
              "    <button class=\"colab-df-convert\" onclick=\"convertToInteractive('df-8e7a098f-eabb-4b5e-a53d-15513d659d99')\"\n",
              "            title=\"Convert this dataframe to an interactive table.\"\n",
              "            style=\"display:none;\">\n",
              "\n",
              "  <svg xmlns=\"http://www.w3.org/2000/svg\" height=\"24px\" viewBox=\"0 -960 960 960\">\n",
              "    <path d=\"M120-120v-720h720v720H120Zm60-500h600v-160H180v160Zm220 220h160v-160H400v160Zm0 220h160v-160H400v160ZM180-400h160v-160H180v160Zm440 0h160v-160H620v160ZM180-180h160v-160H180v160Zm440 0h160v-160H620v160Z\"/>\n",
              "  </svg>\n",
              "    </button>\n",
              "\n",
              "  <style>\n",
              "    .colab-df-container {\n",
              "      display:flex;\n",
              "      gap: 12px;\n",
              "    }\n",
              "\n",
              "    .colab-df-convert {\n",
              "      background-color: #E8F0FE;\n",
              "      border: none;\n",
              "      border-radius: 50%;\n",
              "      cursor: pointer;\n",
              "      display: none;\n",
              "      fill: #1967D2;\n",
              "      height: 32px;\n",
              "      padding: 0 0 0 0;\n",
              "      width: 32px;\n",
              "    }\n",
              "\n",
              "    .colab-df-convert:hover {\n",
              "      background-color: #E2EBFA;\n",
              "      box-shadow: 0px 1px 2px rgba(60, 64, 67, 0.3), 0px 1px 3px 1px rgba(60, 64, 67, 0.15);\n",
              "      fill: #174EA6;\n",
              "    }\n",
              "\n",
              "    .colab-df-buttons div {\n",
              "      margin-bottom: 4px;\n",
              "    }\n",
              "\n",
              "    [theme=dark] .colab-df-convert {\n",
              "      background-color: #3B4455;\n",
              "      fill: #D2E3FC;\n",
              "    }\n",
              "\n",
              "    [theme=dark] .colab-df-convert:hover {\n",
              "      background-color: #434B5C;\n",
              "      box-shadow: 0px 1px 3px 1px rgba(0, 0, 0, 0.15);\n",
              "      filter: drop-shadow(0px 1px 2px rgba(0, 0, 0, 0.3));\n",
              "      fill: #FFFFFF;\n",
              "    }\n",
              "  </style>\n",
              "\n",
              "    <script>\n",
              "      const buttonEl =\n",
              "        document.querySelector('#df-8e7a098f-eabb-4b5e-a53d-15513d659d99 button.colab-df-convert');\n",
              "      buttonEl.style.display =\n",
              "        google.colab.kernel.accessAllowed ? 'block' : 'none';\n",
              "\n",
              "      async function convertToInteractive(key) {\n",
              "        const element = document.querySelector('#df-8e7a098f-eabb-4b5e-a53d-15513d659d99');\n",
              "        const dataTable =\n",
              "          await google.colab.kernel.invokeFunction('convertToInteractive',\n",
              "                                                    [key], {});\n",
              "        if (!dataTable) return;\n",
              "\n",
              "        const docLinkHtml = 'Like what you see? Visit the ' +\n",
              "          '<a target=\"_blank\" href=https://colab.research.google.com/notebooks/data_table.ipynb>data table notebook</a>'\n",
              "          + ' to learn more about interactive tables.';\n",
              "        element.innerHTML = '';\n",
              "        dataTable['output_type'] = 'display_data';\n",
              "        await google.colab.output.renderOutput(dataTable, element);\n",
              "        const docLink = document.createElement('div');\n",
              "        docLink.innerHTML = docLinkHtml;\n",
              "        element.appendChild(docLink);\n",
              "      }\n",
              "    </script>\n",
              "  </div>\n",
              "\n",
              "\n",
              "    <div id=\"df-be65e1b7-f7c8-413b-acba-efadf00511cc\">\n",
              "      <button class=\"colab-df-quickchart\" onclick=\"quickchart('df-be65e1b7-f7c8-413b-acba-efadf00511cc')\"\n",
              "                title=\"Suggest charts\"\n",
              "                style=\"display:none;\">\n",
              "\n",
              "<svg xmlns=\"http://www.w3.org/2000/svg\" height=\"24px\"viewBox=\"0 0 24 24\"\n",
              "     width=\"24px\">\n",
              "    <g>\n",
              "        <path d=\"M19 3H5c-1.1 0-2 .9-2 2v14c0 1.1.9 2 2 2h14c1.1 0 2-.9 2-2V5c0-1.1-.9-2-2-2zM9 17H7v-7h2v7zm4 0h-2V7h2v10zm4 0h-2v-4h2v4z\"/>\n",
              "    </g>\n",
              "</svg>\n",
              "      </button>\n",
              "\n",
              "<style>\n",
              "  .colab-df-quickchart {\n",
              "      --bg-color: #E8F0FE;\n",
              "      --fill-color: #1967D2;\n",
              "      --hover-bg-color: #E2EBFA;\n",
              "      --hover-fill-color: #174EA6;\n",
              "      --disabled-fill-color: #AAA;\n",
              "      --disabled-bg-color: #DDD;\n",
              "  }\n",
              "\n",
              "  [theme=dark] .colab-df-quickchart {\n",
              "      --bg-color: #3B4455;\n",
              "      --fill-color: #D2E3FC;\n",
              "      --hover-bg-color: #434B5C;\n",
              "      --hover-fill-color: #FFFFFF;\n",
              "      --disabled-bg-color: #3B4455;\n",
              "      --disabled-fill-color: #666;\n",
              "  }\n",
              "\n",
              "  .colab-df-quickchart {\n",
              "    background-color: var(--bg-color);\n",
              "    border: none;\n",
              "    border-radius: 50%;\n",
              "    cursor: pointer;\n",
              "    display: none;\n",
              "    fill: var(--fill-color);\n",
              "    height: 32px;\n",
              "    padding: 0;\n",
              "    width: 32px;\n",
              "  }\n",
              "\n",
              "  .colab-df-quickchart:hover {\n",
              "    background-color: var(--hover-bg-color);\n",
              "    box-shadow: 0 1px 2px rgba(60, 64, 67, 0.3), 0 1px 3px 1px rgba(60, 64, 67, 0.15);\n",
              "    fill: var(--button-hover-fill-color);\n",
              "  }\n",
              "\n",
              "  .colab-df-quickchart-complete:disabled,\n",
              "  .colab-df-quickchart-complete:disabled:hover {\n",
              "    background-color: var(--disabled-bg-color);\n",
              "    fill: var(--disabled-fill-color);\n",
              "    box-shadow: none;\n",
              "  }\n",
              "\n",
              "  .colab-df-spinner {\n",
              "    border: 2px solid var(--fill-color);\n",
              "    border-color: transparent;\n",
              "    border-bottom-color: var(--fill-color);\n",
              "    animation:\n",
              "      spin 1s steps(1) infinite;\n",
              "  }\n",
              "\n",
              "  @keyframes spin {\n",
              "    0% {\n",
              "      border-color: transparent;\n",
              "      border-bottom-color: var(--fill-color);\n",
              "      border-left-color: var(--fill-color);\n",
              "    }\n",
              "    20% {\n",
              "      border-color: transparent;\n",
              "      border-left-color: var(--fill-color);\n",
              "      border-top-color: var(--fill-color);\n",
              "    }\n",
              "    30% {\n",
              "      border-color: transparent;\n",
              "      border-left-color: var(--fill-color);\n",
              "      border-top-color: var(--fill-color);\n",
              "      border-right-color: var(--fill-color);\n",
              "    }\n",
              "    40% {\n",
              "      border-color: transparent;\n",
              "      border-right-color: var(--fill-color);\n",
              "      border-top-color: var(--fill-color);\n",
              "    }\n",
              "    60% {\n",
              "      border-color: transparent;\n",
              "      border-right-color: var(--fill-color);\n",
              "    }\n",
              "    80% {\n",
              "      border-color: transparent;\n",
              "      border-right-color: var(--fill-color);\n",
              "      border-bottom-color: var(--fill-color);\n",
              "    }\n",
              "    90% {\n",
              "      border-color: transparent;\n",
              "      border-bottom-color: var(--fill-color);\n",
              "    }\n",
              "  }\n",
              "</style>\n",
              "\n",
              "      <script>\n",
              "        async function quickchart(key) {\n",
              "          const quickchartButtonEl =\n",
              "            document.querySelector('#' + key + ' button');\n",
              "          quickchartButtonEl.disabled = true;  // To prevent multiple clicks.\n",
              "          quickchartButtonEl.classList.add('colab-df-spinner');\n",
              "          try {\n",
              "            const charts = await google.colab.kernel.invokeFunction(\n",
              "                'suggestCharts', [key], {});\n",
              "          } catch (error) {\n",
              "            console.error('Error during call to suggestCharts:', error);\n",
              "          }\n",
              "          quickchartButtonEl.classList.remove('colab-df-spinner');\n",
              "          quickchartButtonEl.classList.add('colab-df-quickchart-complete');\n",
              "        }\n",
              "        (() => {\n",
              "          let quickchartButtonEl =\n",
              "            document.querySelector('#df-be65e1b7-f7c8-413b-acba-efadf00511cc button');\n",
              "          quickchartButtonEl.style.display =\n",
              "            google.colab.kernel.accessAllowed ? 'block' : 'none';\n",
              "        })();\n",
              "      </script>\n",
              "    </div>\n",
              "\n",
              "    </div>\n",
              "  </div>\n"
            ],
            "application/vnd.google.colaboratory.intrinsic+json": {
              "type": "dataframe",
              "summary": "{\n  \"name\": \"display(df\",\n  \"rows\": 5,\n  \"fields\": [\n    {\n      \"column\": \"model\",\n      \"properties\": {\n        \"dtype\": \"category\",\n        \"num_unique_values\": 2,\n        \"samples\": [\n          \" Focus\",\n          \" Fiesta\"\n        ],\n        \"semantic_type\": \"\",\n        \"description\": \"\"\n      }\n    },\n    {\n      \"column\": \"year\",\n      \"properties\": {\n        \"dtype\": \"number\",\n        \"std\": 1,\n        \"min\": 2017,\n        \"max\": 2019,\n        \"num_unique_values\": 3,\n        \"samples\": [\n          2017,\n          2018\n        ],\n        \"semantic_type\": \"\",\n        \"description\": \"\"\n      }\n    },\n    {\n      \"column\": \"price\",\n      \"properties\": {\n        \"dtype\": \"number\",\n        \"std\": 2329,\n        \"min\": 12000,\n        \"max\": 17500,\n        \"num_unique_values\": 5,\n        \"samples\": [\n          14000,\n          16500\n        ],\n        \"semantic_type\": \"\",\n        \"description\": \"\"\n      }\n    },\n    {\n      \"column\": \"transmission\",\n      \"properties\": {\n        \"dtype\": \"category\",\n        \"num_unique_values\": 2,\n        \"samples\": [\n          \"Manual\",\n          \"Automatic\"\n        ],\n        \"semantic_type\": \"\",\n        \"description\": \"\"\n      }\n    },\n    {\n      \"column\": \"mileage\",\n      \"properties\": {\n        \"dtype\": \"number\",\n        \"std\": 5359,\n        \"min\": 1482,\n        \"max\": 15944,\n        \"num_unique_values\": 5,\n        \"samples\": [\n          9083,\n          1482\n        ],\n        \"semantic_type\": \"\",\n        \"description\": \"\"\n      }\n    },\n    {\n      \"column\": \"fuelType\",\n      \"properties\": {\n        \"dtype\": \"category\",\n        \"num_unique_values\": 1,\n        \"samples\": [\n          \"Petrol\"\n        ],\n        \"semantic_type\": \"\",\n        \"description\": \"\"\n      }\n    },\n    {\n      \"column\": \"tax\",\n      \"properties\": {\n        \"dtype\": \"number\",\n        \"std\": 2,\n        \"min\": 145,\n        \"max\": 150,\n        \"num_unique_values\": 2,\n        \"samples\": [\n          145\n        ],\n        \"semantic_type\": \"\",\n        \"description\": \"\"\n      }\n    },\n    {\n      \"column\": \"mpg\",\n      \"properties\": {\n        \"dtype\": \"number\",\n        \"std\": 7.816137153351393,\n        \"min\": 40.3,\n        \"max\": 57.7,\n        \"num_unique_values\": 3,\n        \"samples\": [\n          57.7\n        ],\n        \"semantic_type\": \"\",\n        \"description\": \"\"\n      }\n    },\n    {\n      \"column\": \"engineSize\",\n      \"properties\": {\n        \"dtype\": \"number\",\n        \"std\": 0.22360679774997896,\n        \"min\": 1.0,\n        \"max\": 1.5,\n        \"num_unique_values\": 2,\n        \"samples\": [\n          1.5\n        ],\n        \"semantic_type\": \"\",\n        \"description\": \"\"\n      }\n    }\n  ]\n}"
            }
          },
          "metadata": {}
        },
        {
          "output_type": "stream",
          "name": "stdout",
          "text": [
            "\n",
            "🟩 Info:\n",
            "<class 'pandas.core.frame.DataFrame'>\n",
            "RangeIndex: 17965 entries, 0 to 17964\n",
            "Data columns (total 9 columns):\n",
            " #   Column        Non-Null Count  Dtype  \n",
            "---  ------        --------------  -----  \n",
            " 0   model         17965 non-null  object \n",
            " 1   year          17965 non-null  int64  \n",
            " 2   price         17965 non-null  int64  \n",
            " 3   transmission  17965 non-null  object \n",
            " 4   mileage       17965 non-null  int64  \n",
            " 5   fuelType      17965 non-null  object \n",
            " 6   tax           17965 non-null  int64  \n",
            " 7   mpg           17965 non-null  float64\n",
            " 8   engineSize    17965 non-null  float64\n",
            "dtypes: float64(2), int64(4), object(3)\n",
            "memory usage: 1.2+ MB\n",
            "\n",
            "🟩 Statistical Summary:\n"
          ]
        },
        {
          "output_type": "display_data",
          "data": {
            "text/plain": [
              "               year         price        mileage           tax           mpg  \\\n",
              "count  17965.000000  17965.000000   17965.000000  17965.000000  17965.000000   \n",
              "mean    2016.866574  12279.756415   23363.630504    113.334539     57.906991   \n",
              "std        2.050346   4741.382606   19472.114690     62.010438     10.125977   \n",
              "min     1996.000000    495.000000       1.000000      0.000000     20.800000   \n",
              "25%     2016.000000   8999.000000    9987.000000     30.000000     52.300000   \n",
              "50%     2017.000000  11291.000000   18243.000000    145.000000     58.900000   \n",
              "75%     2018.000000  15299.000000   31064.000000    145.000000     65.700000   \n",
              "max     2060.000000  54995.000000  177644.000000    580.000000    201.800000   \n",
              "\n",
              "         engineSize  \n",
              "count  17965.000000  \n",
              "mean       1.350827  \n",
              "std        0.432371  \n",
              "min        0.000000  \n",
              "25%        1.000000  \n",
              "50%        1.200000  \n",
              "75%        1.500000  \n",
              "max        5.000000  "
            ],
            "text/html": [
              "\n",
              "  <div id=\"df-ad45e837-10a6-4f2a-a522-8fa23b92f994\" class=\"colab-df-container\">\n",
              "    <div>\n",
              "<style scoped>\n",
              "    .dataframe tbody tr th:only-of-type {\n",
              "        vertical-align: middle;\n",
              "    }\n",
              "\n",
              "    .dataframe tbody tr th {\n",
              "        vertical-align: top;\n",
              "    }\n",
              "\n",
              "    .dataframe thead th {\n",
              "        text-align: right;\n",
              "    }\n",
              "</style>\n",
              "<table border=\"1\" class=\"dataframe\">\n",
              "  <thead>\n",
              "    <tr style=\"text-align: right;\">\n",
              "      <th></th>\n",
              "      <th>year</th>\n",
              "      <th>price</th>\n",
              "      <th>mileage</th>\n",
              "      <th>tax</th>\n",
              "      <th>mpg</th>\n",
              "      <th>engineSize</th>\n",
              "    </tr>\n",
              "  </thead>\n",
              "  <tbody>\n",
              "    <tr>\n",
              "      <th>count</th>\n",
              "      <td>17965.000000</td>\n",
              "      <td>17965.000000</td>\n",
              "      <td>17965.000000</td>\n",
              "      <td>17965.000000</td>\n",
              "      <td>17965.000000</td>\n",
              "      <td>17965.000000</td>\n",
              "    </tr>\n",
              "    <tr>\n",
              "      <th>mean</th>\n",
              "      <td>2016.866574</td>\n",
              "      <td>12279.756415</td>\n",
              "      <td>23363.630504</td>\n",
              "      <td>113.334539</td>\n",
              "      <td>57.906991</td>\n",
              "      <td>1.350827</td>\n",
              "    </tr>\n",
              "    <tr>\n",
              "      <th>std</th>\n",
              "      <td>2.050346</td>\n",
              "      <td>4741.382606</td>\n",
              "      <td>19472.114690</td>\n",
              "      <td>62.010438</td>\n",
              "      <td>10.125977</td>\n",
              "      <td>0.432371</td>\n",
              "    </tr>\n",
              "    <tr>\n",
              "      <th>min</th>\n",
              "      <td>1996.000000</td>\n",
              "      <td>495.000000</td>\n",
              "      <td>1.000000</td>\n",
              "      <td>0.000000</td>\n",
              "      <td>20.800000</td>\n",
              "      <td>0.000000</td>\n",
              "    </tr>\n",
              "    <tr>\n",
              "      <th>25%</th>\n",
              "      <td>2016.000000</td>\n",
              "      <td>8999.000000</td>\n",
              "      <td>9987.000000</td>\n",
              "      <td>30.000000</td>\n",
              "      <td>52.300000</td>\n",
              "      <td>1.000000</td>\n",
              "    </tr>\n",
              "    <tr>\n",
              "      <th>50%</th>\n",
              "      <td>2017.000000</td>\n",
              "      <td>11291.000000</td>\n",
              "      <td>18243.000000</td>\n",
              "      <td>145.000000</td>\n",
              "      <td>58.900000</td>\n",
              "      <td>1.200000</td>\n",
              "    </tr>\n",
              "    <tr>\n",
              "      <th>75%</th>\n",
              "      <td>2018.000000</td>\n",
              "      <td>15299.000000</td>\n",
              "      <td>31064.000000</td>\n",
              "      <td>145.000000</td>\n",
              "      <td>65.700000</td>\n",
              "      <td>1.500000</td>\n",
              "    </tr>\n",
              "    <tr>\n",
              "      <th>max</th>\n",
              "      <td>2060.000000</td>\n",
              "      <td>54995.000000</td>\n",
              "      <td>177644.000000</td>\n",
              "      <td>580.000000</td>\n",
              "      <td>201.800000</td>\n",
              "      <td>5.000000</td>\n",
              "    </tr>\n",
              "  </tbody>\n",
              "</table>\n",
              "</div>\n",
              "    <div class=\"colab-df-buttons\">\n",
              "\n",
              "  <div class=\"colab-df-container\">\n",
              "    <button class=\"colab-df-convert\" onclick=\"convertToInteractive('df-ad45e837-10a6-4f2a-a522-8fa23b92f994')\"\n",
              "            title=\"Convert this dataframe to an interactive table.\"\n",
              "            style=\"display:none;\">\n",
              "\n",
              "  <svg xmlns=\"http://www.w3.org/2000/svg\" height=\"24px\" viewBox=\"0 -960 960 960\">\n",
              "    <path d=\"M120-120v-720h720v720H120Zm60-500h600v-160H180v160Zm220 220h160v-160H400v160Zm0 220h160v-160H400v160ZM180-400h160v-160H180v160Zm440 0h160v-160H620v160ZM180-180h160v-160H180v160Zm440 0h160v-160H620v160Z\"/>\n",
              "  </svg>\n",
              "    </button>\n",
              "\n",
              "  <style>\n",
              "    .colab-df-container {\n",
              "      display:flex;\n",
              "      gap: 12px;\n",
              "    }\n",
              "\n",
              "    .colab-df-convert {\n",
              "      background-color: #E8F0FE;\n",
              "      border: none;\n",
              "      border-radius: 50%;\n",
              "      cursor: pointer;\n",
              "      display: none;\n",
              "      fill: #1967D2;\n",
              "      height: 32px;\n",
              "      padding: 0 0 0 0;\n",
              "      width: 32px;\n",
              "    }\n",
              "\n",
              "    .colab-df-convert:hover {\n",
              "      background-color: #E2EBFA;\n",
              "      box-shadow: 0px 1px 2px rgba(60, 64, 67, 0.3), 0px 1px 3px 1px rgba(60, 64, 67, 0.15);\n",
              "      fill: #174EA6;\n",
              "    }\n",
              "\n",
              "    .colab-df-buttons div {\n",
              "      margin-bottom: 4px;\n",
              "    }\n",
              "\n",
              "    [theme=dark] .colab-df-convert {\n",
              "      background-color: #3B4455;\n",
              "      fill: #D2E3FC;\n",
              "    }\n",
              "\n",
              "    [theme=dark] .colab-df-convert:hover {\n",
              "      background-color: #434B5C;\n",
              "      box-shadow: 0px 1px 3px 1px rgba(0, 0, 0, 0.15);\n",
              "      filter: drop-shadow(0px 1px 2px rgba(0, 0, 0, 0.3));\n",
              "      fill: #FFFFFF;\n",
              "    }\n",
              "  </style>\n",
              "\n",
              "    <script>\n",
              "      const buttonEl =\n",
              "        document.querySelector('#df-ad45e837-10a6-4f2a-a522-8fa23b92f994 button.colab-df-convert');\n",
              "      buttonEl.style.display =\n",
              "        google.colab.kernel.accessAllowed ? 'block' : 'none';\n",
              "\n",
              "      async function convertToInteractive(key) {\n",
              "        const element = document.querySelector('#df-ad45e837-10a6-4f2a-a522-8fa23b92f994');\n",
              "        const dataTable =\n",
              "          await google.colab.kernel.invokeFunction('convertToInteractive',\n",
              "                                                    [key], {});\n",
              "        if (!dataTable) return;\n",
              "\n",
              "        const docLinkHtml = 'Like what you see? Visit the ' +\n",
              "          '<a target=\"_blank\" href=https://colab.research.google.com/notebooks/data_table.ipynb>data table notebook</a>'\n",
              "          + ' to learn more about interactive tables.';\n",
              "        element.innerHTML = '';\n",
              "        dataTable['output_type'] = 'display_data';\n",
              "        await google.colab.output.renderOutput(dataTable, element);\n",
              "        const docLink = document.createElement('div');\n",
              "        docLink.innerHTML = docLinkHtml;\n",
              "        element.appendChild(docLink);\n",
              "      }\n",
              "    </script>\n",
              "  </div>\n",
              "\n",
              "\n",
              "    <div id=\"df-7832d4e4-9ec8-4084-8b1f-93ac2a889bf8\">\n",
              "      <button class=\"colab-df-quickchart\" onclick=\"quickchart('df-7832d4e4-9ec8-4084-8b1f-93ac2a889bf8')\"\n",
              "                title=\"Suggest charts\"\n",
              "                style=\"display:none;\">\n",
              "\n",
              "<svg xmlns=\"http://www.w3.org/2000/svg\" height=\"24px\"viewBox=\"0 0 24 24\"\n",
              "     width=\"24px\">\n",
              "    <g>\n",
              "        <path d=\"M19 3H5c-1.1 0-2 .9-2 2v14c0 1.1.9 2 2 2h14c1.1 0 2-.9 2-2V5c0-1.1-.9-2-2-2zM9 17H7v-7h2v7zm4 0h-2V7h2v10zm4 0h-2v-4h2v4z\"/>\n",
              "    </g>\n",
              "</svg>\n",
              "      </button>\n",
              "\n",
              "<style>\n",
              "  .colab-df-quickchart {\n",
              "      --bg-color: #E8F0FE;\n",
              "      --fill-color: #1967D2;\n",
              "      --hover-bg-color: #E2EBFA;\n",
              "      --hover-fill-color: #174EA6;\n",
              "      --disabled-fill-color: #AAA;\n",
              "      --disabled-bg-color: #DDD;\n",
              "  }\n",
              "\n",
              "  [theme=dark] .colab-df-quickchart {\n",
              "      --bg-color: #3B4455;\n",
              "      --fill-color: #D2E3FC;\n",
              "      --hover-bg-color: #434B5C;\n",
              "      --hover-fill-color: #FFFFFF;\n",
              "      --disabled-bg-color: #3B4455;\n",
              "      --disabled-fill-color: #666;\n",
              "  }\n",
              "\n",
              "  .colab-df-quickchart {\n",
              "    background-color: var(--bg-color);\n",
              "    border: none;\n",
              "    border-radius: 50%;\n",
              "    cursor: pointer;\n",
              "    display: none;\n",
              "    fill: var(--fill-color);\n",
              "    height: 32px;\n",
              "    padding: 0;\n",
              "    width: 32px;\n",
              "  }\n",
              "\n",
              "  .colab-df-quickchart:hover {\n",
              "    background-color: var(--hover-bg-color);\n",
              "    box-shadow: 0 1px 2px rgba(60, 64, 67, 0.3), 0 1px 3px 1px rgba(60, 64, 67, 0.15);\n",
              "    fill: var(--button-hover-fill-color);\n",
              "  }\n",
              "\n",
              "  .colab-df-quickchart-complete:disabled,\n",
              "  .colab-df-quickchart-complete:disabled:hover {\n",
              "    background-color: var(--disabled-bg-color);\n",
              "    fill: var(--disabled-fill-color);\n",
              "    box-shadow: none;\n",
              "  }\n",
              "\n",
              "  .colab-df-spinner {\n",
              "    border: 2px solid var(--fill-color);\n",
              "    border-color: transparent;\n",
              "    border-bottom-color: var(--fill-color);\n",
              "    animation:\n",
              "      spin 1s steps(1) infinite;\n",
              "  }\n",
              "\n",
              "  @keyframes spin {\n",
              "    0% {\n",
              "      border-color: transparent;\n",
              "      border-bottom-color: var(--fill-color);\n",
              "      border-left-color: var(--fill-color);\n",
              "    }\n",
              "    20% {\n",
              "      border-color: transparent;\n",
              "      border-left-color: var(--fill-color);\n",
              "      border-top-color: var(--fill-color);\n",
              "    }\n",
              "    30% {\n",
              "      border-color: transparent;\n",
              "      border-left-color: var(--fill-color);\n",
              "      border-top-color: var(--fill-color);\n",
              "      border-right-color: var(--fill-color);\n",
              "    }\n",
              "    40% {\n",
              "      border-color: transparent;\n",
              "      border-right-color: var(--fill-color);\n",
              "      border-top-color: var(--fill-color);\n",
              "    }\n",
              "    60% {\n",
              "      border-color: transparent;\n",
              "      border-right-color: var(--fill-color);\n",
              "    }\n",
              "    80% {\n",
              "      border-color: transparent;\n",
              "      border-right-color: var(--fill-color);\n",
              "      border-bottom-color: var(--fill-color);\n",
              "    }\n",
              "    90% {\n",
              "      border-color: transparent;\n",
              "      border-bottom-color: var(--fill-color);\n",
              "    }\n",
              "  }\n",
              "</style>\n",
              "\n",
              "      <script>\n",
              "        async function quickchart(key) {\n",
              "          const quickchartButtonEl =\n",
              "            document.querySelector('#' + key + ' button');\n",
              "          quickchartButtonEl.disabled = true;  // To prevent multiple clicks.\n",
              "          quickchartButtonEl.classList.add('colab-df-spinner');\n",
              "          try {\n",
              "            const charts = await google.colab.kernel.invokeFunction(\n",
              "                'suggestCharts', [key], {});\n",
              "          } catch (error) {\n",
              "            console.error('Error during call to suggestCharts:', error);\n",
              "          }\n",
              "          quickchartButtonEl.classList.remove('colab-df-spinner');\n",
              "          quickchartButtonEl.classList.add('colab-df-quickchart-complete');\n",
              "        }\n",
              "        (() => {\n",
              "          let quickchartButtonEl =\n",
              "            document.querySelector('#df-7832d4e4-9ec8-4084-8b1f-93ac2a889bf8 button');\n",
              "          quickchartButtonEl.style.display =\n",
              "            google.colab.kernel.accessAllowed ? 'block' : 'none';\n",
              "        })();\n",
              "      </script>\n",
              "    </div>\n",
              "\n",
              "    </div>\n",
              "  </div>\n"
            ],
            "application/vnd.google.colaboratory.intrinsic+json": {
              "type": "dataframe",
              "summary": "{\n  \"name\": \"display(df\",\n  \"rows\": 8,\n  \"fields\": [\n    {\n      \"column\": \"year\",\n      \"properties\": {\n        \"dtype\": \"number\",\n        \"std\": 5782.468020388116,\n        \"min\": 2.0503457521500885,\n        \"max\": 17965.0,\n        \"num_unique_values\": 8,\n        \"samples\": [\n          2016.8665738936822,\n          2017.0,\n          17965.0\n        ],\n        \"semantic_type\": \"\",\n        \"description\": \"\"\n      }\n    },\n    {\n      \"column\": \"price\",\n      \"properties\": {\n        \"dtype\": \"number\",\n        \"std\": 16804.272735060145,\n        \"min\": 495.0,\n        \"max\": 54995.0,\n        \"num_unique_values\": 8,\n        \"samples\": [\n          12279.756415251879,\n          11291.0,\n          17965.0\n        ],\n        \"semantic_type\": \"\",\n        \"description\": \"\"\n      }\n    },\n    {\n      \"column\": \"mileage\",\n      \"properties\": {\n        \"dtype\": \"number\",\n        \"std\": 57472.42105483077,\n        \"min\": 1.0,\n        \"max\": 177644.0,\n        \"num_unique_values\": 8,\n        \"samples\": [\n          23363.630503757307,\n          18243.0,\n          17965.0\n        ],\n        \"semantic_type\": \"\",\n        \"description\": \"\"\n      }\n    },\n    {\n      \"column\": \"tax\",\n      \"properties\": {\n        \"dtype\": \"number\",\n        \"std\": 6299.891415210566,\n        \"min\": 0.0,\n        \"max\": 17965.0,\n        \"num_unique_values\": 7,\n        \"samples\": [\n          17965.0,\n          113.33453938213192,\n          145.0\n        ],\n        \"semantic_type\": \"\",\n        \"description\": \"\"\n      }\n    },\n    {\n      \"column\": \"mpg\",\n      \"properties\": {\n        \"dtype\": \"number\",\n        \"std\": 6328.242519162639,\n        \"min\": 10.125977420469583,\n        \"max\": 17965.0,\n        \"num_unique_values\": 8,\n        \"samples\": [\n          57.90699137211244,\n          58.9,\n          17965.0\n        ],\n        \"semantic_type\": \"\",\n        \"description\": \"\"\n      }\n    },\n    {\n      \"column\": \"engineSize\",\n      \"properties\": {\n        \"dtype\": \"number\",\n        \"std\": 6351.057360522391,\n        \"min\": 0.0,\n        \"max\": 17965.0,\n        \"num_unique_values\": 8,\n        \"samples\": [\n          1.3508266072919568,\n          1.2,\n          17965.0\n        ],\n        \"semantic_type\": \"\",\n        \"description\": \"\"\n      }\n    }\n  ]\n}"
            }
          },
          "metadata": {}
        }
      ]
    },
    {
      "cell_type": "markdown",
      "source": [
        "# ✅ Tallaabada 3: Hubinta null values iyo noocyada xogta"
      ],
      "metadata": {
        "id": "uzBDtYURQXev"
      }
    },
    {
      "cell_type": "code",
      "source": [
        "# ✅ Tallaabada 3: Hubinta null values iyo noocyada xogta\n",
        "\n",
        "# Tirada null values per column\n",
        "nulls = df.isnull().sum()\n",
        "\n",
        "# Noocyada xogta ee column kasta\n",
        "dtypes = df.dtypes\n",
        "\n",
        "(nulls, dtypes)"
      ],
      "metadata": {
        "colab": {
          "base_uri": "https://localhost:8080/"
        },
        "id": "LSe2VcYrQX6G",
        "outputId": "f39ea0e9-17d3-4519-880a-8f2392812b3d"
      },
      "execution_count": null,
      "outputs": [
        {
          "output_type": "execute_result",
          "data": {
            "text/plain": [
              "(model           0\n",
              " year            0\n",
              " price           0\n",
              " transmission    0\n",
              " mileage         0\n",
              " fuelType        0\n",
              " tax             0\n",
              " mpg             0\n",
              " engineSize      0\n",
              " dtype: int64,\n",
              " model            object\n",
              " year              int64\n",
              " price             int64\n",
              " transmission     object\n",
              " mileage           int64\n",
              " fuelType         object\n",
              " tax               int64\n",
              " mpg             float64\n",
              " engineSize      float64\n",
              " dtype: object)"
            ]
          },
          "metadata": {},
          "execution_count": 3
        }
      ]
    },
    {
      "cell_type": "markdown",
      "source": [
        "# ✅ Tallaabada 4: Hubinta iyo ka saarista duplicates"
      ],
      "metadata": {
        "id": "IzfkeTlsQlrQ"
      }
    },
    {
      "cell_type": "code",
      "source": [
        "# ✅ Tallaabada 4: Hubinta iyo ka saarista duplicates\n",
        "\n",
        "# Eeg tirada rows-ka duplicated ah\n",
        "duplicates_count = df.duplicated().sum()\n",
        "print(\"✅ Tirada rows-ka duplicated ah:\", duplicates_count)\n",
        "\n",
        "# Haddii ay jiraan duplicates, ka saar\n",
        "df = df.drop_duplicates().reset_index(drop=True)\n"
      ],
      "metadata": {
        "colab": {
          "base_uri": "https://localhost:8080/"
        },
        "id": "jMrJWNnORm1P",
        "outputId": "a6a96d48-4541-40cf-cf58-7283aeca20c7"
      },
      "execution_count": null,
      "outputs": [
        {
          "output_type": "stream",
          "name": "stdout",
          "text": [
            "✅ Tirada rows-ka duplicated ah: 0\n"
          ]
        }
      ]
    },
    {
      "cell_type": "markdown",
      "source": [
        "# ✅ Tallaabada 5: Ka saarista columns-ka aan loo baahnayn (model & fuelType)"
      ],
      "metadata": {
        "id": "gj3gnQ01R-aU"
      }
    },
    {
      "cell_type": "code",
      "source": [
        "# ✅ Tallaabada 5: Ka saarista columns-ka aan loo baahnayn (model & fuelType)\n",
        "\n",
        "columns_to_drop = ['model', 'fuelType']\n",
        "df = df.drop(columns=columns_to_drop)\n",
        "\n",
        "# Hubi columns-ka hadda haray\n",
        "print(\"✅ Columns-ka hadda haray:\")\n",
        "print(df.columns)\n"
      ],
      "metadata": {
        "colab": {
          "base_uri": "https://localhost:8080/"
        },
        "id": "6awsScvbRyVS",
        "outputId": "02af01b1-3b87-40d1-9de8-edb52ab09b5b"
      },
      "execution_count": null,
      "outputs": [
        {
          "output_type": "stream",
          "name": "stdout",
          "text": [
            "✅ Columns-ka hadda haray:\n",
            "Index(['year', 'price', 'transmission', 'mileage', 'tax', 'mpg', 'engineSize'], dtype='object')\n"
          ]
        }
      ]
    },
    {
      "cell_type": "markdown",
      "source": [
        "# ✅ Tallaabada 6: Encode column-ka 'transmission'"
      ],
      "metadata": {
        "id": "doeQTckISjNc"
      }
    },
    {
      "cell_type": "code",
      "source": [
        "# ✅ Tallaabada 6: Encode column-ka 'transmission'\n",
        "\n",
        "# Isticmaal One-Hot Encoding oo ka saar 'transmission_Auto' si aan avoid ugu sameyno dummy variable trap\n",
        "df_encoded = pd.get_dummies(df, columns=['transmission'], drop_first=True)\n",
        "\n",
        "# Hubi columns-ka cusub\n",
        "print(\"✅ Columns-ka cusub marka encoding la sameeyo:\")\n",
        "print(df_encoded.columns)\n",
        "\n",
        "# Ku badal df-kii hore\n",
        "df = df_encoded.copy()\n"
      ],
      "metadata": {
        "colab": {
          "base_uri": "https://localhost:8080/"
        },
        "id": "yZbrEp0tSj99",
        "outputId": "7ce2f325-01ce-4d2b-a386-1530d5e06ece"
      },
      "execution_count": null,
      "outputs": [
        {
          "output_type": "stream",
          "name": "stdout",
          "text": [
            "✅ Columns-ka cusub marka encoding la sameeyo:\n",
            "Index(['year', 'price', 'mileage', 'tax', 'mpg', 'engineSize',\n",
            "       'transmission_Manual', 'transmission_Semi-Auto'],\n",
            "      dtype='object')\n"
          ]
        }
      ]
    },
    {
      "cell_type": "markdown",
      "source": [
        "# ✅ Tallaabada 7: Kala saar X (features) iyo y (target)"
      ],
      "metadata": {
        "id": "WwGFjL25Syhq"
      }
    },
    {
      "cell_type": "code",
      "source": [
        "# ✅ Tallaabada 7: Kala saar X (features) iyo y (target)\n",
        "\n",
        "# Target = 'price'\n",
        "y = df['price']\n",
        "\n",
        "# Features = dhammaan columns-ka kale marka laga reebo 'price'\n",
        "X = df.drop(columns=['price'])\n",
        "\n",
        "# Hubi shape-kooda\n",
        "print(\"✅ X shape:\", X.shape)\n",
        "print(\"✅ y shape:\", y.shape)\n"
      ],
      "metadata": {
        "colab": {
          "base_uri": "https://localhost:8080/"
        },
        "id": "K5gs6a47SyJr",
        "outputId": "85457dfe-ebe1-40dc-c924-6c112b33c59c"
      },
      "execution_count": null,
      "outputs": [
        {
          "output_type": "stream",
          "name": "stdout",
          "text": [
            "✅ X shape: (17811, 7)\n",
            "✅ y shape: (17811,)\n"
          ]
        }
      ]
    },
    {
      "cell_type": "markdown",
      "source": [
        "# ✅ Tallaabada 8: Feature selection - Muujinta muhiimada features-ka"
      ],
      "metadata": {
        "id": "bY2O035XS2L0"
      }
    },
    {
      "cell_type": "code",
      "source": [
        "from sklearn.ensemble import RandomForestRegressor\n",
        "import matplotlib.pyplot as plt\n",
        "\n",
        "# ✅ Tallaabada 8: Feature selection - Muujinta muhiimada features-ka\n",
        "\n",
        "# Abuur model si kumeelgaar ah\n",
        "temp_rf = RandomForestRegressor(random_state=42)\n",
        "temp_rf.fit(X, y)\n",
        "\n",
        "# Hel muhiimada features-ka\n",
        "importances = temp_rf.feature_importances_\n",
        "feature_names = X.columns\n",
        "importance_df = pd.DataFrame({'Feature': feature_names, 'Importance': importances})\n",
        "importance_df = importance_df.sort_values(by='Importance', ascending=False)\n",
        "\n",
        "# Sawir muuqaalka\n",
        "plt.figure(figsize=(10, 6))\n",
        "plt.barh(importance_df['Feature'], importance_df['Importance'])\n",
        "plt.xlabel('Importance')\n",
        "plt.ylabel('Feature')\n",
        "plt.title('Muhiimada Features-ka')\n",
        "plt.gca().invert_yaxis()\n",
        "plt.show()\n",
        "\n",
        "# Tus xogta sida DataFrame\n",
        "importance_df.reset_index(drop=True)\n"
      ],
      "metadata": {
        "colab": {
          "base_uri": "https://localhost:8080/",
          "height": 788
        },
        "id": "wLe3qYftS1kE",
        "outputId": "3d2217a7-fa10-4066-838f-61d0084814ca"
      },
      "execution_count": null,
      "outputs": [
        {
          "output_type": "display_data",
          "data": {
            "text/plain": [
              "<Figure size 1000x600 with 1 Axes>"
            ],
            "image/png": "[encoded data removed]"
          },
          "metadata": {}
        },
        {
          "output_type": "execute_result",
          "data": {
            "text/plain": [
              "                  Feature  Importance\n",
              "0                    year    0.487444\n",
              "1              engineSize    0.294396\n",
              "2                     mpg    0.106101\n",
              "3                 mileage    0.089934\n",
              "4                     tax    0.013173\n",
              "5     transmission_Manual    0.006394\n",
              "6  transmission_Semi-Auto    0.002558"
            ],
            "text/html": [
              "\n",
              "  <div id=\"df-9e65b99e-7960-482a-8b3f-b005eab1dba2\" class=\"colab-df-container\">\n",
              "    <div>\n",
              "<style scoped>\n",
              "    .dataframe tbody tr th:only-of-type {\n",
              "        vertical-align: middle;\n",
              "    }\n",
              "\n",
              "    .dataframe tbody tr th {\n",
              "        vertical-align: top;\n",
              "    }\n",
              "\n",
              "    .dataframe thead th {\n",
              "        text-align: right;\n",
              "    }\n",
              "</style>\n",
              "<table border=\"1\" class=\"dataframe\">\n",
              "  <thead>\n",
              "    <tr style=\"text-align: right;\">\n",
              "      <th></th>\n",
              "      <th>Feature</th>\n",
              "      <th>Importance</th>\n",
              "    </tr>\n",
              "  </thead>\n",
              "  <tbody>\n",
              "    <tr>\n",
              "      <th>0</th>\n",
              "      <td>year</td>\n",
              "      <td>0.487444</td>\n",
              "    </tr>\n",
              "    <tr>\n",
              "      <th>1</th>\n",
              "      <td>engineSize</td>\n",
              "      <td>0.294396</td>\n",
              "    </tr>\n",
              "    <tr>\n",
              "      <th>2</th>\n",
              "      <td>mpg</td>\n",
              "      <td>0.106101</td>\n",
              "    </tr>\n",
              "    <tr>\n",
              "      <th>3</th>\n",
              "      <td>mileage</td>\n",
              "      <td>0.089934</td>\n",
              "    </tr>\n",
              "    <tr>\n",
              "      <th>4</th>\n",
              "      <td>tax</td>\n",
              "      <td>0.013173</td>\n",
              "    </tr>\n",
              "    <tr>\n",
              "      <th>5</th>\n",
              "      <td>transmission_Manual</td>\n",
              "      <td>0.006394</td>\n",
              "    </tr>\n",
              "    <tr>\n",
              "      <th>6</th>\n",
              "      <td>transmission_Semi-Auto</td>\n",
              "      <td>0.002558</td>\n",
              "    </tr>\n",
              "  </tbody>\n",
              "</table>\n",
              "</div>\n",
              "    <div class=\"colab-df-buttons\">\n",
              "\n",
              "  <div class=\"colab-df-container\">\n",
              "    <button class=\"colab-df-convert\" onclick=\"convertToInteractive('df-9e65b99e-7960-482a-8b3f-b005eab1dba2')\"\n",
              "            title=\"Convert this dataframe to an interactive table.\"\n",
              "            style=\"display:none;\">\n",
              "\n",
              "  <svg xmlns=\"http://www.w3.org/2000/svg\" height=\"24px\" viewBox=\"0 -960 960 960\">\n",
              "    <path d=\"M120-120v-720h720v720H120Zm60-500h600v-160H180v160Zm220 220h160v-160H400v160Zm0 220h160v-160H400v160ZM180-400h160v-160H180v160Zm440 0h160v-160H620v160ZM180-180h160v-160H180v160Zm440 0h160v-160H620v160Z\"/>\n",
              "  </svg>\n",
              "    </button>\n",
              "\n",
              "  <style>\n",
              "    .colab-df-container {\n",
              "      display:flex;\n",
              "      gap: 12px;\n",
              "    }\n",
              "\n",
              "    .colab-df-convert {\n",
              "      background-color: #E8F0FE;\n",
              "      border: none;\n",
              "      border-radius: 50%;\n",
              "      cursor: pointer;\n",
              "      display: none;\n",
              "      fill: #1967D2;\n",
              "      height: 32px;\n",
              "      padding: 0 0 0 0;\n",
              "      width: 32px;\n",
              "    }\n",
              "\n",
              "    .colab-df-convert:hover {\n",
              "      background-color: #E2EBFA;\n",
              "      box-shadow: 0px 1px 2px rgba(60, 64, 67, 0.3), 0px 1px 3px 1px rgba(60, 64, 67, 0.15);\n",
              "      fill: #174EA6;\n",
              "    }\n",
              "\n",
              "    .colab-df-buttons div {\n",
              "      margin-bottom: 4px;\n",
              "    }\n",
              "\n",
              "    [theme=dark] .colab-df-convert {\n",
              "      background-color: #3B4455;\n",
              "      fill: #D2E3FC;\n",
              "    }\n",
              "\n",
              "    [theme=dark] .colab-df-convert:hover {\n",
              "      background-color: #434B5C;\n",
              "      box-shadow: 0px 1px 3px 1px rgba(0, 0, 0, 0.15);\n",
              "      filter: drop-shadow(0px 1px 2px rgba(0, 0, 0, 0.3));\n",
              "      fill: #FFFFFF;\n",
              "    }\n",
              "  </style>\n",
              "\n",
              "    <script>\n",
              "      const buttonEl =\n",
              "        document.querySelector('#df-9e65b99e-7960-482a-8b3f-b005eab1dba2 button.colab-df-convert');\n",
              "      buttonEl.style.display =\n",
              "        google.colab.kernel.accessAllowed ? 'block' : 'none';\n",
              "\n",
              "      async function convertToInteractive(key) {\n",
              "        const element = document.querySelector('#df-9e65b99e-7960-482a-8b3f-b005eab1dba2');\n",
              "        const dataTable =\n",
              "          await google.colab.kernel.invokeFunction('convertToInteractive',\n",
              "                                                    [key], {});\n",
              "        if (!dataTable) return;\n",
              "\n",
              "        const docLinkHtml = 'Like what you see? Visit the ' +\n",
              "          '<a target=\"_blank\" href=https://colab.research.google.com/notebooks/data_table.ipynb>data table notebook</a>'\n",
              "          + ' to learn more about interactive tables.';\n",
              "        element.innerHTML = '';\n",
              "        dataTable['output_type'] = 'display_data';\n",
              "        await google.colab.output.renderOutput(dataTable, element);\n",
              "        const docLink = document.createElement('div');\n",
              "        docLink.innerHTML = docLinkHtml;\n",
              "        element.appendChild(docLink);\n",
              "      }\n",
              "    </script>\n",
              "  </div>\n",
              "\n",
              "\n",
              "    <div id=\"df-958c7227-60bb-4af0-9adc-2def70cb0770\">\n",
              "      <button class=\"colab-df-quickchart\" onclick=\"quickchart('df-958c7227-60bb-4af0-9adc-2def70cb0770')\"\n",
              "                title=\"Suggest charts\"\n",
              "                style=\"display:none;\">\n",
              "\n",
              "<svg xmlns=\"http://www.w3.org/2000/svg\" height=\"24px\"viewBox=\"0 0 24 24\"\n",
              "     width=\"24px\">\n",
              "    <g>\n",
              "        <path d=\"M19 3H5c-1.1 0-2 .9-2 2v14c0 1.1.9 2 2 2h14c1.1 0 2-.9 2-2V5c0-1.1-.9-2-2-2zM9 17H7v-7h2v7zm4 0h-2V7h2v10zm4 0h-2v-4h2v4z\"/>\n",
              "    </g>\n",
              "</svg>\n",
              "      </button>\n",
              "\n",
              "<style>\n",
              "  .colab-df-quickchart {\n",
              "      --bg-color: #E8F0FE;\n",
              "      --fill-color: #1967D2;\n",
              "      --hover-bg-color: #E2EBFA;\n",
              "      --hover-fill-color: #174EA6;\n",
              "      --disabled-fill-color: #AAA;\n",
              "      --disabled-bg-color: #DDD;\n",
              "  }\n",
              "\n",
              "  [theme=dark] .colab-df-quickchart {\n",
              "      --bg-color: #3B4455;\n",
              "      --fill-color: #D2E3FC;\n",
              "      --hover-bg-color: #434B5C;\n",
              "      --hover-fill-color: #FFFFFF;\n",
              "      --disabled-bg-color: #3B4455;\n",
              "      --disabled-fill-color: #666;\n",
              "  }\n",
              "\n",
              "  .colab-df-quickchart {\n",
              "    background-color: var(--bg-color);\n",
              "    border: none;\n",
              "    border-radius: 50%;\n",
              "    cursor: pointer;\n",
              "    display: none;\n",
              "    fill: var(--fill-color);\n",
              "    height: 32px;\n",
              "    padding: 0;\n",
              "    width: 32px;\n",
              "  }\n",
              "\n",
              "  .colab-df-quickchart:hover {\n",
              "    background-color: var(--hover-bg-color);\n",
              "    box-shadow: 0 1px 2px rgba(60, 64, 67, 0.3), 0 1px 3px 1px rgba(60, 64, 67, 0.15);\n",
              "    fill: var(--button-hover-fill-color);\n",
              "  }\n",
              "\n",
              "  .colab-df-quickchart-complete:disabled,\n",
              "  .colab-df-quickchart-complete:disabled:hover {\n",
              "    background-color: var(--disabled-bg-color);\n",
              "    fill: var(--disabled-fill-color);\n",
              "    box-shadow: none;\n",
              "  }\n",
              "\n",
              "  .colab-df-spinner {\n",
              "    border: 2px solid var(--fill-color);\n",
              "    border-color: transparent;\n",
              "    border-bottom-color: var(--fill-color);\n",
              "    animation:\n",
              "      spin 1s steps(1) infinite;\n",
              "  }\n",
              "\n",
              "  @keyframes spin {\n",
              "    0% {\n",
              "      border-color: transparent;\n",
              "      border-bottom-color: var(--fill-color);\n",
              "      border-left-color: var(--fill-color);\n",
              "    }\n",
              "    20% {\n",
              "      border-color: transparent;\n",
              "      border-left-color: var(--fill-color);\n",
              "      border-top-color: var(--fill-color);\n",
              "    }\n",
              "    30% {\n",
              "      border-color: transparent;\n",
              "      border-left-color: var(--fill-color);\n",
              "      border-top-color: var(--fill-color);\n",
              "      border-right-color: var(--fill-color);\n",
              "    }\n",
              "    40% {\n",
              "      border-color: transparent;\n",
              "      border-right-color: var(--fill-color);\n",
              "      border-top-color: var(--fill-color);\n",
              "    }\n",
              "    60% {\n",
              "      border-color: transparent;\n",
              "      border-right-color: var(--fill-color);\n",
              "    }\n",
              "    80% {\n",
              "      border-color: transparent;\n",
              "      border-right-color: var(--fill-color);\n",
              "      border-bottom-color: var(--fill-color);\n",
              "    }\n",
              "    90% {\n",
              "      border-color: transparent;\n",
              "      border-bottom-color: var(--fill-color);\n",
              "    }\n",
              "  }\n",
              "</style>\n",
              "\n",
              "      <script>\n",
              "        async function quickchart(key) {\n",
              "          const quickchartButtonEl =\n",
              "            document.querySelector('#' + key + ' button');\n",
              "          quickchartButtonEl.disabled = true;  // To prevent multiple clicks.\n",
              "          quickchartButtonEl.classList.add('colab-df-spinner');\n",
              "          try {\n",
              "            const charts = await google.colab.kernel.invokeFunction(\n",
              "                'suggestCharts', [key], {});\n",
              "          } catch (error) {\n",
              "            console.error('Error during call to suggestCharts:', error);\n",
              "          }\n",
              "          quickchartButtonEl.classList.remove('colab-df-spinner');\n",
              "          quickchartButtonEl.classList.add('colab-df-quickchart-complete');\n",
              "        }\n",
              "        (() => {\n",
              "          let quickchartButtonEl =\n",
              "            document.querySelector('#df-958c7227-60bb-4af0-9adc-2def70cb0770 button');\n",
              "          quickchartButtonEl.style.display =\n",
              "            google.colab.kernel.accessAllowed ? 'block' : 'none';\n",
              "        })();\n",
              "      </script>\n",
              "    </div>\n",
              "\n",
              "    </div>\n",
              "  </div>\n"
            ],
            "application/vnd.google.colaboratory.intrinsic+json": {
              "type": "dataframe",
              "summary": "{\n  \"name\": \"importance_df\",\n  \"rows\": 7,\n  \"fields\": [\n    {\n      \"column\": \"Feature\",\n      \"properties\": {\n        \"dtype\": \"string\",\n        \"num_unique_values\": 7,\n        \"samples\": [\n          \"year\",\n          \"engineSize\",\n          \"transmission_Manual\"\n        ],\n        \"semantic_type\": \"\",\n        \"description\": \"\"\n      }\n    },\n    {\n      \"column\": \"Importance\",\n      \"properties\": {\n        \"dtype\": \"number\",\n        \"std\": 0.1830211417771643,\n        \"min\": 0.0025577586808803406,\n        \"max\": 0.4874442794169389,\n        \"num_unique_values\": 7,\n        \"samples\": [\n          0.4874442794169389,\n          0.2943962012807112,\n          0.006393884241189205\n        ],\n        \"semantic_type\": \"\",\n        \"description\": \"\"\n      }\n    }\n  ]\n}"
            }
          },
          "metadata": {},
          "execution_count": 13
        }
      ]
    },
    {
      "cell_type": "markdown",
      "source": [
        "# ✅ Tallaabada 8.1: Filter X oo kaliya features-ka muhiimka ah ee la xushay\n"
      ],
      "metadata": {
        "id": "-QzC8g73TNPs"
      }
    },
    {
      "cell_type": "code",
      "source": [
        "# ✅ Tallaabada 8.1: Filter X oo kaliya features-ka muhiimka ah ee la xushay\n",
        "\n",
        "selected_features = ['year', 'engineSize', 'mpg', 'mileage', 'tax', 'transmission_Manual']\n",
        "X = X[selected_features]\n",
        "\n",
        "# Hubi shape-ka cusub\n",
        "print(\"✅ Features-ka haray kadib selection:\")\n",
        "print(X.columns)\n"
      ],
      "metadata": {
        "colab": {
          "base_uri": "https://localhost:8080/"
        },
        "id": "WawrqpxwTN7m",
        "outputId": "dc27f786-4d3c-42ff-b5d8-3bc49bef8c01"
      },
      "execution_count": null,
      "outputs": [
        {
          "output_type": "stream",
          "name": "stdout",
          "text": [
            "✅ Features-ka haray kadib selection:\n",
            "Index(['year', 'engineSize', 'mpg', 'mileage', 'tax', 'transmission_Manual'], dtype='object')\n"
          ]
        }
      ]
    },
    {
      "cell_type": "markdown",
      "source": [
        "# ✅ Tallaabada 9: Qaybinta X iyo y → 80% tababar, 20% tijaabo"
      ],
      "metadata": {
        "id": "UXFbh8lXVdNW"
      }
    },
    {
      "cell_type": "code",
      "source": [
        "# ✅ Tallaabada 9: Qaybinta X iyo y → 80% tababar, 20% tijaabo\n",
        "\n",
        "from sklearn.model_selection import train_test_split\n",
        "\n",
        "X_train, X_test, y_train, y_test = train_test_split(\n",
        "    X, y, test_size=0.2, random_state=42)\n",
        "\n",
        "# Hubinta shapes\n",
        "print(\"✅ X_train shape:\", X_train.shape)\n",
        "print(\"✅ X_test shape:\", X_test.shape)\n",
        "print(\"✅ y_train shape:\", y_train.shape)\n",
        "print(\"✅ y_test shape:\", y_test.shape)\n"
      ],
      "metadata": {
        "colab": {
          "base_uri": "https://localhost:8080/"
        },
        "id": "qB2aEug8VaW8",
        "outputId": "0629cd56-2a60-4de2-b933-5be2606ecfdf"
      },
      "execution_count": null,
      "outputs": [
        {
          "output_type": "stream",
          "name": "stdout",
          "text": [
            "✅ X_train shape: (14248, 6)\n",
            "✅ X_test shape: (3563, 6)\n",
            "✅ y_train shape: (14248,)\n",
            "✅ y_test shape: (3563,)\n"
          ]
        }
      ]
    },
    {
      "cell_type": "markdown",
      "source": [
        "# ✅ Tallaabada 10.1: Hyperparameter Tuning ka hor model training (GridSearchCV)\n"
      ],
      "metadata": {
        "id": "oaz8l2InVwPl"
      }
    },
    {
      "cell_type": "code",
      "source": [
        "# ✅ Tallaabada 10.1: Hyperparameter Tuning ka hor model training (GridSearchCV)\n",
        "\n",
        "from sklearn.ensemble import RandomForestRegressor\n",
        "from sklearn.model_selection import GridSearchCV\n",
        "\n",
        "# Abuur model-ka asalka ah\n",
        "rf = RandomForestRegressor(random_state=42)\n",
        "\n",
        "# Hyperparameters-ka la tijaabinayo\n",
        "param_grid = {\n",
        "    'n_estimators': [100, 200],\n",
        "    'max_depth': [None, 10, 20],\n",
        "    'min_samples_split': [2, 5],\n",
        "}\n",
        "\n",
        "# Abuur GridSearchCV\n",
        "grid_search = GridSearchCV(estimator=rf, param_grid=param_grid,\n",
        "                           cv=3, scoring='r2', n_jobs=-1, verbose=1)\n",
        "\n",
        "# Ku ordi xogta tababarka\n",
        "grid_search.fit(X_train, y_train)\n",
        "\n",
        "# Model-ka ugu fiican\n",
        "best_rf = grid_search.best_estimator_\n",
        "print(\"✅ Model-ka ugu fiican:\", best_rf)\n"
      ],
      "metadata": {
        "colab": {
          "base_uri": "https://localhost:8080/"
        },
        "id": "JDaFfYLnVfnC",
        "outputId": "0a3c14ce-1d22-438e-c282-42905006566d"
      },
      "execution_count": null,
      "outputs": [
        {
          "output_type": "stream",
          "name": "stdout",
          "text": [
            "Fitting 3 folds for each of 12 candidates, totalling 36 fits\n",
            "✅ Model-ka ugu fiican: RandomForestRegressor(max_depth=10, min_samples_split=5, n_estimators=200,\n",
            "                      random_state=42)\n"
          ]
        }
      ]
    },
    {
      "cell_type": "markdown",
      "source": [],
      "metadata": {
        "id": "W9Zkve4QXx4X"
      }
    },
    {
      "cell_type": "code",
      "source": [
        "# ✅ Tallaabada 11: Tababar model-ka ugu fiican & Qiimeyn (MAE, RMSE, R2) + sawir\n",
        "\n",
        "from sklearn.metrics import mean_absolute_error, mean_squared_error, r2_score\n",
        "import numpy as np\n",
        "import matplotlib.pyplot as plt\n",
        "\n",
        "# Tababar model-ka ugu fiican\n",
        "best_rf.fit(X_train, y_train)\n",
        "\n",
        "# Saadaal\n",
        "y_pred = best_rf.predict(X_test)\n",
        "\n",
        "# Qiimeyn\n",
        "mae = mean_absolute_error(y_test, y_pred)\n",
        "rmse = np.sqrt(mean_squared_error(y_test, y_pred))\n",
        "r2 = r2_score(y_test, y_pred)\n",
        "\n",
        "print(\"✅ Qiimeynta Random Forest Model:\")\n",
        "print(\"📌 MAE  =\", round(mae, 2))\n",
        "print(\"📌 RMSE =\", round(rmse, 2))\n",
        "print(\"📌 R²   =\", round(r2, 4))\n",
        "\n",
        "\n"
      ],
      "metadata": {
        "colab": {
          "base_uri": "https://localhost:8080/"
        },
        "id": "MkarZ2-GXxcE",
        "outputId": "4e98b44b-c814-44a7-dee0-77f060eb2e64"
      },
      "execution_count": null,
      "outputs": [
        {
          "output_type": "stream",
          "name": "stdout",
          "text": [
            "✅ Qiimeynta Random Forest Model:\n",
            "📌 MAE  = 938.2\n",
            "📌 RMSE = 1329.7\n",
            "📌 R²   = 0.9227\n"
          ]
        }
      ]
    },
    {
      "cell_type": "code",
      "source": [
        "# Sawir: Qiimaha Dhabta ah vs Qiimaha Saadaasha ah\n",
        "plt.figure(figsize=(8,6))\n",
        "plt.scatter(y_test, y_pred, alpha=0.5, color='blue')\n",
        "plt.plot([y_test.min(), y_test.max()], [y_test.min(), y_test.max()], '--r')\n",
        "plt.title(\"📊 Qiimaha Dhabta ah vs Qiimaha Saadaasha ah (Random Forest)\")\n",
        "plt.xlabel(\"Qiimaha Dhabta ah\")\n",
        "plt.ylabel(\"Qiimaha Saadaasha ah\")\n",
        "plt.grid(True)\n",
        "plt.show()"
      ],
      "metadata": {
        "colab": {
          "base_uri": "https://localhost:8080/",
          "height": 619
        },
        "id": "nMCrH34zX5fT",
        "outputId": "6f9399b9-66f1-455c-9521-a1a2f7fcc510"
      },
      "execution_count": null,
      "outputs": [
        {
          "output_type": "stream",
          "name": "stderr",
          "text": [
            "/usr/local/lib/python3.11/dist-packages/IPython/core/pylabtools.py:151: UserWarning: Glyph 128202 (\\N{BAR CHART}) missing from font(s) DejaVu Sans.\n",
            "  fig.canvas.print_figure(bytes_io, **kw)\n"
          ]
        },
        {
          "output_type": "display_data",
          "data": {
            "text/plain": [
              "<Figure size 800x600 with 1 Axes>"
            ],
            "image/png": "[encoded data removed]"
          },
          "metadata": {}
        }
      ]
    },
    {
      "cell_type": "code",
      "source": [
        "# ✅ Qodobbada la rabaa: year, engineSize, mpg, mileage, tax, transmission_Manual\n",
        "\n",
        "import pandas as pd\n",
        "\n",
        "# Tusaale: Gaariga cusub\n",
        "new_car = pd.DataFrame([{\n",
        "    \"year\": 2020,\n",
        "    \"engineSize\": 1.6,\n",
        "    \"mpg\": 55.4,\n",
        "    \"mileage\": 15000,\n",
        "    \"tax\": 145,\n",
        "    \"transmission_Manual\": 1  # 1 = Manual, 0 = Semi-Auto\n",
        "}])\n",
        "\n",
        "# Saadaal samee\n",
        "new_price = best_rf.predict(new_car)[0]\n",
        "\n",
        "# Daabac natiijada\n",
        "print(f\"🚗 Qiimaha lagu saadaaliyay gaariga cusub waa: {round(new_price, 2)}\")\n"
      ],
      "metadata": {
        "colab": {
          "base_uri": "https://localhost:8080/"
        },
        "id": "gpROZdKXYdvZ",
        "outputId": "4011b6e5-f3c8-4794-e68c-890094cfa3f3"
      },
      "execution_count": null,
      "outputs": [
        {
          "output_type": "stream",
          "name": "stdout",
          "text": [
            "🚗 Qiimaha lagu saadaaliyay gaariga cusub waa: 12259.43\n"
          ]
        }
      ]
    },
    {
      "cell_type": "markdown",
      "source": [
        "#tababarka catboost"
      ],
      "metadata": {
        "id": "bepHMCedY3uJ"
      }
    },
    {
      "cell_type": "code",
      "source": [
        "!pip install catboost\n"
      ],
      "metadata": {
        "colab": {
          "base_uri": "https://localhost:8080/"
        },
        "id": "DrwCVrR5Y7bn",
        "outputId": "165b9a2e-3fd6-4dfa-9620-c899f585c703"
      },
      "execution_count": null,
      "outputs": [
        {
          "output_type": "stream",
          "name": "stdout",
          "text": [
            "Collecting catboost\n",
            "  Downloading catboost-1.2.8-cp311-cp311-manylinux2014_x86_64.whl.metadata (1.2 kB)\n",
            "Requirement already satisfied: graphviz in /usr/local/lib/python3.11/dist-packages (from catboost) (0.21)\n",
            "Requirement already satisfied: matplotlib in /usr/local/lib/python3.11/dist-packages (from catboost) (3.10.0)\n",
            "Requirement already satisfied: numpy<3.0,>=1.16.0 in /usr/local/lib/python3.11/dist-packages (from catboost) (2.0.2)\n",
            "Requirement already satisfied: pandas>=0.24 in /usr/local/lib/python3.11/dist-packages (from catboost) (2.2.2)\n",
            "Requirement already satisfied: scipy in /usr/local/lib/python3.11/dist-packages (from catboost) (1.16.1)\n",
            "Requirement already satisfied: plotly in /usr/local/lib/python3.11/dist-packages (from catboost) (5.24.1)\n",
            "Requirement already satisfied: six in /usr/local/lib/python3.11/dist-packages (from catboost) (1.17.0)\n",
            "Requirement already satisfied: python-dateutil>=2.8.2 in /usr/local/lib/python3.11/dist-packages (from pandas>=0.24->catboost) (2.9.0.post0)\n",
            "Requirement already satisfied: pytz>=2020.1 in /usr/local/lib/python3.11/dist-packages (from pandas>=0.24->catboost) (2025.2)\n",
            "Requirement already satisfied: tzdata>=2022.7 in /usr/local/lib/python3.11/dist-packages (from pandas>=0.24->catboost) (2025.2)\n",
            "Requirement already satisfied: contourpy>=1.0.1 in /usr/local/lib/python3.11/dist-packages (from matplotlib->catboost) (1.3.3)\n",
            "Requirement already satisfied: cycler>=0.10 in /usr/local/lib/python3.11/dist-packages (from matplotlib->catboost) (0.12.1)\n",
            "Requirement already satisfied: fonttools>=4.22.0 in /usr/local/lib/python3.11/dist-packages (from matplotlib->catboost) (4.59.0)\n",
            "Requirement already satisfied: kiwisolver>=1.3.1 in /usr/local/lib/python3.11/dist-packages (from matplotlib->catboost) (1.4.8)\n",
            "Requirement already satisfied: packaging>=20.0 in /usr/local/lib/python3.11/dist-packages (from matplotlib->catboost) (25.0)\n",
            "Requirement already satisfied: pillow>=8 in /usr/local/lib/python3.11/dist-packages (from matplotlib->catboost) (11.3.0)\n",
            "Requirement already satisfied: pyparsing>=2.3.1 in /usr/local/lib/python3.11/dist-packages (from matplotlib->catboost) (3.2.3)\n",
            "Requirement already satisfied: tenacity>=6.2.0 in /usr/local/lib/python3.11/dist-packages (from plotly->catboost) (8.5.0)\n",
            "Downloading catboost-1.2.8-cp311-cp311-manylinux2014_x86_64.whl (99.2 MB)\n",
            "\u001b[2K   \u001b[90m━━━━━━━━━━━━━━━━━━━━━━━━━━━━━━━━━━━━━━━━\u001b[0m \u001b[32m99.2/99.2 MB\u001b[0m \u001b[31m8.4 MB/s\u001b[0m eta \u001b[36m0:00:00\u001b[0m\n",
            "\u001b[?25hInstalling collected packages: catboost\n",
            "Successfully installed catboost-1.2.8\n"
          ]
        }
      ]
    },
    {
      "cell_type": "code",
      "source": [
        "# 1. Import modelka CatBoost\n",
        "from catboost import CatBoostRegressor\n",
        "\n",
        "# 2. Abuur modelka CatBoost\n",
        "cat_model = CatBoostRegressor(\n",
        "    iterations=500,\n",
        "    depth=6,\n",
        "    learning_rate=0.1,\n",
        "    loss_function='RMSE',\n",
        "    random_seed=42,\n",
        "    verbose=0  # 0 = ha daabicin wax war ah intuu tababarayo\n",
        ")\n",
        "\n",
        "# 3. Tababar model-ka\n",
        "cat_model.fit(X_train, y_train)\n",
        "\n",
        "# 4. Prediction samee\n",
        "y_pred_cat = cat_model.predict(X_test)\n",
        "\n",
        "# 5. Qiimee model-ka\n",
        "from sklearn.metrics import mean_absolute_error, mean_squared_error, r2_score\n",
        "import numpy as np\n",
        "\n",
        "mae = mean_absolute_error(y_test, y_pred_cat)\n",
        "rmse = np.sqrt(mean_squared_error(y_test, y_pred_cat))\n",
        "r2 = r2_score(y_test, y_pred_cat)\n",
        "\n",
        "# 6. Natiijada\n",
        "print(\"📊 Qiimeynta CatBoost Model:\")\n",
        "print(\"✅ MAE  =\", round(mae, 2))\n",
        "print(\"✅ RMSE =\", round(rmse, 2))\n",
        "print(\"✅ R²   =\", round(r2, 4))\n"
      ],
      "metadata": {
        "colab": {
          "base_uri": "https://localhost:8080/"
        },
        "id": "v-EogmioY-9B",
        "outputId": "e0136bfe-804e-4d9d-c078-02aa14ba810b"
      },
      "execution_count": null,
      "outputs": [
        {
          "output_type": "stream",
          "name": "stdout",
          "text": [
            "📊 Qiimeynta CatBoost Model:\n",
            "✅ MAE  = 913.57\n",
            "✅ RMSE = 1309.91\n",
            "✅ R²   = 0.925\n"
          ]
        }
      ]
    },
    {
      "cell_type": "code",
      "source": [
        "# ✅ Qodobada: year, engineSize, mpg, mileage, tax, transmission_Manual\n",
        "\n",
        "# 1. Geli xogta gaariga cusub (tusaale ahaan)\n",
        "new_car = pd.DataFrame([{\n",
        "    'year': 2020,\n",
        "    'engineSize': 1.6,\n",
        "    'mpg': 55.4,\n",
        "    'mileage': 15000,\n",
        "    'tax': 145,\n",
        "    'transmission_Manual': 1  # 1 = Manual, 0 = Haddii kale\n",
        "}])\n",
        "\n",
        "# 2. Prediction\n",
        "new_price = cat_model.predict(new_car)[0]\n",
        "\n",
        "# 3. Daabac natiijada\n",
        "print(f\"🚗 Qiimaha lagu saadaaliyay gaariga cusub waa: {round(new_price, 2)}\")\n"
      ],
      "metadata": {
        "colab": {
          "base_uri": "https://localhost:8080/"
        },
        "id": "x_VZz_1AZTyq",
        "outputId": "e932f910-0fc4-44ea-9085-e85a8f21dba0"
      },
      "execution_count": null,
      "outputs": [
        {
          "output_type": "stream",
          "name": "stdout",
          "text": [
            "🚗 Qiimaha lagu saadaaliyay gaariga cusub waa: 18138.01\n"
          ]
        }
      ]
    },
    {
      "cell_type": "markdown",
      "source": [
        "#tababarka HistGradientBoostingRegressor"
      ],
      "metadata": {
        "id": "Tky0_p3tZuW5"
      }
    },
    {
      "cell_type": "code",
      "source": [
        "from sklearn.ensemble import HistGradientBoostingRegressor\n",
        "\n",
        "# Model-ka abuuri\n",
        "hgb_model = HistGradientBoostingRegressor(max_iter=500, max_depth=10, random_state=42)\n",
        "\n",
        "# Tababar model-ka\n",
        "hgb_model.fit(X_train, y_train)\n",
        "\n",
        "# Caddeyn in tababar la dhammeeyay\n",
        "print(\"✅ HistGradientBoostingRegressor si guul leh ayaa loo tababaray.\")\n",
        "\n",
        "# Prediction\n",
        "y_pred_hgb = hgb_model.predict(X_test)\n"
      ],
      "metadata": {
        "colab": {
          "base_uri": "https://localhost:8080/"
        },
        "id": "zBW1mRxwZu_0",
        "outputId": "64be2571-eeca-4622-d9ac-2ae1e6a3b240"
      },
      "execution_count": null,
      "outputs": [
        {
          "output_type": "stream",
          "name": "stdout",
          "text": [
            "✅ HistGradientBoostingRegressor si guul leh ayaa loo tababaray.\n"
          ]
        }
      ]
    },
    {
      "cell_type": "code",
      "source": [
        "from sklearn.metrics import mean_absolute_error, mean_squared_error, r2_score\n",
        "import numpy as np\n",
        "\n",
        "mae = mean_absolute_error(y_test, y_pred_hgb)\n",
        "rmse = np.sqrt(mean_squared_error(y_test, y_pred_hgb))\n",
        "r2 = r2_score(y_test, y_pred_hgb)\n",
        "\n",
        "print(\"📊 Qiimeynta HistGradientBoosting Model:\")\n",
        "print(\"✅ MAE  =\", round(mae, 2))\n",
        "print(\"✅ RMSE =\", round(rmse, 2))\n",
        "print(\"✅ R²   =\", round(r2, 4))\n"
      ],
      "metadata": {
        "colab": {
          "base_uri": "https://localhost:8080/"
        },
        "id": "Ae-5NaNLaKRO",
        "outputId": "946ef719-6314-4c87-8d9c-2262fde899cc"
      },
      "execution_count": null,
      "outputs": [
        {
          "output_type": "stream",
          "name": "stdout",
          "text": [
            "📊 Qiimeynta HistGradientBoosting Model:\n",
            "✅ MAE  = 917.1\n",
            "✅ RMSE = 1315.07\n",
            "✅ R²   = 0.9244\n"
          ]
        }
      ]
    },
    {
      "cell_type": "code",
      "source": [
        "new_car = pd.DataFrame([{\n",
        "    'year': 2020,\n",
        "    'engineSize': 1.6,\n",
        "    'mpg': 55.4,\n",
        "    'mileage': 15000,\n",
        "    'tax': 145,\n",
        "    'transmission_Manual': 1\n",
        "}])\n",
        "\n",
        "pred_price = hgb_model.predict(new_car)[0]\n",
        "print(f\"🚗 Qiimaha lagu saadaaliyay gaariga cusub waa: {round(pred_price, 2)}\")\n"
      ],
      "metadata": {
        "colab": {
          "base_uri": "https://localhost:8080/"
        },
        "id": "955SvS28aS3u",
        "outputId": "faa38a9b-0549-40eb-bf21-439b60016156"
      },
      "execution_count": null,
      "outputs": [
        {
          "output_type": "stream",
          "name": "stdout",
          "text": [
            "🚗 Qiimaha lagu saadaaliyay gaariga cusub waa: 21878.41\n"
          ]
        }
      ]
    },
    {
      "cell_type": "markdown",
      "source": [
        "#tababarka decision tree"
      ],
      "metadata": {
        "id": "sHEb-ywfbCgK"
      }
    },
    {
      "cell_type": "code",
      "source": [
        "# 1. Import modelka\n",
        "from sklearn.tree import DecisionTreeRegressor\n",
        "\n",
        "# 2. Abuur modelka\n",
        "dt_model = DecisionTreeRegressor(max_depth=10, random_state=42)\n",
        "\n",
        "# 3. Tababar model-ka\n",
        "dt_model.fit(X_train, y_train)\n",
        "\n",
        "# 4. Caddeyn in si guul leh loo tababaray\n",
        "print(\"✅ DecisionTreeRegressor si guul leh ayaa loo tababaray.\")\n",
        "\n",
        "# 5. Samee prediction\n",
        "y_pred_dt = dt_model.predict(X_test)\n"
      ],
      "metadata": {
        "colab": {
          "base_uri": "https://localhost:8080/"
        },
        "id": "J1Ug3QrdaWpA",
        "outputId": "57c2a1eb-3c24-496a-f5e1-5fd7d9e0a3f9"
      },
      "execution_count": null,
      "outputs": [
        {
          "output_type": "stream",
          "name": "stdout",
          "text": [
            "✅ DecisionTreeRegressor si guul leh ayaa loo tababaray.\n"
          ]
        }
      ]
    },
    {
      "cell_type": "code",
      "source": [
        "from sklearn.metrics import mean_absolute_error, mean_squared_error, r2_score\n",
        "import numpy as np\n",
        "\n",
        "mae = mean_absolute_error(y_test, y_pred_dt)\n",
        "rmse = np.sqrt(mean_squared_error(y_test, y_pred_dt))\n",
        "r2 = r2_score(y_test, y_pred_dt)\n",
        "\n",
        "print(\"📊 Qiimeynta Decision Tree Model:\")\n",
        "print(\"✅ MAE  =\", round(mae, 2))\n",
        "print(\"✅ RMSE =\", round(rmse, 2))\n",
        "print(\"✅ R²   =\", round(r2, 4))\n"
      ],
      "metadata": {
        "colab": {
          "base_uri": "https://localhost:8080/"
        },
        "id": "ux1IypZSawaW",
        "outputId": "f9773998-69ae-4021-e1aa-bdc7d2a0dbdc"
      },
      "execution_count": null,
      "outputs": [
        {
          "output_type": "stream",
          "name": "stdout",
          "text": [
            "📊 Qiimeynta Decision Tree Model:\n",
            "✅ MAE  = 1024.65\n",
            "✅ RMSE = 1512.6\n",
            "✅ R²   = 0.8999\n"
          ]
        }
      ]
    },
    {
      "cell_type": "markdown",
      "source": [
        "# new prediction"
      ],
      "metadata": {
        "id": "8o0yH2TDa0Yy"
      }
    },
    {
      "cell_type": "code",
      "source": [
        "new_car = pd.DataFrame([{\n",
        "    'year': 2020,\n",
        "    'engineSize': 1.6,\n",
        "    'mpg': 55.4,\n",
        "    'mileage': 15000,\n",
        "    'tax': 145,\n",
        "    'transmission_Manual': 1\n",
        "}])\n",
        "\n",
        "pred_price_dt = dt_model.predict(new_car)[0]\n",
        "print(f\"🚗 Qiimaha lagu saadaaliyay gaariga cusub (Decision Tree): {round(pred_price_dt, 2)}\")\n"
      ],
      "metadata": {
        "colab": {
          "base_uri": "https://localhost:8080/"
        },
        "id": "_mbTKDE1a2zm",
        "outputId": "cf1b5899-3c67-46df-e312-319e3bb8505a"
      },
      "execution_count": null,
      "outputs": [
        {
          "output_type": "stream",
          "name": "stdout",
          "text": [
            "🚗 Qiimaha lagu saadaaliyay gaariga cusub (Decision Tree): 11495.0\n"
          ]
        }
      ]
    },
    {
      "cell_type": "markdown",
      "source": [
        "#tababarka LinearRegression"
      ],
      "metadata": {
        "id": "KNx09gi4b-M9"
      }
    },
    {
      "cell_type": "code",
      "source": [
        "# 1. Import modelka\n",
        "from sklearn.linear_model import LinearRegression\n",
        "\n",
        "# 2. Abuur model-ka\n",
        "lr_model = LinearRegression()\n",
        "\n",
        "# 3. Tababar model-ka\n",
        "lr_model.fit(X_train, y_train)\n",
        "\n",
        "# 4. Caddeyn in si guul leh loo tababaray\n",
        "print(\"✅ LinearRegression si guul leh ayaa loo tababaray.\")\n",
        "\n",
        "# 5. Prediction\n",
        "y_pred_lr = lr_model.predict(X_test)\n"
      ],
      "metadata": {
        "colab": {
          "base_uri": "https://localhost:8080/"
        },
        "id": "_4GyUIiUb8AV",
        "outputId": "b7032bc5-da96-4f50-8117-386580930f58"
      },
      "execution_count": null,
      "outputs": [
        {
          "output_type": "stream",
          "name": "stdout",
          "text": [
            "✅ LinearRegression si guul leh ayaa loo tababaray.\n"
          ]
        }
      ]
    },
    {
      "cell_type": "code",
      "source": [
        "from sklearn.metrics import mean_absolute_error, mean_squared_error, r2_score\n",
        "import numpy as np\n",
        "\n",
        "mae = mean_absolute_error(y_test, y_pred_lr)\n",
        "rmse = np.sqrt(mean_squared_error(y_test, y_pred_lr))\n",
        "r2 = r2_score(y_test, y_pred_lr)\n",
        "\n",
        "print(\"📊 Qiimeynta Linear Regression Model:\")\n",
        "print(\"✅ MAE  =\", round(mae, 2))\n",
        "print(\"✅ RMSE =\", round(rmse, 2))\n",
        "print(\"✅ R²   =\", round(r2, 4))\n"
      ],
      "metadata": {
        "colab": {
          "base_uri": "https://localhost:8080/"
        },
        "id": "2RuZx0LVcD8X",
        "outputId": "34ecbf7e-3fc6-498a-b3fa-7d58ba92743f"
      },
      "execution_count": null,
      "outputs": [
        {
          "output_type": "stream",
          "name": "stdout",
          "text": [
            "📊 Qiimeynta Linear Regression Model:\n",
            "✅ MAE  = 1757.82\n",
            "✅ RMSE = 2406.47\n",
            "✅ R²   = 0.7467\n"
          ]
        }
      ]
    },
    {
      "cell_type": "code",
      "source": [
        "new_car = pd.DataFrame([{\n",
        "    'year': 2020,\n",
        "    'engineSize': 1.6,\n",
        "    'mpg': 55.4,\n",
        "    'mileage': 15000,\n",
        "    'tax': 145,\n",
        "    'transmission_Manual': 1\n",
        "}])\n",
        "\n",
        "pred_price_lr = lr_model.predict(new_car)[0]\n",
        "print(f\"🚗 Qiimaha lagu saadaaliyay gaariga cusub (Linear Regression): {round(pred_price_lr, 2)}\")\n"
      ],
      "metadata": {
        "colab": {
          "base_uri": "https://localhost:8080/"
        },
        "id": "ASohSQkXcKeN",
        "outputId": "c2860962-e81a-4bf6-c67c-c6f8e000d178"
      },
      "execution_count": null,
      "outputs": [
        {
          "output_type": "stream",
          "name": "stdout",
          "text": [
            "🚗 Qiimaha lagu saadaaliyay gaariga cusub (Linear Regression): 17898.2\n"
          ]
        }
      ]
    },
    {
      "cell_type": "markdown",
      "source": [
        "#tababarka KNeighborsRegressor"
      ],
      "metadata": {
        "id": "xY-vJMXtclcE"
      }
    },
    {
      "cell_type": "code",
      "source": [
        "from sklearn.pipeline import Pipeline\n",
        "from sklearn.preprocessing import StandardScaler\n",
        "from sklearn.neighbors import KNeighborsRegressor\n",
        "from sklearn.model_selection import GridSearchCV\n",
        "\n",
        "# 1. Samee pipeline: scaler + model\n",
        "knn_pipeline = Pipeline([\n",
        "    ('scaler', StandardScaler()),\n",
        "    ('knn', KNeighborsRegressor())\n",
        "])\n",
        "\n",
        "# 2. Hyperparameter tuning: K values kala duwan tijaabi\n",
        "param_grid = {\n",
        "    'knn__n_neighbors': [3, 5, 7, 9, 11, 13]\n",
        "}\n",
        "\n",
        "# 3. Samee GridSearchCV\n",
        "grid_knn = GridSearchCV(knn_pipeline, param_grid, cv=3, scoring='r2')\n",
        "grid_knn.fit(X_train, y_train)\n",
        "\n",
        "# 4. Model-ka ugu fiican\n",
        "best_knn = grid_knn.best_estimator_\n",
        "print(\"✅ KNN Model-ka ugu fiican:\", grid_knn.best_params_)\n"
      ],
      "metadata": {
        "colab": {
          "base_uri": "https://localhost:8080/"
        },
        "id": "eB28e7kYfJZb",
        "outputId": "f7caa517-228e-4e3b-f0b9-751320c74898"
      },
      "execution_count": null,
      "outputs": [
        {
          "output_type": "stream",
          "name": "stdout",
          "text": [
            "✅ KNN Model-ka ugu fiican: {'knn__n_neighbors': 9}\n"
          ]
        }
      ]
    },
    {
      "cell_type": "code",
      "source": [
        "from sklearn.pipeline import Pipeline\n",
        "from sklearn.preprocessing import StandardScaler\n",
        "from sklearn.neighbors import KNeighborsRegressor\n",
        "\n",
        "# Samee pipeline cusub oo leh scaler + model leh k=9\n",
        "final_knn_pipeline = Pipeline([\n",
        "    ('scaler', StandardScaler()),\n",
        "    ('knn', KNeighborsRegressor(n_neighbors=9))\n",
        "])\n",
        "\n",
        "# Tababar model-ka\n",
        "final_knn_pipeline.fit(X_train, y_train)\n",
        "\n",
        "# Caddeyn\n",
        "print(\"✅ KNN (k=9) si guul leh ayaa loo tababaray.\")\n"
      ],
      "metadata": {
        "colab": {
          "base_uri": "https://localhost:8080/"
        },
        "id": "SHip1kpdgPX6",
        "outputId": "be68ae54-3188-4b82-bf30-1b7d0625985f"
      },
      "execution_count": null,
      "outputs": [
        {
          "output_type": "stream",
          "name": "stdout",
          "text": [
            "✅ KNN (k=9) si guul leh ayaa loo tababaray.\n"
          ]
        }
      ]
    },
    {
      "cell_type": "code",
      "source": [
        "# Prediction\n",
        "y_pred_final_knn = final_knn_pipeline.predict(X_test)\n",
        "\n",
        "# Qiimeyn\n",
        "from sklearn.metrics import mean_absolute_error, mean_squared_error, r2_score\n",
        "import numpy as np\n",
        "\n",
        "mae = mean_absolute_error(y_test, y_pred_final_knn)\n",
        "rmse = np.sqrt(mean_squared_error(y_test, y_pred_final_knn))\n",
        "r2 = r2_score(y_test, y_pred_final_knn)\n",
        "\n",
        "print(\"📊 Qiimeynta Final KNN (k=9):\")\n",
        "print(\"✅ MAE  =\", round(mae, 2))\n",
        "print(\"✅ RMSE =\", round(rmse, 2))\n",
        "print(\"✅ R²   =\", round(r2, 4))\n"
      ],
      "metadata": {
        "colab": {
          "base_uri": "https://localhost:8080/"
        },
        "id": "56522KFXgW9C",
        "outputId": "856c1da7-fca4-412a-fe9c-08d70aef3dd3"
      },
      "execution_count": null,
      "outputs": [
        {
          "output_type": "stream",
          "name": "stdout",
          "text": [
            "📊 Qiimeynta Final KNN (k=9):\n",
            "✅ MAE  = 986.61\n",
            "✅ RMSE = 1447.74\n",
            "✅ R²   = 0.9083\n"
          ]
        }
      ]
    },
    {
      "cell_type": "code",
      "source": [
        "# Xogta gaariga cusub\n",
        "new_car = pd.DataFrame([{\n",
        "    'year': 2020,\n",
        "    'engineSize': 1.6,\n",
        "    'mpg': 55.4,\n",
        "    'mileage': 15000,\n",
        "    'tax': 145,\n",
        "    'transmission_Manual': 1\n",
        "}])\n",
        "\n",
        "# Prediction\n",
        "new_price_knn = final_knn_pipeline.predict(new_car)[0]\n",
        "print(f\"🚗 Qiimaha lagu saadaaliyay gaariga cusub (KNN, k=9): {round(new_price_knn, 2)}\")\n"
      ],
      "metadata": {
        "colab": {
          "base_uri": "https://localhost:8080/"
        },
        "id": "qmmdDHGzgq2o",
        "outputId": "ce3ae8cb-d8c3-49f5-c6ac-9b0fb2c46616"
      },
      "execution_count": null,
      "outputs": [
        {
          "output_type": "stream",
          "name": "stdout",
          "text": [
            "🚗 Qiimaha lagu saadaaliyay gaariga cusub (KNN, k=9): 15157.33\n"
          ]
        }
      ]
    },
    {
      "cell_type": "markdown",
      "source": [
        "#TABABARKA XGOOST"
      ],
      "metadata": {
        "id": "P3uracUYixJF"
      }
    },
    {
      "cell_type": "code",
      "source": [
        "!pip install xgboost\n"
      ],
      "metadata": {
        "colab": {
          "base_uri": "https://localhost:8080/"
        },
        "id": "cvA9lbZhiyZr",
        "outputId": "050a0e24-affb-4667-ad68-ddbe22b6b270"
      },
      "execution_count": null,
      "outputs": [
        {
          "output_type": "stream",
          "name": "stdout",
          "text": [
            "Requirement already satisfied: xgboost in /usr/local/lib/python3.11/dist-packages (3.0.2)\n",
            "Requirement already satisfied: numpy in /usr/local/lib/python3.11/dist-packages (from xgboost) (2.0.2)\n",
            "Requirement already satisfied: nvidia-nccl-cu12 in /usr/local/lib/python3.11/dist-packages (from xgboost) (2.21.5)\n",
            "Requirement already satisfied: scipy in /usr/local/lib/python3.11/dist-packages (from xgboost) (1.16.1)\n"
          ]
        }
      ]
    },
    {
      "cell_type": "code",
      "source": [
        "from xgboost import XGBRegressor\n",
        "\n",
        "# Abuur model-ka\n",
        "xgb_model = XGBRegressor(n_estimators=500, max_depth=10, learning_rate=0.05, random_state=42)\n",
        "\n",
        "# Tababar\n",
        "xgb_model.fit(X_train, y_train)\n",
        "\n",
        "# Prediction\n",
        "y_pred_xgb = xgb_model.predict(X_test)\n"
      ],
      "metadata": {
        "id": "WLPaJBndi61x"
      },
      "execution_count": null,
      "outputs": []
    },
    {
      "cell_type": "code",
      "source": [
        "from sklearn.metrics import mean_absolute_error, mean_squared_error, r2_score\n",
        "import numpy as np\n",
        "\n",
        "mae = mean_absolute_error(y_test, y_pred_xgb)\n",
        "rmse = np.sqrt(mean_squared_error(y_test, y_pred_xgb))\n",
        "r2 = r2_score(y_test, y_pred_xgb)\n",
        "\n",
        "print(\"📊 Qiimeynta XGBoost Model:\")\n",
        "print(\"✅ MAE  =\", round(mae, 2))\n",
        "print(\"✅ RMSE =\", round(rmse, 2))\n",
        "print(\"✅ R²   =\", round(r2, 4))\n"
      ],
      "metadata": {
        "colab": {
          "base_uri": "https://localhost:8080/"
        },
        "id": "SDgRWHhni_uK",
        "outputId": "398d1346-8a75-4a78-e571-395b5f9ea62f"
      },
      "execution_count": null,
      "outputs": [
        {
          "output_type": "stream",
          "name": "stdout",
          "text": [
            "📊 Qiimeynta XGBoost Model:\n",
            "✅ MAE  = 942.23\n",
            "✅ RMSE = 1384.09\n",
            "✅ R²   = 0.9162\n"
          ]
        }
      ]
    },
    {
      "cell_type": "code",
      "source": [
        "import pandas as pd\n",
        "import numpy as np\n",
        "from sklearn.metrics import mean_absolute_error, mean_squared_error, r2_score\n",
        "import seaborn as sns\n",
        "import matplotlib.pyplot as plt\n",
        "\n",
        "# Tusaale ahaan, aan abuurno saadaasha (y_pred) ee 7 model\n",
        "# Ku dar model cusub: XGBoost\n",
        "\n",
        "# Qiyaasaha saadaasha (waxaa lagu beddeli karaa kuwa dhabta ah)\n",
        "np.random.seed(42)\n",
        "y_test = np.random.randint(5000, 40000, size=100)\n",
        "y_pred_rf = y_test + np.random.normal(0, 1000, size=100)\n",
        "y_pred_cat = y_test + np.random.normal(0, 950, size=100)\n",
        "y_pred_lr = y_test + np.random.normal(0, 3000, size=100)\n",
        "y_pred_dt = y_test + np.random.normal(0, 1200, size=100)\n",
        "y_pred_final_knn = y_test + np.random.normal(0, 1100, size=100)\n",
        "y_pred_hgb = y_test + np.random.normal(0, 900, size=100)\n",
        "y_pred_xgb = y_test + np.random.normal(0, 850, size=100)\n",
        "\n",
        "# Magacyada models\n",
        "model_names = ['Random Forest', 'CatBoost', 'Linear Regression', 'Decision Tree',\n",
        "               'KNN (k=9)', 'HistGradientBoost', 'XGBoost']\n",
        "\n",
        "# Natiijooyinka predictions (kala soocid)\n",
        "preds = [\n",
        "    y_pred_rf,\n",
        "    y_pred_cat,\n",
        "    y_pred_lr,\n",
        "    y_pred_dt,\n",
        "    y_pred_final_knn,\n",
        "    y_pred_hgb,\n",
        "    y_pred_xgb\n",
        "]\n",
        "\n",
        "# Xisaabi MAE, RMSE, R2\n",
        "results = []\n",
        "for y_pred_single in preds:\n",
        "    mae = mean_absolute_error(y_test, y_pred_single)\n",
        "    rmse = np.sqrt(mean_squared_error(y_test, y_pred_single))\n",
        "    r2 = r2_score(y_test, y_pred_single)\n",
        "    results.append([mae, rmse, r2])\n",
        "\n",
        "# Samee DataFrame\n",
        "results_df = pd.DataFrame(results, columns=['MAE', 'RMSE', 'R²'], index=model_names)\n",
        "\n",
        "# Sawir R² uun si aad u ogaatid kan ugu fiican\n",
        "plt.figure(figsize=(10, 6))\n",
        "sns.barplot(x=results_df.index, y=results_df['R²'], palette=\"viridis\")\n",
        "plt.xticks(rotation=45)\n",
        "plt.ylabel(\"R² Score\")\n",
        "plt.title(\"🎯 Isbarbardhiga Saxnaanta Model-yada (R²)\")\n",
        "plt.ylim(0, 1)\n",
        "plt.grid(axis='y')\n",
        "plt.tight_layout()\n",
        "plt.show()\n"
      ],
      "metadata": {
        "colab": {
          "base_uri": "https://localhost:8080/",
          "height": 755
        },
        "id": "2L9tiGYYjB2V",
        "outputId": "a5de8150-984c-4680-c268-b34e8663ddb0"
      },
      "execution_count": null,
      "outputs": [
        {
          "output_type": "stream",
          "name": "stderr",
          "text": [
            "/tmp/ipython-input-1975988949.py:49: FutureWarning: \n",
            "\n",
            "Passing `palette` without assigning `hue` is deprecated and will be removed in v0.14.0. Assign the `x` variable to `hue` and set `legend=False` for the same effect.\n",
            "\n",
            "  sns.barplot(x=results_df.index, y=results_df['R²'], palette=\"viridis\")\n",
            "/tmp/ipython-input-1975988949.py:55: UserWarning: Glyph 127919 (\\N{DIRECT HIT}) missing from font(s) DejaVu Sans.\n",
            "  plt.tight_layout()\n",
            "/usr/local/lib/python3.11/dist-packages/IPython/core/pylabtools.py:151: UserWarning: Glyph 127919 (\\N{DIRECT HIT}) missing from font(s) DejaVu Sans.\n",
            "  fig.canvas.print_figure(bytes_io, **kw)\n"
          ]
        },
        {
          "output_type": "display_data",
          "data": {
            "text/plain": [
              "<Figure size 1000x600 with 1 Axes>"
            ],
            "image/png": "[encoded data removed]"
          },
          "metadata": {}
        }
      ]
    },
    {
      "cell_type": "code",
      "source": [
        "import joblib\n",
        "import pandas as pd\n",
        "\n",
        "# Tusaale ahaan: Save selected features\n",
        "selected_features = ['year', 'engineSize', 'mpg', 'mileage', 'tax', 'transmission_Manual']\n",
        "with open('selected_features.pkl', 'wb') as f:\n",
        "    joblib.dump(selected_features, f)\n",
        "\n",
        "# Tusaale ahaan: Save feature-engineered dataframe\n",
        "# (Waxaad u baahan tahay inaad ku beddesho df_fe dataframe sax ah haddii aad magaca kale u isticmaalayso)\n",
        "try:\n",
        "    df.to_csv('feature_engineered_data.csv', index=False)\n",
        "except NameError:\n",
        "    print(\"⚠️ Fadlan hubi in 'df' uu yahay dataframe-ga feature engineering laga sameeyey.\")\n",
        "\n",
        "# Save models\n",
        "models = {\n",
        "    'RandomForest': best_rf,\n",
        "    'CatBoost': cat_model,\n",
        "    'LinearRegression': lr_model,\n",
        "    'DecisionTree': dt_model,\n",
        "    'KNN': final_knn_pipeline,\n",
        "    'HistGradientBoost': hgb_model,\n",
        "    'XGBoost': xgb_model\n",
        "}\n",
        "\n",
        "for name, model in models.items():\n",
        "    try:\n",
        "        joblib.dump(model, f'{name}_model.pkl')\n",
        "    except:\n",
        "        print(f\"⚠️ Modelka '{name}' lama helin ama ma lahan value sax ah.\")\n",
        "\n",
        "\"✅ Features, feature engineered data, and models (if available) have been saved.\""
      ],
      "metadata": {
        "colab": {
          "base_uri": "https://localhost:8080/",
          "height": 35
        },
        "id": "9uaBQL3Ooij7",
        "outputId": "d47b1dcf-0d65-4bf6-9462-649cba33963c"
      },
      "execution_count": null,
      "outputs": [
        {
          "output_type": "execute_result",
          "data": {
            "text/plain": [
              "'✅ Features, feature engineered data, and models (if available) have been saved.'"
            ],
            "application/vnd.google.colaboratory.intrinsic+json": {
              "type": "string"
            }
          },
          "metadata": {},
          "execution_count": 68
        }
      ]
    }
  ]
}