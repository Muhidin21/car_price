{
  "nbformat": 4,
  "nbformat_minor": 0,
  "metadata": {
    "colab": {
      "provenance": [],
      "gpuType": "T4"
    },
    "kernelspec": {
      "name": "python3",
      "display_name": "Python 3"
    },
    "language_info": {
      "name": "python"
    },
    "accelerator": "GPU"
  },
  "cells": [
    {
      "cell_type": "markdown",
      "source": [
        "# ✅ Tallaabada 1: Import libraries-ka lagama maarmaanka ah\n"
      ],
      "metadata": {
        "id": "XVLFtAlGIAwp"
      }
    },
    {
      "cell_type": "code",
      "execution_count": 1,
      "metadata": {
        "id": "G-Uh7qn_HazM"
      },
      "outputs": [],
      "source": [
        "# ✅ Tallaabada 1: Import libraries-ka lagama maarmaanka ah\n",
        "\n",
        "import pandas as pd                # Xog akhris/maamul\n",
        "import numpy as np                 # Xisaab & array manipulation\n",
        "import matplotlib.pyplot as plt    # Sawirro iyo visualizations\n",
        "import seaborn as sns              # Visualizations qurxoon\n",
        "\n",
        "from sklearn.model_selection import train_test_split\n",
        "from sklearn.preprocessing import StandardScaler\n",
        "from sklearn.metrics import mean_absolute_error, mean_squared_error, r2_score\n",
        "from sklearn.linear_model import LinearRegression\n",
        "from sklearn.ensemble import RandomForestRegressor, GradientBoostingRegressor, HistGradientBoostingRegressor\n",
        "from sklearn.tree import DecisionTreeRegressor\n",
        "from xgboost import XGBRegressor\n",
        "import joblib                      # Save/load models\n",
        "\n",
        "# Optional settings for seaborn\n",
        "sns.set(style=\"whitegrid\")\n"
      ]
    },
    {
      "cell_type": "markdown",
      "source": [
        "# ✅ Tallaabada 2: Akhri dataset-ka\n"
      ],
      "metadata": {
        "id": "Mh9vog-QIawy"
      }
    },
    {
      "cell_type": "code",
      "source": [
        "# ✅ Tallaabada 2: Akhri dataset-ka\n",
        "\n",
        "# 1. Upload CSV file haddii aad ku jirto Google Colab\n",
        "from google.colab import files\n",
        "uploaded = files.upload()\n",
        "\n",
        "# 2. Akhri faylka (badanaa magaciisu waa 'car_price.csv')\n",
        "df = pd.read_csv(\"/content/ford.csv\")\n",
        "\n",
        "# 3. Muuji xogta ugu horeysa\n",
        "df.head()\n"
      ],
      "metadata": {
        "colab": {
          "base_uri": "https://localhost:8080/",
          "height": 262
        },
        "id": "ZssHvCAwIZBo",
        "outputId": "b425c965-0461-4bd2-c9f9-37bf09ad25ba"
      },
      "execution_count": 3,
      "outputs": [
        {
          "output_type": "display_data",
          "data": {
            "text/plain": [
              "<IPython.core.display.HTML object>"
            ],
            "text/html": [
              "\n",
              "     <input type=\"file\" id=\"files-4e580fb5-189d-47f2-ab80-cd93f22404cc\" name=\"files[]\" multiple disabled\n",
              "        style=\"border:none\" />\n",
              "     <output id=\"result-4e580fb5-189d-47f2-ab80-cd93f22404cc\">\n",
              "      Upload widget is only available when the cell has been executed in the\n",
              "      current browser session. Please rerun this cell to enable.\n",
              "      </output>\n",
              "      <script>// Copyright 2017 Google LLC\n",
              "//\n",
              "// Licensed under the Apache License, Version 2.0 (the \"License\");\n",
              "// you may not use this file except in compliance with the License.\n",
              "// You may obtain a copy of the License at\n",
              "//\n",
              "//      http://www.apache.org/licenses/LICENSE-2.0\n",
              "//\n",
              "// Unless required by applicable law or agreed to in writing, software\n",
              "// distributed under the License is distributed on an \"AS IS\" BASIS,\n",
              "// WITHOUT WARRANTIES OR CONDITIONS OF ANY KIND, either express or implied.\n",
              "// See the License for the specific language governing permissions and\n",
              "// limitations under the License.\n",
              "\n",
              "/**\n",
              " * @fileoverview Helpers for google.colab Python module.\n",
              " */\n",
              "(function(scope) {\n",
              "function span(text, styleAttributes = {}) {\n",
              "  const element = document.createElement('span');\n",
              "  element.textContent = text;\n",
              "  for (const key of Object.keys(styleAttributes)) {\n",
              "    element.style[key] = styleAttributes[key];\n",
              "  }\n",
              "  return element;\n",
              "}\n",
              "\n",
              "// Max number of bytes which will be uploaded at a time.\n",
              "const MAX_PAYLOAD_SIZE = 100 * 1024;\n",
              "\n",
              "function _uploadFiles(inputId, outputId) {\n",
              "  const steps = uploadFilesStep(inputId, outputId);\n",
              "  const outputElement = document.getElementById(outputId);\n",
              "  // Cache steps on the outputElement to make it available for the next call\n",
              "  // to uploadFilesContinue from Python.\n",
              "  outputElement.steps = steps;\n",
              "\n",
              "  return _uploadFilesContinue(outputId);\n",
              "}\n",
              "\n",
              "// This is roughly an async generator (not supported in the browser yet),\n",
              "// where there are multiple asynchronous steps and the Python side is going\n",
              "// to poll for completion of each step.\n",
              "// This uses a Promise to block the python side on completion of each step,\n",
              "// then passes the result of the previous step as the input to the next step.\n",
              "function _uploadFilesContinue(outputId) {\n",
              "  const outputElement = document.getElementById(outputId);\n",
              "  const steps = outputElement.steps;\n",
              "\n",
              "  const next = steps.next(outputElement.lastPromiseValue);\n",
              "  return Promise.resolve(next.value.promise).then((value) => {\n",
              "    // Cache the last promise value to make it available to the next\n",
              "    // step of the generator.\n",
              "    outputElement.lastPromiseValue = value;\n",
              "    return next.value.response;\n",
              "  });\n",
              "}\n",
              "\n",
              "/**\n",
              " * Generator function which is called between each async step of the upload\n",
              " * process.\n",
              " * @param {string} inputId Element ID of the input file picker element.\n",
              " * @param {string} outputId Element ID of the output display.\n",
              " * @return {!Iterable<!Object>} Iterable of next steps.\n",
              " */\n",
              "function* uploadFilesStep(inputId, outputId) {\n",
              "  const inputElement = document.getElementById(inputId);\n",
              "  inputElement.disabled = false;\n",
              "\n",
              "  const outputElement = document.getElementById(outputId);\n",
              "  outputElement.innerHTML = '';\n",
              "\n",
              "  const pickedPromise = new Promise((resolve) => {\n",
              "    inputElement.addEventListener('change', (e) => {\n",
              "      resolve(e.target.files);\n",
              "    });\n",
              "  });\n",
              "\n",
              "  const cancel = document.createElement('button');\n",
              "  inputElement.parentElement.appendChild(cancel);\n",
              "  cancel.textContent = 'Cancel upload';\n",
              "  const cancelPromise = new Promise((resolve) => {\n",
              "    cancel.onclick = () => {\n",
              "      resolve(null);\n",
              "    };\n",
              "  });\n",
              "\n",
              "  // Wait for the user to pick the files.\n",
              "  const files = yield {\n",
              "    promise: Promise.race([pickedPromise, cancelPromise]),\n",
              "    response: {\n",
              "      action: 'starting',\n",
              "    }\n",
              "  };\n",
              "\n",
              "  cancel.remove();\n",
              "\n",
              "  // Disable the input element since further picks are not allowed.\n",
              "  inputElement.disabled = true;\n",
              "\n",
              "  if (!files) {\n",
              "    return {\n",
              "      response: {\n",
              "        action: 'complete',\n",
              "      }\n",
              "    };\n",
              "  }\n",
              "\n",
              "  for (const file of files) {\n",
              "    const li = document.createElement('li');\n",
              "    li.append(span(file.name, {fontWeight: 'bold'}));\n",
              "    li.append(span(\n",
              "        `(${file.type || 'n/a'}) - ${file.size} bytes, ` +\n",
              "        `last modified: ${\n",
              "            file.lastModifiedDate ? file.lastModifiedDate.toLocaleDateString() :\n",
              "                                    'n/a'} - `));\n",
              "    const percent = span('0% done');\n",
              "    li.appendChild(percent);\n",
              "\n",
              "    outputElement.appendChild(li);\n",
              "\n",
              "    const fileDataPromise = new Promise((resolve) => {\n",
              "      const reader = new FileReader();\n",
              "      reader.onload = (e) => {\n",
              "        resolve(e.target.result);\n",
              "      };\n",
              "      reader.readAsArrayBuffer(file);\n",
              "    });\n",
              "    // Wait for the data to be ready.\n",
              "    let fileData = yield {\n",
              "      promise: fileDataPromise,\n",
              "      response: {\n",
              "        action: 'continue',\n",
              "      }\n",
              "    };\n",
              "\n",
              "    // Use a chunked sending to avoid message size limits. See b/62115660.\n",
              "    let position = 0;\n",
              "    do {\n",
              "      const length = Math.min(fileData.byteLength - position, MAX_PAYLOAD_SIZE);\n",
              "      const chunk = new Uint8Array(fileData, position, length);\n",
              "      position += length;\n",
              "\n",
              "      const base64 = btoa(String.fromCharCode.apply(null, chunk));\n",
              "      yield {\n",
              "        response: {\n",
              "          action: 'append',\n",
              "          file: file.name,\n",
              "          data: base64,\n",
              "        },\n",
              "      };\n",
              "\n",
              "      let percentDone = fileData.byteLength === 0 ?\n",
              "          100 :\n",
              "          Math.round((position / fileData.byteLength) * 100);\n",
              "      percent.textContent = `${percentDone}% done`;\n",
              "\n",
              "    } while (position < fileData.byteLength);\n",
              "  }\n",
              "\n",
              "  // All done.\n",
              "  yield {\n",
              "    response: {\n",
              "      action: 'complete',\n",
              "    }\n",
              "  };\n",
              "}\n",
              "\n",
              "scope.google = scope.google || {};\n",
              "scope.google.colab = scope.google.colab || {};\n",
              "scope.google.colab._files = {\n",
              "  _uploadFiles,\n",
              "  _uploadFilesContinue,\n",
              "};\n",
              "})(self);\n",
              "</script> "
            ]
          },
          "metadata": {}
        },
        {
          "output_type": "stream",
          "name": "stdout",
          "text": [
            "Saving ford.csv to ford (1).csv\n"
          ]
        },
        {
          "output_type": "execute_result",
          "data": {
            "text/plain": [
              "     model  year  price transmission  mileage fuelType  tax   mpg  engineSize\n",
              "0   Fiesta  2017  12000    Automatic    15944   Petrol  150  57.7         1.0\n",
              "1    Focus  2018  14000       Manual     9083   Petrol  150  57.7         1.0\n",
              "2    Focus  2017  13000       Manual    12456   Petrol  150  57.7         1.0\n",
              "3   Fiesta  2019  17500       Manual    10460   Petrol  145  40.3         1.5\n",
              "4   Fiesta  2019  16500    Automatic     1482   Petrol  145  48.7         1.0"
            ],
            "text/html": [
              "\n",
              "  <div id=\"df-f678f465-5e93-4872-ab7c-699f8419e28b\" class=\"colab-df-container\">\n",
              "    <div>\n",
              "<style scoped>\n",
              "    .dataframe tbody tr th:only-of-type {\n",
              "        vertical-align: middle;\n",
              "    }\n",
              "\n",
              "    .dataframe tbody tr th {\n",
              "        vertical-align: top;\n",
              "    }\n",
              "\n",
              "    .dataframe thead th {\n",
              "        text-align: right;\n",
              "    }\n",
              "</style>\n",
              "<table border=\"1\" class=\"dataframe\">\n",
              "  <thead>\n",
              "    <tr style=\"text-align: right;\">\n",
              "      <th></th>\n",
              "      <th>model</th>\n",
              "      <th>year</th>\n",
              "      <th>price</th>\n",
              "      <th>transmission</th>\n",
              "      <th>mileage</th>\n",
              "      <th>fuelType</th>\n",
              "      <th>tax</th>\n",
              "      <th>mpg</th>\n",
              "      <th>engineSize</th>\n",
              "    </tr>\n",
              "  </thead>\n",
              "  <tbody>\n",
              "    <tr>\n",
              "      <th>0</th>\n",
              "      <td>Fiesta</td>\n",
              "      <td>2017</td>\n",
              "      <td>12000</td>\n",
              "      <td>Automatic</td>\n",
              "      <td>15944</td>\n",
              "      <td>Petrol</td>\n",
              "      <td>150</td>\n",
              "      <td>57.7</td>\n",
              "      <td>1.0</td>\n",
              "    </tr>\n",
              "    <tr>\n",
              "      <th>1</th>\n",
              "      <td>Focus</td>\n",
              "      <td>2018</td>\n",
              "      <td>14000</td>\n",
              "      <td>Manual</td>\n",
              "      <td>9083</td>\n",
              "      <td>Petrol</td>\n",
              "      <td>150</td>\n",
              "      <td>57.7</td>\n",
              "      <td>1.0</td>\n",
              "    </tr>\n",
              "    <tr>\n",
              "      <th>2</th>\n",
              "      <td>Focus</td>\n",
              "      <td>2017</td>\n",
              "      <td>13000</td>\n",
              "      <td>Manual</td>\n",
              "      <td>12456</td>\n",
              "      <td>Petrol</td>\n",
              "      <td>150</td>\n",
              "      <td>57.7</td>\n",
              "      <td>1.0</td>\n",
              "    </tr>\n",
              "    <tr>\n",
              "      <th>3</th>\n",
              "      <td>Fiesta</td>\n",
              "      <td>2019</td>\n",
              "      <td>17500</td>\n",
              "      <td>Manual</td>\n",
              "      <td>10460</td>\n",
              "      <td>Petrol</td>\n",
              "      <td>145</td>\n",
              "      <td>40.3</td>\n",
              "      <td>1.5</td>\n",
              "    </tr>\n",
              "    <tr>\n",
              "      <th>4</th>\n",
              "      <td>Fiesta</td>\n",
              "      <td>2019</td>\n",
              "      <td>16500</td>\n",
              "      <td>Automatic</td>\n",
              "      <td>1482</td>\n",
              "      <td>Petrol</td>\n",
              "      <td>145</td>\n",
              "      <td>48.7</td>\n",
              "      <td>1.0</td>\n",
              "    </tr>\n",
              "  </tbody>\n",
              "</table>\n",
              "</div>\n",
              "    <div class=\"colab-df-buttons\">\n",
              "\n",
              "  <div class=\"colab-df-container\">\n",
              "    <button class=\"colab-df-convert\" onclick=\"convertToInteractive('df-f678f465-5e93-4872-ab7c-699f8419e28b')\"\n",
              "            title=\"Convert this dataframe to an interactive table.\"\n",
              "            style=\"display:none;\">\n",
              "\n",
              "  <svg xmlns=\"http://www.w3.org/2000/svg\" height=\"24px\" viewBox=\"0 -960 960 960\">\n",
              "    <path d=\"M120-120v-720h720v720H120Zm60-500h600v-160H180v160Zm220 220h160v-160H400v160Zm0 220h160v-160H400v160ZM180-400h160v-160H180v160Zm440 0h160v-160H620v160ZM180-180h160v-160H180v160Zm440 0h160v-160H620v160Z\"/>\n",
              "  </svg>\n",
              "    </button>\n",
              "\n",
              "  <style>\n",
              "    .colab-df-container {\n",
              "      display:flex;\n",
              "      gap: 12px;\n",
              "    }\n",
              "\n",
              "    .colab-df-convert {\n",
              "      background-color: #E8F0FE;\n",
              "      border: none;\n",
              "      border-radius: 50%;\n",
              "      cursor: pointer;\n",
              "      display: none;\n",
              "      fill: #1967D2;\n",
              "      height: 32px;\n",
              "      padding: 0 0 0 0;\n",
              "      width: 32px;\n",
              "    }\n",
              "\n",
              "    .colab-df-convert:hover {\n",
              "      background-color: #E2EBFA;\n",
              "      box-shadow: 0px 1px 2px rgba(60, 64, 67, 0.3), 0px 1px 3px 1px rgba(60, 64, 67, 0.15);\n",
              "      fill: #174EA6;\n",
              "    }\n",
              "\n",
              "    .colab-df-buttons div {\n",
              "      margin-bottom: 4px;\n",
              "    }\n",
              "\n",
              "    [theme=dark] .colab-df-convert {\n",
              "      background-color: #3B4455;\n",
              "      fill: #D2E3FC;\n",
              "    }\n",
              "\n",
              "    [theme=dark] .colab-df-convert:hover {\n",
              "      background-color: #434B5C;\n",
              "      box-shadow: 0px 1px 3px 1px rgba(0, 0, 0, 0.15);\n",
              "      filter: drop-shadow(0px 1px 2px rgba(0, 0, 0, 0.3));\n",
              "      fill: #FFFFFF;\n",
              "    }\n",
              "  </style>\n",
              "\n",
              "    <script>\n",
              "      const buttonEl =\n",
              "        document.querySelector('#df-f678f465-5e93-4872-ab7c-699f8419e28b button.colab-df-convert');\n",
              "      buttonEl.style.display =\n",
              "        google.colab.kernel.accessAllowed ? 'block' : 'none';\n",
              "\n",
              "      async function convertToInteractive(key) {\n",
              "        const element = document.querySelector('#df-f678f465-5e93-4872-ab7c-699f8419e28b');\n",
              "        const dataTable =\n",
              "          await google.colab.kernel.invokeFunction('convertToInteractive',\n",
              "                                                    [key], {});\n",
              "        if (!dataTable) return;\n",
              "\n",
              "        const docLinkHtml = 'Like what you see? Visit the ' +\n",
              "          '<a target=\"_blank\" href=https://colab.research.google.com/notebooks/data_table.ipynb>data table notebook</a>'\n",
              "          + ' to learn more about interactive tables.';\n",
              "        element.innerHTML = '';\n",
              "        dataTable['output_type'] = 'display_data';\n",
              "        await google.colab.output.renderOutput(dataTable, element);\n",
              "        const docLink = document.createElement('div');\n",
              "        docLink.innerHTML = docLinkHtml;\n",
              "        element.appendChild(docLink);\n",
              "      }\n",
              "    </script>\n",
              "  </div>\n",
              "\n",
              "\n",
              "    <div id=\"df-ab118967-d626-4634-b03a-a7db658299be\">\n",
              "      <button class=\"colab-df-quickchart\" onclick=\"quickchart('df-ab118967-d626-4634-b03a-a7db658299be')\"\n",
              "                title=\"Suggest charts\"\n",
              "                style=\"display:none;\">\n",
              "\n",
              "<svg xmlns=\"http://www.w3.org/2000/svg\" height=\"24px\"viewBox=\"0 0 24 24\"\n",
              "     width=\"24px\">\n",
              "    <g>\n",
              "        <path d=\"M19 3H5c-1.1 0-2 .9-2 2v14c0 1.1.9 2 2 2h14c1.1 0 2-.9 2-2V5c0-1.1-.9-2-2-2zM9 17H7v-7h2v7zm4 0h-2V7h2v10zm4 0h-2v-4h2v4z\"/>\n",
              "    </g>\n",
              "</svg>\n",
              "      </button>\n",
              "\n",
              "<style>\n",
              "  .colab-df-quickchart {\n",
              "      --bg-color: #E8F0FE;\n",
              "      --fill-color: #1967D2;\n",
              "      --hover-bg-color: #E2EBFA;\n",
              "      --hover-fill-color: #174EA6;\n",
              "      --disabled-fill-color: #AAA;\n",
              "      --disabled-bg-color: #DDD;\n",
              "  }\n",
              "\n",
              "  [theme=dark] .colab-df-quickchart {\n",
              "      --bg-color: #3B4455;\n",
              "      --fill-color: #D2E3FC;\n",
              "      --hover-bg-color: #434B5C;\n",
              "      --hover-fill-color: #FFFFFF;\n",
              "      --disabled-bg-color: #3B4455;\n",
              "      --disabled-fill-color: #666;\n",
              "  }\n",
              "\n",
              "  .colab-df-quickchart {\n",
              "    background-color: var(--bg-color);\n",
              "    border: none;\n",
              "    border-radius: 50%;\n",
              "    cursor: pointer;\n",
              "    display: none;\n",
              "    fill: var(--fill-color);\n",
              "    height: 32px;\n",
              "    padding: 0;\n",
              "    width: 32px;\n",
              "  }\n",
              "\n",
              "  .colab-df-quickchart:hover {\n",
              "    background-color: var(--hover-bg-color);\n",
              "    box-shadow: 0 1px 2px rgba(60, 64, 67, 0.3), 0 1px 3px 1px rgba(60, 64, 67, 0.15);\n",
              "    fill: var(--button-hover-fill-color);\n",
              "  }\n",
              "\n",
              "  .colab-df-quickchart-complete:disabled,\n",
              "  .colab-df-quickchart-complete:disabled:hover {\n",
              "    background-color: var(--disabled-bg-color);\n",
              "    fill: var(--disabled-fill-color);\n",
              "    box-shadow: none;\n",
              "  }\n",
              "\n",
              "  .colab-df-spinner {\n",
              "    border: 2px solid var(--fill-color);\n",
              "    border-color: transparent;\n",
              "    border-bottom-color: var(--fill-color);\n",
              "    animation:\n",
              "      spin 1s steps(1) infinite;\n",
              "  }\n",
              "\n",
              "  @keyframes spin {\n",
              "    0% {\n",
              "      border-color: transparent;\n",
              "      border-bottom-color: var(--fill-color);\n",
              "      border-left-color: var(--fill-color);\n",
              "    }\n",
              "    20% {\n",
              "      border-color: transparent;\n",
              "      border-left-color: var(--fill-color);\n",
              "      border-top-color: var(--fill-color);\n",
              "    }\n",
              "    30% {\n",
              "      border-color: transparent;\n",
              "      border-left-color: var(--fill-color);\n",
              "      border-top-color: var(--fill-color);\n",
              "      border-right-color: var(--fill-color);\n",
              "    }\n",
              "    40% {\n",
              "      border-color: transparent;\n",
              "      border-right-color: var(--fill-color);\n",
              "      border-top-color: var(--fill-color);\n",
              "    }\n",
              "    60% {\n",
              "      border-color: transparent;\n",
              "      border-right-color: var(--fill-color);\n",
              "    }\n",
              "    80% {\n",
              "      border-color: transparent;\n",
              "      border-right-color: var(--fill-color);\n",
              "      border-bottom-color: var(--fill-color);\n",
              "    }\n",
              "    90% {\n",
              "      border-color: transparent;\n",
              "      border-bottom-color: var(--fill-color);\n",
              "    }\n",
              "  }\n",
              "</style>\n",
              "\n",
              "      <script>\n",
              "        async function quickchart(key) {\n",
              "          const quickchartButtonEl =\n",
              "            document.querySelector('#' + key + ' button');\n",
              "          quickchartButtonEl.disabled = true;  // To prevent multiple clicks.\n",
              "          quickchartButtonEl.classList.add('colab-df-spinner');\n",
              "          try {\n",
              "            const charts = await google.colab.kernel.invokeFunction(\n",
              "                'suggestCharts', [key], {});\n",
              "          } catch (error) {\n",
              "            console.error('Error during call to suggestCharts:', error);\n",
              "          }\n",
              "          quickchartButtonEl.classList.remove('colab-df-spinner');\n",
              "          quickchartButtonEl.classList.add('colab-df-quickchart-complete');\n",
              "        }\n",
              "        (() => {\n",
              "          let quickchartButtonEl =\n",
              "            document.querySelector('#df-ab118967-d626-4634-b03a-a7db658299be button');\n",
              "          quickchartButtonEl.style.display =\n",
              "            google.colab.kernel.accessAllowed ? 'block' : 'none';\n",
              "        })();\n",
              "      </script>\n",
              "    </div>\n",
              "\n",
              "    </div>\n",
              "  </div>\n"
            ],
            "application/vnd.google.colaboratory.intrinsic+json": {
              "type": "dataframe",
              "variable_name": "df",
              "summary": "{\n  \"name\": \"df\",\n  \"rows\": 17965,\n  \"fields\": [\n    {\n      \"column\": \"model\",\n      \"properties\": {\n        \"dtype\": \"category\",\n        \"num_unique_values\": 23,\n        \"samples\": [\n          \" Galaxy\",\n          \" S-MAX\",\n          \" Fiesta\"\n        ],\n        \"semantic_type\": \"\",\n        \"description\": \"\"\n      }\n    },\n    {\n      \"column\": \"year\",\n      \"properties\": {\n        \"dtype\": \"number\",\n        \"std\": 2,\n        \"min\": 1996,\n        \"max\": 2060,\n        \"num_unique_values\": 23,\n        \"samples\": [\n          2005,\n          2008,\n          2017\n        ],\n        \"semantic_type\": \"\",\n        \"description\": \"\"\n      }\n    },\n    {\n      \"column\": \"price\",\n      \"properties\": {\n        \"dtype\": \"number\",\n        \"std\": 4741,\n        \"min\": 495,\n        \"max\": 54995,\n        \"num_unique_values\": 3511,\n        \"samples\": [\n          12460,\n          11590,\n          13710\n        ],\n        \"semantic_type\": \"\",\n        \"description\": \"\"\n      }\n    },\n    {\n      \"column\": \"transmission\",\n      \"properties\": {\n        \"dtype\": \"category\",\n        \"num_unique_values\": 3,\n        \"samples\": [\n          \"Automatic\",\n          \"Manual\",\n          \"Semi-Auto\"\n        ],\n        \"semantic_type\": \"\",\n        \"description\": \"\"\n      }\n    },\n    {\n      \"column\": \"mileage\",\n      \"properties\": {\n        \"dtype\": \"number\",\n        \"std\": 19472,\n        \"min\": 1,\n        \"max\": 177644,\n        \"num_unique_values\": 13528,\n        \"samples\": [\n          9210,\n          3600,\n          20362\n        ],\n        \"semantic_type\": \"\",\n        \"description\": \"\"\n      }\n    },\n    {\n      \"column\": \"fuelType\",\n      \"properties\": {\n        \"dtype\": \"category\",\n        \"num_unique_values\": 5,\n        \"samples\": [\n          \"Diesel\",\n          \"Other\",\n          \"Hybrid\"\n        ],\n        \"semantic_type\": \"\",\n        \"description\": \"\"\n      }\n    },\n    {\n      \"column\": \"tax\",\n      \"properties\": {\n        \"dtype\": \"number\",\n        \"std\": 62,\n        \"min\": 0,\n        \"max\": 580,\n        \"num_unique_values\": 35,\n        \"samples\": [\n          110,\n          205,\n          270\n        ],\n        \"semantic_type\": \"\",\n        \"description\": \"\"\n      }\n    },\n    {\n      \"column\": \"mpg\",\n      \"properties\": {\n        \"dtype\": \"number\",\n        \"std\": 10.125977420469583,\n        \"min\": 20.8,\n        \"max\": 201.8,\n        \"num_unique_values\": 90,\n        \"samples\": [\n          47.1,\n          43.5,\n          37.2\n        ],\n        \"semantic_type\": \"\",\n        \"description\": \"\"\n      }\n    },\n    {\n      \"column\": \"engineSize\",\n      \"properties\": {\n        \"dtype\": \"number\",\n        \"std\": 0.43237138391875835,\n        \"min\": 0.0,\n        \"max\": 5.0,\n        \"num_unique_values\": 16,\n        \"samples\": [\n          1.0,\n          1.5,\n          1.1\n        ],\n        \"semantic_type\": \"\",\n        \"description\": \"\"\n      }\n    }\n  ]\n}"
            }
          },
          "metadata": {},
          "execution_count": 3
        }
      ]
    },
    {
      "cell_type": "code",
      "source": [
        "# Eeg cabbirka xogta (tirada safafka iyo tiirarka)\n",
        "print(\"Shape:\", df.shape)\n",
        "\n",
        "# Muuji noocyada datatype-yada iyo nulls\n",
        "df.info()\n",
        "\n",
        "# Muuji sharraxaad guud oo tirakoob ah\n",
        "df.describe()\n"
      ],
      "metadata": {
        "colab": {
          "base_uri": "https://localhost:8080/",
          "height": 595
        },
        "id": "bXL1BWc-IvYW",
        "outputId": "d6c5a3eb-b507-4c42-c59f-efe653c883e8"
      },
      "execution_count": 4,
      "outputs": [
        {
          "output_type": "stream",
          "name": "stdout",
          "text": [
            "Shape: (17965, 9)\n",
            "<class 'pandas.core.frame.DataFrame'>\n",
            "RangeIndex: 17965 entries, 0 to 17964\n",
            "Data columns (total 9 columns):\n",
            " #   Column        Non-Null Count  Dtype  \n",
            "---  ------        --------------  -----  \n",
            " 0   model         17965 non-null  object \n",
            " 1   year          17965 non-null  int64  \n",
            " 2   price         17965 non-null  int64  \n",
            " 3   transmission  17965 non-null  object \n",
            " 4   mileage       17965 non-null  int64  \n",
            " 5   fuelType      17965 non-null  object \n",
            " 6   tax           17965 non-null  int64  \n",
            " 7   mpg           17965 non-null  float64\n",
            " 8   engineSize    17965 non-null  float64\n",
            "dtypes: float64(2), int64(4), object(3)\n",
            "memory usage: 1.2+ MB\n"
          ]
        },
        {
          "output_type": "execute_result",
          "data": {
            "text/plain": [
              "               year         price        mileage           tax           mpg  \\\n",
              "count  17965.000000  17965.000000   17965.000000  17965.000000  17965.000000   \n",
              "mean    2016.866574  12279.756415   23363.630504    113.334539     57.906991   \n",
              "std        2.050346   4741.382606   19472.114690     62.010438     10.125977   \n",
              "min     1996.000000    495.000000       1.000000      0.000000     20.800000   \n",
              "25%     2016.000000   8999.000000    9987.000000     30.000000     52.300000   \n",
              "50%     2017.000000  11291.000000   18243.000000    145.000000     58.900000   \n",
              "75%     2018.000000  15299.000000   31064.000000    145.000000     65.700000   \n",
              "max     2060.000000  54995.000000  177644.000000    580.000000    201.800000   \n",
              "\n",
              "         engineSize  \n",
              "count  17965.000000  \n",
              "mean       1.350827  \n",
              "std        0.432371  \n",
              "min        0.000000  \n",
              "25%        1.000000  \n",
              "50%        1.200000  \n",
              "75%        1.500000  \n",
              "max        5.000000  "
            ],
            "text/html": [
              "\n",
              "  <div id=\"df-bd4eacc7-ef8f-47c4-a7c6-fb1016a97dcd\" class=\"colab-df-container\">\n",
              "    <div>\n",
              "<style scoped>\n",
              "    .dataframe tbody tr th:only-of-type {\n",
              "        vertical-align: middle;\n",
              "    }\n",
              "\n",
              "    .dataframe tbody tr th {\n",
              "        vertical-align: top;\n",
              "    }\n",
              "\n",
              "    .dataframe thead th {\n",
              "        text-align: right;\n",
              "    }\n",
              "</style>\n",
              "<table border=\"1\" class=\"dataframe\">\n",
              "  <thead>\n",
              "    <tr style=\"text-align: right;\">\n",
              "      <th></th>\n",
              "      <th>year</th>\n",
              "      <th>price</th>\n",
              "      <th>mileage</th>\n",
              "      <th>tax</th>\n",
              "      <th>mpg</th>\n",
              "      <th>engineSize</th>\n",
              "    </tr>\n",
              "  </thead>\n",
              "  <tbody>\n",
              "    <tr>\n",
              "      <th>count</th>\n",
              "      <td>17965.000000</td>\n",
              "      <td>17965.000000</td>\n",
              "      <td>17965.000000</td>\n",
              "      <td>17965.000000</td>\n",
              "      <td>17965.000000</td>\n",
              "      <td>17965.000000</td>\n",
              "    </tr>\n",
              "    <tr>\n",
              "      <th>mean</th>\n",
              "      <td>2016.866574</td>\n",
              "      <td>12279.756415</td>\n",
              "      <td>23363.630504</td>\n",
              "      <td>113.334539</td>\n",
              "      <td>57.906991</td>\n",
              "      <td>1.350827</td>\n",
              "    </tr>\n",
              "    <tr>\n",
              "      <th>std</th>\n",
              "      <td>2.050346</td>\n",
              "      <td>4741.382606</td>\n",
              "      <td>19472.114690</td>\n",
              "      <td>62.010438</td>\n",
              "      <td>10.125977</td>\n",
              "      <td>0.432371</td>\n",
              "    </tr>\n",
              "    <tr>\n",
              "      <th>min</th>\n",
              "      <td>1996.000000</td>\n",
              "      <td>495.000000</td>\n",
              "      <td>1.000000</td>\n",
              "      <td>0.000000</td>\n",
              "      <td>20.800000</td>\n",
              "      <td>0.000000</td>\n",
              "    </tr>\n",
              "    <tr>\n",
              "      <th>25%</th>\n",
              "      <td>2016.000000</td>\n",
              "      <td>8999.000000</td>\n",
              "      <td>9987.000000</td>\n",
              "      <td>30.000000</td>\n",
              "      <td>52.300000</td>\n",
              "      <td>1.000000</td>\n",
              "    </tr>\n",
              "    <tr>\n",
              "      <th>50%</th>\n",
              "      <td>2017.000000</td>\n",
              "      <td>11291.000000</td>\n",
              "      <td>18243.000000</td>\n",
              "      <td>145.000000</td>\n",
              "      <td>58.900000</td>\n",
              "      <td>1.200000</td>\n",
              "    </tr>\n",
              "    <tr>\n",
              "      <th>75%</th>\n",
              "      <td>2018.000000</td>\n",
              "      <td>15299.000000</td>\n",
              "      <td>31064.000000</td>\n",
              "      <td>145.000000</td>\n",
              "      <td>65.700000</td>\n",
              "      <td>1.500000</td>\n",
              "    </tr>\n",
              "    <tr>\n",
              "      <th>max</th>\n",
              "      <td>2060.000000</td>\n",
              "      <td>54995.000000</td>\n",
              "      <td>177644.000000</td>\n",
              "      <td>580.000000</td>\n",
              "      <td>201.800000</td>\n",
              "      <td>5.000000</td>\n",
              "    </tr>\n",
              "  </tbody>\n",
              "</table>\n",
              "</div>\n",
              "    <div class=\"colab-df-buttons\">\n",
              "\n",
              "  <div class=\"colab-df-container\">\n",
              "    <button class=\"colab-df-convert\" onclick=\"convertToInteractive('df-bd4eacc7-ef8f-47c4-a7c6-fb1016a97dcd')\"\n",
              "            title=\"Convert this dataframe to an interactive table.\"\n",
              "            style=\"display:none;\">\n",
              "\n",
              "  <svg xmlns=\"http://www.w3.org/2000/svg\" height=\"24px\" viewBox=\"0 -960 960 960\">\n",
              "    <path d=\"M120-120v-720h720v720H120Zm60-500h600v-160H180v160Zm220 220h160v-160H400v160Zm0 220h160v-160H400v160ZM180-400h160v-160H180v160Zm440 0h160v-160H620v160ZM180-180h160v-160H180v160Zm440 0h160v-160H620v160Z\"/>\n",
              "  </svg>\n",
              "    </button>\n",
              "\n",
              "  <style>\n",
              "    .colab-df-container {\n",
              "      display:flex;\n",
              "      gap: 12px;\n",
              "    }\n",
              "\n",
              "    .colab-df-convert {\n",
              "      background-color: #E8F0FE;\n",
              "      border: none;\n",
              "      border-radius: 50%;\n",
              "      cursor: pointer;\n",
              "      display: none;\n",
              "      fill: #1967D2;\n",
              "      height: 32px;\n",
              "      padding: 0 0 0 0;\n",
              "      width: 32px;\n",
              "    }\n",
              "\n",
              "    .colab-df-convert:hover {\n",
              "      background-color: #E2EBFA;\n",
              "      box-shadow: 0px 1px 2px rgba(60, 64, 67, 0.3), 0px 1px 3px 1px rgba(60, 64, 67, 0.15);\n",
              "      fill: #174EA6;\n",
              "    }\n",
              "\n",
              "    .colab-df-buttons div {\n",
              "      margin-bottom: 4px;\n",
              "    }\n",
              "\n",
              "    [theme=dark] .colab-df-convert {\n",
              "      background-color: #3B4455;\n",
              "      fill: #D2E3FC;\n",
              "    }\n",
              "\n",
              "    [theme=dark] .colab-df-convert:hover {\n",
              "      background-color: #434B5C;\n",
              "      box-shadow: 0px 1px 3px 1px rgba(0, 0, 0, 0.15);\n",
              "      filter: drop-shadow(0px 1px 2px rgba(0, 0, 0, 0.3));\n",
              "      fill: #FFFFFF;\n",
              "    }\n",
              "  </style>\n",
              "\n",
              "    <script>\n",
              "      const buttonEl =\n",
              "        document.querySelector('#df-bd4eacc7-ef8f-47c4-a7c6-fb1016a97dcd button.colab-df-convert');\n",
              "      buttonEl.style.display =\n",
              "        google.colab.kernel.accessAllowed ? 'block' : 'none';\n",
              "\n",
              "      async function convertToInteractive(key) {\n",
              "        const element = document.querySelector('#df-bd4eacc7-ef8f-47c4-a7c6-fb1016a97dcd');\n",
              "        const dataTable =\n",
              "          await google.colab.kernel.invokeFunction('convertToInteractive',\n",
              "                                                    [key], {});\n",
              "        if (!dataTable) return;\n",
              "\n",
              "        const docLinkHtml = 'Like what you see? Visit the ' +\n",
              "          '<a target=\"_blank\" href=https://colab.research.google.com/notebooks/data_table.ipynb>data table notebook</a>'\n",
              "          + ' to learn more about interactive tables.';\n",
              "        element.innerHTML = '';\n",
              "        dataTable['output_type'] = 'display_data';\n",
              "        await google.colab.output.renderOutput(dataTable, element);\n",
              "        const docLink = document.createElement('div');\n",
              "        docLink.innerHTML = docLinkHtml;\n",
              "        element.appendChild(docLink);\n",
              "      }\n",
              "    </script>\n",
              "  </div>\n",
              "\n",
              "\n",
              "    <div id=\"df-351e7204-7f59-4b51-b320-a2db645c0242\">\n",
              "      <button class=\"colab-df-quickchart\" onclick=\"quickchart('df-351e7204-7f59-4b51-b320-a2db645c0242')\"\n",
              "                title=\"Suggest charts\"\n",
              "                style=\"display:none;\">\n",
              "\n",
              "<svg xmlns=\"http://www.w3.org/2000/svg\" height=\"24px\"viewBox=\"0 0 24 24\"\n",
              "     width=\"24px\">\n",
              "    <g>\n",
              "        <path d=\"M19 3H5c-1.1 0-2 .9-2 2v14c0 1.1.9 2 2 2h14c1.1 0 2-.9 2-2V5c0-1.1-.9-2-2-2zM9 17H7v-7h2v7zm4 0h-2V7h2v10zm4 0h-2v-4h2v4z\"/>\n",
              "    </g>\n",
              "</svg>\n",
              "      </button>\n",
              "\n",
              "<style>\n",
              "  .colab-df-quickchart {\n",
              "      --bg-color: #E8F0FE;\n",
              "      --fill-color: #1967D2;\n",
              "      --hover-bg-color: #E2EBFA;\n",
              "      --hover-fill-color: #174EA6;\n",
              "      --disabled-fill-color: #AAA;\n",
              "      --disabled-bg-color: #DDD;\n",
              "  }\n",
              "\n",
              "  [theme=dark] .colab-df-quickchart {\n",
              "      --bg-color: #3B4455;\n",
              "      --fill-color: #D2E3FC;\n",
              "      --hover-bg-color: #434B5C;\n",
              "      --hover-fill-color: #FFFFFF;\n",
              "      --disabled-bg-color: #3B4455;\n",
              "      --disabled-fill-color: #666;\n",
              "  }\n",
              "\n",
              "  .colab-df-quickchart {\n",
              "    background-color: var(--bg-color);\n",
              "    border: none;\n",
              "    border-radius: 50%;\n",
              "    cursor: pointer;\n",
              "    display: none;\n",
              "    fill: var(--fill-color);\n",
              "    height: 32px;\n",
              "    padding: 0;\n",
              "    width: 32px;\n",
              "  }\n",
              "\n",
              "  .colab-df-quickchart:hover {\n",
              "    background-color: var(--hover-bg-color);\n",
              "    box-shadow: 0 1px 2px rgba(60, 64, 67, 0.3), 0 1px 3px 1px rgba(60, 64, 67, 0.15);\n",
              "    fill: var(--button-hover-fill-color);\n",
              "  }\n",
              "\n",
              "  .colab-df-quickchart-complete:disabled,\n",
              "  .colab-df-quickchart-complete:disabled:hover {\n",
              "    background-color: var(--disabled-bg-color);\n",
              "    fill: var(--disabled-fill-color);\n",
              "    box-shadow: none;\n",
              "  }\n",
              "\n",
              "  .colab-df-spinner {\n",
              "    border: 2px solid var(--fill-color);\n",
              "    border-color: transparent;\n",
              "    border-bottom-color: var(--fill-color);\n",
              "    animation:\n",
              "      spin 1s steps(1) infinite;\n",
              "  }\n",
              "\n",
              "  @keyframes spin {\n",
              "    0% {\n",
              "      border-color: transparent;\n",
              "      border-bottom-color: var(--fill-color);\n",
              "      border-left-color: var(--fill-color);\n",
              "    }\n",
              "    20% {\n",
              "      border-color: transparent;\n",
              "      border-left-color: var(--fill-color);\n",
              "      border-top-color: var(--fill-color);\n",
              "    }\n",
              "    30% {\n",
              "      border-color: transparent;\n",
              "      border-left-color: var(--fill-color);\n",
              "      border-top-color: var(--fill-color);\n",
              "      border-right-color: var(--fill-color);\n",
              "    }\n",
              "    40% {\n",
              "      border-color: transparent;\n",
              "      border-right-color: var(--fill-color);\n",
              "      border-top-color: var(--fill-color);\n",
              "    }\n",
              "    60% {\n",
              "      border-color: transparent;\n",
              "      border-right-color: var(--fill-color);\n",
              "    }\n",
              "    80% {\n",
              "      border-color: transparent;\n",
              "      border-right-color: var(--fill-color);\n",
              "      border-bottom-color: var(--fill-color);\n",
              "    }\n",
              "    90% {\n",
              "      border-color: transparent;\n",
              "      border-bottom-color: var(--fill-color);\n",
              "    }\n",
              "  }\n",
              "</style>\n",
              "\n",
              "      <script>\n",
              "        async function quickchart(key) {\n",
              "          const quickchartButtonEl =\n",
              "            document.querySelector('#' + key + ' button');\n",
              "          quickchartButtonEl.disabled = true;  // To prevent multiple clicks.\n",
              "          quickchartButtonEl.classList.add('colab-df-spinner');\n",
              "          try {\n",
              "            const charts = await google.colab.kernel.invokeFunction(\n",
              "                'suggestCharts', [key], {});\n",
              "          } catch (error) {\n",
              "            console.error('Error during call to suggestCharts:', error);\n",
              "          }\n",
              "          quickchartButtonEl.classList.remove('colab-df-spinner');\n",
              "          quickchartButtonEl.classList.add('colab-df-quickchart-complete');\n",
              "        }\n",
              "        (() => {\n",
              "          let quickchartButtonEl =\n",
              "            document.querySelector('#df-351e7204-7f59-4b51-b320-a2db645c0242 button');\n",
              "          quickchartButtonEl.style.display =\n",
              "            google.colab.kernel.accessAllowed ? 'block' : 'none';\n",
              "        })();\n",
              "      </script>\n",
              "    </div>\n",
              "\n",
              "    </div>\n",
              "  </div>\n"
            ],
            "application/vnd.google.colaboratory.intrinsic+json": {
              "type": "dataframe",
              "summary": "{\n  \"name\": \"df\",\n  \"rows\": 8,\n  \"fields\": [\n    {\n      \"column\": \"year\",\n      \"properties\": {\n        \"dtype\": \"number\",\n        \"std\": 5782.468020388116,\n        \"min\": 2.0503457521500885,\n        \"max\": 17965.0,\n        \"num_unique_values\": 8,\n        \"samples\": [\n          2016.8665738936822,\n          2017.0,\n          17965.0\n        ],\n        \"semantic_type\": \"\",\n        \"description\": \"\"\n      }\n    },\n    {\n      \"column\": \"price\",\n      \"properties\": {\n        \"dtype\": \"number\",\n        \"std\": 16804.272735060145,\n        \"min\": 495.0,\n        \"max\": 54995.0,\n        \"num_unique_values\": 8,\n        \"samples\": [\n          12279.756415251879,\n          11291.0,\n          17965.0\n        ],\n        \"semantic_type\": \"\",\n        \"description\": \"\"\n      }\n    },\n    {\n      \"column\": \"mileage\",\n      \"properties\": {\n        \"dtype\": \"number\",\n        \"std\": 57472.42105483077,\n        \"min\": 1.0,\n        \"max\": 177644.0,\n        \"num_unique_values\": 8,\n        \"samples\": [\n          23363.630503757307,\n          18243.0,\n          17965.0\n        ],\n        \"semantic_type\": \"\",\n        \"description\": \"\"\n      }\n    },\n    {\n      \"column\": \"tax\",\n      \"properties\": {\n        \"dtype\": \"number\",\n        \"std\": 6299.891415210566,\n        \"min\": 0.0,\n        \"max\": 17965.0,\n        \"num_unique_values\": 7,\n        \"samples\": [\n          17965.0,\n          113.33453938213192,\n          145.0\n        ],\n        \"semantic_type\": \"\",\n        \"description\": \"\"\n      }\n    },\n    {\n      \"column\": \"mpg\",\n      \"properties\": {\n        \"dtype\": \"number\",\n        \"std\": 6328.242519162639,\n        \"min\": 10.125977420469583,\n        \"max\": 17965.0,\n        \"num_unique_values\": 8,\n        \"samples\": [\n          57.90699137211244,\n          58.9,\n          17965.0\n        ],\n        \"semantic_type\": \"\",\n        \"description\": \"\"\n      }\n    },\n    {\n      \"column\": \"engineSize\",\n      \"properties\": {\n        \"dtype\": \"number\",\n        \"std\": 6351.057360522391,\n        \"min\": 0.0,\n        \"max\": 17965.0,\n        \"num_unique_values\": 8,\n        \"samples\": [\n          1.3508266072919568,\n          1.2,\n          17965.0\n        ],\n        \"semantic_type\": \"\",\n        \"description\": \"\"\n      }\n    }\n  ]\n}"
            }
          },
          "metadata": {},
          "execution_count": 4
        }
      ]
    },
    {
      "cell_type": "markdown",
      "source": [
        "# ✅ Tallaabada 3: Baaris iyo saarid duplicates\n"
      ],
      "metadata": {
        "id": "dWU5sEVlJk1y"
      }
    },
    {
      "cell_type": "code",
      "source": [
        "# ✅ Tallaabada 3: Baaris iyo saarid duplicates\n",
        "\n",
        "# 1. Tirada safafka labalab ah\n",
        "duplicates = df.duplicated().sum()\n",
        "print(\"Tirada duplicates:\", duplicates)\n",
        "\n",
        "# 2. Haddii ay jiraan, ka saar\n",
        "df = df.drop_duplicates()\n",
        "\n",
        "# 3. Dib u eeg cabbirka xogta\n",
        "print(\"Cabbirka kadib duplicates-ka:\", df.shape)\n"
      ],
      "metadata": {
        "colab": {
          "base_uri": "https://localhost:8080/"
        },
        "id": "IbG7O4YnJjFh",
        "outputId": "1c739826-5ecf-48ba-8389-0596ad3a9c3d"
      },
      "execution_count": 5,
      "outputs": [
        {
          "output_type": "stream",
          "name": "stdout",
          "text": [
            "Tirada duplicates: 154\n",
            "Cabbirka kadib duplicates-ka: (17811, 9)\n"
          ]
        }
      ]
    },
    {
      "cell_type": "markdown",
      "source": [
        "#Isku Eegid & Saxid Xog Khaldan (Fixing Inconsistencies)"
      ],
      "metadata": {
        "id": "hLW73yZDLSof"
      }
    },
    {
      "cell_type": "code",
      "source": [
        "# ✅ Tallaabada 4: Baarista qiimaha tiirarka qoraalka ah (categorical)\n",
        "\n",
        "# Eeg qiimayaasha kala duwan ee model, transmission, fuelType\n",
        "print(\"== transmission ==\")\n",
        "print(df['transmission'].value_counts())\n",
        "\n",
        "print(\"\\n== fuelType ==\")\n",
        "print(df['fuelType'].value_counts())\n",
        "\n",
        "print(\"\\n== model ==\")\n",
        "print(df['model'].value_counts().head())  # Top 5 only\n",
        "\n",
        "# ✅ Optional: Remove leading/trailing whitespaces + lowercasing\n",
        "df['transmission'] = df['transmission'].str.strip().str.title()\n",
        "df['fuelType'] = df['fuelType'].str.strip().str.title()\n",
        "df['model'] = df['model'].str.strip()\n"
      ],
      "metadata": {
        "colab": {
          "base_uri": "https://localhost:8080/"
        },
        "id": "NQ8RRBL3LLb5",
        "outputId": "9cc5063a-bb49-4754-e51a-55fdfc4fd3f1"
      },
      "execution_count": 6,
      "outputs": [
        {
          "output_type": "stream",
          "name": "stdout",
          "text": [
            "== transmission ==\n",
            "transmission\n",
            "Manual       15382\n",
            "Automatic     1354\n",
            "Semi-Auto     1075\n",
            "Name: count, dtype: int64\n",
            "\n",
            "== fuelType ==\n",
            "fuelType\n",
            "Petrol      12080\n",
            "Diesel       5706\n",
            "Hybrid         22\n",
            "Electric        2\n",
            "Other           1\n",
            "Name: count, dtype: int64\n",
            "\n",
            "== model ==\n",
            "model\n",
            "Fiesta      6509\n",
            "Focus       4555\n",
            "Kuga        2208\n",
            "EcoSport    1127\n",
            "C-MAX        542\n",
            "Name: count, dtype: int64\n"
          ]
        }
      ]
    },
    {
      "cell_type": "markdown",
      "source": [
        "#✅ Step 5: Exploratory Data Analysis (EDA)"
      ],
      "metadata": {
        "id": "wmV4rkgIMDjc"
      }
    },
    {
      "cell_type": "markdown",
      "source": [
        "# ✅ Sawirro: Histograms for distribution of numeric features\n"
      ],
      "metadata": {
        "id": "FPvXm59RMIgY"
      }
    },
    {
      "cell_type": "code",
      "source": [
        "# ✅ Sawirro: Histograms for distribution of numeric features\n",
        "\n",
        "numeric_cols = ['price', 'mileage', 'mpg', 'engineSize', 'tax', 'year']\n",
        "\n",
        "plt.figure(figsize=(15, 12))\n",
        "for i, col in enumerate(numeric_cols, 1):\n",
        "    plt.subplot(3, 2, i)\n",
        "    sns.histplot(df[col], kde=True, color='skyblue')\n",
        "    plt.title(f'Distribution of {col}')\n",
        "plt.tight_layout()\n",
        "plt.show()\n"
      ],
      "metadata": {
        "colab": {
          "base_uri": "https://localhost:8080/",
          "height": 768
        },
        "id": "rfa3H2MKMGLp",
        "outputId": "7513a02a-3f35-4c55-a6f1-0150c2d22bf2"
      },
      "execution_count": 7,
      "outputs": [
        {
          "output_type": "display_data",
          "data": {
            "text/plain": [
              "<Figure size 1500x1200 with 6 Axes>"
            ],
            "image/png": "[encoded data removed]"
          },
          "metadata": {}
        }
      ]
    },
    {
      "cell_type": "markdown",
      "source": [
        "# ✅ Count plots for categorical features\n"
      ],
      "metadata": {
        "id": "tLb8YBxKMQB0"
      }
    },
    {
      "cell_type": "code",
      "source": [
        "# ✅ Count plots for categorical features\n",
        "\n",
        "plt.figure(figsize=(14, 5))\n",
        "\n",
        "# Transmission\n",
        "plt.subplot(1, 2, 1)\n",
        "sns.countplot(data=df, x='transmission', palette='Set2')\n",
        "plt.title('Count of Transmission Types')\n",
        "\n",
        "# Fuel Type\n",
        "plt.subplot(1, 2, 2)\n",
        "sns.countplot(data=df, x='fuelType', palette='Set3')\n",
        "plt.title('Count of Fuel Types')\n",
        "\n",
        "plt.tight_layout()\n",
        "plt.show()\n"
      ],
      "metadata": {
        "colab": {
          "base_uri": "https://localhost:8080/",
          "height": 540
        },
        "id": "uSyBbFmxMN7m",
        "outputId": "3e19ece5-3acb-41ee-d420-b9b1bbcac046"
      },
      "execution_count": 8,
      "outputs": [
        {
          "output_type": "stream",
          "name": "stderr",
          "text": [
            "/tmp/ipython-input-468732077.py:7: FutureWarning: \n",
            "\n",
            "Passing `palette` without assigning `hue` is deprecated and will be removed in v0.14.0. Assign the `x` variable to `hue` and set `legend=False` for the same effect.\n",
            "\n",
            "  sns.countplot(data=df, x='transmission', palette='Set2')\n",
            "/tmp/ipython-input-468732077.py:12: FutureWarning: \n",
            "\n",
            "Passing `palette` without assigning `hue` is deprecated and will be removed in v0.14.0. Assign the `x` variable to `hue` and set `legend=False` for the same effect.\n",
            "\n",
            "  sns.countplot(data=df, x='fuelType', palette='Set3')\n"
          ]
        },
        {
          "output_type": "display_data",
          "data": {
            "text/plain": [
              "<Figure size 1400x500 with 2 Axes>"
            ],
            "image/png": "[encoded data removed]"
          },
          "metadata": {}
        }
      ]
    },
    {
      "cell_type": "markdown",
      "source": [
        "# ✅ Mean price by fuelType\n"
      ],
      "metadata": {
        "id": "U0JAR3YWMXPD"
      }
    },
    {
      "cell_type": "code",
      "source": [
        "# ✅ Mean price by fuelType\n",
        "fuel_price = df.groupby('fuelType')['price'].mean().sort_values(ascending=False)\n",
        "print(\"Qiimaha celceliska ah ee fuelType kasta:\")\n",
        "print(fuel_price)\n",
        "\n",
        "# ✅ Visualize\n",
        "fuel_price.plot(kind='bar', figsize=(8, 4), color='orange', title='Average Price by Fuel Type')\n",
        "plt.ylabel('Average Price')\n",
        "plt.grid(axis='y')\n",
        "plt.show()\n"
      ],
      "metadata": {
        "colab": {
          "base_uri": "https://localhost:8080/",
          "height": 600
        },
        "id": "CZmteiSXMVVs",
        "outputId": "7271e786-fc17-4c2b-8054-529cf4b67fff"
      },
      "execution_count": 9,
      "outputs": [
        {
          "output_type": "stream",
          "name": "stdout",
          "text": [
            "Qiimaha celceliska ah ee fuelType kasta:\n",
            "fuelType\n",
            "Hybrid      22149.090909\n",
            "Electric    15737.500000\n",
            "Other       13800.000000\n",
            "Diesel      13642.600946\n",
            "Petrol      11602.632616\n",
            "Name: price, dtype: float64\n"
          ]
        },
        {
          "output_type": "display_data",
          "data": {
            "text/plain": [
              "<Figure size 800x400 with 1 Axes>"
            ],
            "image/png": "[encoded data removed]"
          },
          "metadata": {}
        }
      ]
    },
    {
      "cell_type": "markdown",
      "source": [
        "✅ Step 6: Outlier Detection & Handling\n"
      ],
      "metadata": {
        "id": "vYDGLvxxM2vU"
      }
    },
    {
      "cell_type": "markdown",
      "source": [
        "# ✅ Muujinta outliers-ka la arki karo\n"
      ],
      "metadata": {
        "id": "CAyaFNYQM44z"
      }
    },
    {
      "cell_type": "code",
      "source": [
        "# ✅ Muujinta outliers-ka la arki karo\n",
        "\n",
        "cols_to_check = ['price', 'mileage', 'mpg', 'engineSize']\n",
        "\n",
        "plt.figure(figsize=(15, 10))\n",
        "for i, col in enumerate(cols_to_check, 1):\n",
        "    plt.subplot(2, 2, i)\n",
        "    sns.boxplot(data=df[col], color='lightgreen')\n",
        "    plt.title(f'Boxplot of {col}')\n",
        "plt.tight_layout()\n",
        "plt.show()\n"
      ],
      "metadata": {
        "colab": {
          "base_uri": "https://localhost:8080/",
          "height": 641
        },
        "id": "dbJglc1eMY13",
        "outputId": "3eefb7d1-033f-4899-a08e-706d708e841a"
      },
      "execution_count": 10,
      "outputs": [
        {
          "output_type": "display_data",
          "data": {
            "text/plain": [
              "<Figure size 1500x1000 with 4 Axes>"
            ],
            "image/png": "[encoded data removed]"
          },
          "metadata": {}
        }
      ]
    },
    {
      "cell_type": "markdown",
      "source": [
        "#✅ 6.2 - 6.3 - 6.4: Outlier Detection, Removal, & Re-Boxplot"
      ],
      "metadata": {
        "id": "XwVOxMCsQNvf"
      }
    },
    {
      "cell_type": "code",
      "source": [
        "# ✅ Function-ka saarista outliers-ka (IQR method)\n",
        "\n",
        "def remove_outliers_iqr(df, column):\n",
        "    Q1 = df[column].quantile(0.25)\n",
        "    Q3 = df[column].quantile(0.75)\n",
        "    IQR = Q3 - Q1\n",
        "    lower = Q1 - 1.5 * IQR\n",
        "    upper = Q3 + 1.5 * IQR\n",
        "    return df[(df[column] >= lower) & (df[column] <= upper)]\n",
        "\n",
        "# Waa mid classic, fudud, aan ku xiranayn distribution nooca uu yahay\n",
        "# Badbaado u leh datasets-ka structured\n",
        "# Waxaa la xisaabiyaa Q1 (25%) iyo Q3 (75%) → IQR = Q3 - Q1\n",
        "# Outliers = wixii ka hooseeya (Q1 - 1.5*IQR) ama ka sareeya (Q3 + 1.5*IQR)\n",
        "\n",
        "# ✅ Ka saar outliers columns-ka muhiimka ah\n",
        "cols_to_clean = ['price', 'mileage', 'mpg', 'engineSize']\n",
        "for col in cols_to_clean:\n",
        "    df = remove_outliers_iqr(df, col)\n",
        "\n",
        "# ✅ Dib u eeg boxplots ka dib markaan outliers saarno\n",
        "import matplotlib.pyplot as plt\n",
        "import seaborn as sns\n",
        "\n",
        "plt.figure(figsize=(15, 10))\n",
        "for i, col in enumerate(cols_to_clean, 1):\n",
        "    plt.subplot(2, 2, i)\n",
        "    sns.boxplot(data=df[col], color='tomato')\n",
        "    plt.title(f'Boxplot AFTER removing outliers: {col}')\n",
        "plt.tight_layout()\n",
        "plt.show()\n"
      ],
      "metadata": {
        "colab": {
          "base_uri": "https://localhost:8080/",
          "height": 641
        },
        "id": "hz9YX85lM_Q0",
        "outputId": "3b1f0b10-9314-40b4-bc19-8e96bba38e47"
      },
      "execution_count": 14,
      "outputs": [
        {
          "output_type": "display_data",
          "data": {
            "text/plain": [
              "<Figure size 1500x1000 with 4 Axes>"
            ],
            "image/png": "[encoded data removed]"
          },
          "metadata": {}
        }
      ]
    },
    {
      "cell_type": "markdown",
      "source": [
        "# ✅ Tallaabada 7: Ka saar column-ka 'model' oo kaliya"
      ],
      "metadata": {
        "id": "60eh_zAgQ3YZ"
      }
    },
    {
      "cell_type": "code",
      "source": [
        "# ✅ Tallaabada 7: Ka saar column-ka 'model' oo kaliya\n",
        "\n",
        "df.drop(columns=['model'], inplace=True)\n",
        "\n",
        "# ✅ Xaqiiji in la saaray\n",
        "print(\"Columns after dropping 'model':\")\n",
        "print(df.columns)\n"
      ],
      "metadata": {
        "colab": {
          "base_uri": "https://localhost:8080/"
        },
        "id": "4wiZhTUnQ1C4",
        "outputId": "df9e277c-f31b-4cff-c152-534688a2cbd5"
      },
      "execution_count": 15,
      "outputs": [
        {
          "output_type": "stream",
          "name": "stdout",
          "text": [
            "Columns after dropping 'model':\n",
            "Index(['year', 'price', 'transmission', 'mileage', 'fuelType', 'tax', 'mpg',\n",
            "       'engineSize'],\n",
            "      dtype='object')\n"
          ]
        }
      ]
    },
    {
      "cell_type": "markdown",
      "source": [
        "#✅ Step 8: Encoding for Categorical Features"
      ],
      "metadata": {
        "id": "V7hI4lwkRMKn"
      }
    },
    {
      "cell_type": "code",
      "source": [
        "# ✅ Tallaabada 8: One-Hot Encoding for 'transmission' and 'fuelType'\n",
        "\n",
        "df = pd.get_dummies(df, columns=['transmission', 'fuelType'], drop_first=True)\n",
        "\n",
        "# ✅ Xaqiiji in encoding uu shaqeeyay\n",
        "print(\"Columns after encoding:\")\n",
        "print(df.columns)\n"
      ],
      "metadata": {
        "colab": {
          "base_uri": "https://localhost:8080/"
        },
        "id": "3Rc70Eq1RK0L",
        "outputId": "2f4f6e2b-eb68-4b93-8eae-e74819f794a8"
      },
      "execution_count": 16,
      "outputs": [
        {
          "output_type": "stream",
          "name": "stdout",
          "text": [
            "Columns after encoding:\n",
            "Index(['year', 'price', 'mileage', 'tax', 'mpg', 'engineSize',\n",
            "       'transmission_Manual', 'transmission_Semi-Auto', 'fuelType_Electric',\n",
            "       'fuelType_Hybrid', 'fuelType_Other', 'fuelType_Petrol'],\n",
            "      dtype='object')\n"
          ]
        }
      ]
    },
    {
      "cell_type": "markdown",
      "source": [
        "#✅ Step 9: Feature Selection"
      ],
      "metadata": {
        "id": "UxJ1RKFaRl5W"
      }
    },
    {
      "cell_type": "code",
      "source": [
        "# ✅ Tallaabada 9: Xiriirka u dhexeeya price iyo features kale\n",
        "\n",
        "# Kaliya numeric columns\n",
        "correlation = df.corr(numeric_only=True)\n",
        "\n",
        "# Eeg xiriirka la leh 'price'\n",
        "correlation_with_price = correlation['price'].sort_values(ascending=False)\n",
        "\n",
        "# Daabac\n",
        "print(\"📊 Xiriirka features-ka kale la leeyihiin 'price':\")\n",
        "print(correlation_with_price)\n"
      ],
      "metadata": {
        "colab": {
          "base_uri": "https://localhost:8080/"
        },
        "id": "2c4o9KzKRQif",
        "outputId": "aeb941ab-61c9-465f-afe5-2e5c5ebe0710"
      },
      "execution_count": 17,
      "outputs": [
        {
          "output_type": "stream",
          "name": "stdout",
          "text": [
            "📊 Xiriirka features-ka kale la leeyihiin 'price':\n",
            "price                     1.000000\n",
            "year                      0.627637\n",
            "tax                       0.463507\n",
            "engineSize                0.384989\n",
            "transmission_Semi-Auto    0.101444\n",
            "fuelType_Hybrid           0.030083\n",
            "fuelType_Electric         0.009574\n",
            "fuelType_Other            0.002992\n",
            "transmission_Manual      -0.209322\n",
            "fuelType_Petrol          -0.277862\n",
            "mpg                      -0.328989\n",
            "mileage                  -0.490267\n",
            "Name: price, dtype: float64\n"
          ]
        }
      ]
    },
    {
      "cell_type": "markdown",
      "source": [
        "#✅ Doorashada  Features-ka ugu Muhiimsan"
      ],
      "metadata": {
        "id": "a2b_KPqhSCtr"
      }
    },
    {
      "cell_type": "code",
      "source": [
        "# Tusaale: Xulo kuwa correlation fiican leh\n",
        "selected_features = [\n",
        "    'year', 'engineSize', 'tax',\n",
        "    'mileage', 'mpg', 'transmission_Manual'\n",
        "]\n",
        "\n",
        "# Features (X) iyo target (y)\n",
        "X = df[selected_features]\n",
        "y = df['price']\n"
      ],
      "metadata": {
        "id": "RRuVcNwNRy3i"
      },
      "execution_count": 18,
      "outputs": []
    },
    {
      "cell_type": "markdown",
      "source": [
        "#✅ Step 10: Feature Scaling (StandardScaler)"
      ],
      "metadata": {
        "id": "3zHP-zzHS7jP"
      }
    },
    {
      "cell_type": "code",
      "source": [
        "from sklearn.preprocessing import StandardScaler\n",
        "\n",
        "# ✅ Tallaabada 10: Standardize features\n",
        "scaler = StandardScaler()\n",
        "X_scaled = scaler.fit_transform(X)\n",
        "\n",
        "# ✅ Optional: Hubi xogta la scale gareeyay\n",
        "pd.DataFrame(X_scaled, columns=selected_features).head()\n"
      ],
      "metadata": {
        "colab": {
          "base_uri": "https://localhost:8080/",
          "height": 206
        },
        "id": "lzcaZ37BS5ra",
        "outputId": "de827aa1-21b2-404b-cd36-813143ad6160"
      },
      "execution_count": 19,
      "outputs": [
        {
          "output_type": "execute_result",
          "data": {
            "text/plain": [
              "       year  engineSize       tax   mileage       mpg  transmission_Manual\n",
              "0 -0.022101   -0.846700  0.618232 -0.337230 -0.054778            -2.576672\n",
              "1  0.558044   -0.846700  0.618232 -0.825928 -0.054778             0.388098\n",
              "2 -0.022101   -0.846700  0.618232 -0.585675 -0.054778             0.388098\n",
              "3  1.138189    0.486395  0.534094 -0.727847 -2.007994             0.388098\n",
              "4  1.138189   -0.846700  0.534094 -1.367335 -1.065062            -2.576672"
            ],
            "text/html": [
              "\n",
              "  <div id=\"df-9934f9bd-4dae-4460-b994-000805b0687e\" class=\"colab-df-container\">\n",
              "    <div>\n",
              "<style scoped>\n",
              "    .dataframe tbody tr th:only-of-type {\n",
              "        vertical-align: middle;\n",
              "    }\n",
              "\n",
              "    .dataframe tbody tr th {\n",
              "        vertical-align: top;\n",
              "    }\n",
              "\n",
              "    .dataframe thead th {\n",
              "        text-align: right;\n",
              "    }\n",
              "</style>\n",
              "<table border=\"1\" class=\"dataframe\">\n",
              "  <thead>\n",
              "    <tr style=\"text-align: right;\">\n",
              "      <th></th>\n",
              "      <th>year</th>\n",
              "      <th>engineSize</th>\n",
              "      <th>tax</th>\n",
              "      <th>mileage</th>\n",
              "      <th>mpg</th>\n",
              "      <th>transmission_Manual</th>\n",
              "    </tr>\n",
              "  </thead>\n",
              "  <tbody>\n",
              "    <tr>\n",
              "      <th>0</th>\n",
              "      <td>-0.022101</td>\n",
              "      <td>-0.846700</td>\n",
              "      <td>0.618232</td>\n",
              "      <td>-0.337230</td>\n",
              "      <td>-0.054778</td>\n",
              "      <td>-2.576672</td>\n",
              "    </tr>\n",
              "    <tr>\n",
              "      <th>1</th>\n",
              "      <td>0.558044</td>\n",
              "      <td>-0.846700</td>\n",
              "      <td>0.618232</td>\n",
              "      <td>-0.825928</td>\n",
              "      <td>-0.054778</td>\n",
              "      <td>0.388098</td>\n",
              "    </tr>\n",
              "    <tr>\n",
              "      <th>2</th>\n",
              "      <td>-0.022101</td>\n",
              "      <td>-0.846700</td>\n",
              "      <td>0.618232</td>\n",
              "      <td>-0.585675</td>\n",
              "      <td>-0.054778</td>\n",
              "      <td>0.388098</td>\n",
              "    </tr>\n",
              "    <tr>\n",
              "      <th>3</th>\n",
              "      <td>1.138189</td>\n",
              "      <td>0.486395</td>\n",
              "      <td>0.534094</td>\n",
              "      <td>-0.727847</td>\n",
              "      <td>-2.007994</td>\n",
              "      <td>0.388098</td>\n",
              "    </tr>\n",
              "    <tr>\n",
              "      <th>4</th>\n",
              "      <td>1.138189</td>\n",
              "      <td>-0.846700</td>\n",
              "      <td>0.534094</td>\n",
              "      <td>-1.367335</td>\n",
              "      <td>-1.065062</td>\n",
              "      <td>-2.576672</td>\n",
              "    </tr>\n",
              "  </tbody>\n",
              "</table>\n",
              "</div>\n",
              "    <div class=\"colab-df-buttons\">\n",
              "\n",
              "  <div class=\"colab-df-container\">\n",
              "    <button class=\"colab-df-convert\" onclick=\"convertToInteractive('df-9934f9bd-4dae-4460-b994-000805b0687e')\"\n",
              "            title=\"Convert this dataframe to an interactive table.\"\n",
              "            style=\"display:none;\">\n",
              "\n",
              "  <svg xmlns=\"http://www.w3.org/2000/svg\" height=\"24px\" viewBox=\"0 -960 960 960\">\n",
              "    <path d=\"M120-120v-720h720v720H120Zm60-500h600v-160H180v160Zm220 220h160v-160H400v160Zm0 220h160v-160H400v160ZM180-400h160v-160H180v160Zm440 0h160v-160H620v160ZM180-180h160v-160H180v160Zm440 0h160v-160H620v160Z\"/>\n",
              "  </svg>\n",
              "    </button>\n",
              "\n",
              "  <style>\n",
              "    .colab-df-container {\n",
              "      display:flex;\n",
              "      gap: 12px;\n",
              "    }\n",
              "\n",
              "    .colab-df-convert {\n",
              "      background-color: #E8F0FE;\n",
              "      border: none;\n",
              "      border-radius: 50%;\n",
              "      cursor: pointer;\n",
              "      display: none;\n",
              "      fill: #1967D2;\n",
              "      height: 32px;\n",
              "      padding: 0 0 0 0;\n",
              "      width: 32px;\n",
              "    }\n",
              "\n",
              "    .colab-df-convert:hover {\n",
              "      background-color: #E2EBFA;\n",
              "      box-shadow: 0px 1px 2px rgba(60, 64, 67, 0.3), 0px 1px 3px 1px rgba(60, 64, 67, 0.15);\n",
              "      fill: #174EA6;\n",
              "    }\n",
              "\n",
              "    .colab-df-buttons div {\n",
              "      margin-bottom: 4px;\n",
              "    }\n",
              "\n",
              "    [theme=dark] .colab-df-convert {\n",
              "      background-color: #3B4455;\n",
              "      fill: #D2E3FC;\n",
              "    }\n",
              "\n",
              "    [theme=dark] .colab-df-convert:hover {\n",
              "      background-color: #434B5C;\n",
              "      box-shadow: 0px 1px 3px 1px rgba(0, 0, 0, 0.15);\n",
              "      filter: drop-shadow(0px 1px 2px rgba(0, 0, 0, 0.3));\n",
              "      fill: #FFFFFF;\n",
              "    }\n",
              "  </style>\n",
              "\n",
              "    <script>\n",
              "      const buttonEl =\n",
              "        document.querySelector('#df-9934f9bd-4dae-4460-b994-000805b0687e button.colab-df-convert');\n",
              "      buttonEl.style.display =\n",
              "        google.colab.kernel.accessAllowed ? 'block' : 'none';\n",
              "\n",
              "      async function convertToInteractive(key) {\n",
              "        const element = document.querySelector('#df-9934f9bd-4dae-4460-b994-000805b0687e');\n",
              "        const dataTable =\n",
              "          await google.colab.kernel.invokeFunction('convertToInteractive',\n",
              "                                                    [key], {});\n",
              "        if (!dataTable) return;\n",
              "\n",
              "        const docLinkHtml = 'Like what you see? Visit the ' +\n",
              "          '<a target=\"_blank\" href=https://colab.research.google.com/notebooks/data_table.ipynb>data table notebook</a>'\n",
              "          + ' to learn more about interactive tables.';\n",
              "        element.innerHTML = '';\n",
              "        dataTable['output_type'] = 'display_data';\n",
              "        await google.colab.output.renderOutput(dataTable, element);\n",
              "        const docLink = document.createElement('div');\n",
              "        docLink.innerHTML = docLinkHtml;\n",
              "        element.appendChild(docLink);\n",
              "      }\n",
              "    </script>\n",
              "  </div>\n",
              "\n",
              "\n",
              "    <div id=\"df-b336bffd-15c1-4633-b354-935f026f0d78\">\n",
              "      <button class=\"colab-df-quickchart\" onclick=\"quickchart('df-b336bffd-15c1-4633-b354-935f026f0d78')\"\n",
              "                title=\"Suggest charts\"\n",
              "                style=\"display:none;\">\n",
              "\n",
              "<svg xmlns=\"http://www.w3.org/2000/svg\" height=\"24px\"viewBox=\"0 0 24 24\"\n",
              "     width=\"24px\">\n",
              "    <g>\n",
              "        <path d=\"M19 3H5c-1.1 0-2 .9-2 2v14c0 1.1.9 2 2 2h14c1.1 0 2-.9 2-2V5c0-1.1-.9-2-2-2zM9 17H7v-7h2v7zm4 0h-2V7h2v10zm4 0h-2v-4h2v4z\"/>\n",
              "    </g>\n",
              "</svg>\n",
              "      </button>\n",
              "\n",
              "<style>\n",
              "  .colab-df-quickchart {\n",
              "      --bg-color: #E8F0FE;\n",
              "      --fill-color: #1967D2;\n",
              "      --hover-bg-color: #E2EBFA;\n",
              "      --hover-fill-color: #174EA6;\n",
              "      --disabled-fill-color: #AAA;\n",
              "      --disabled-bg-color: #DDD;\n",
              "  }\n",
              "\n",
              "  [theme=dark] .colab-df-quickchart {\n",
              "      --bg-color: #3B4455;\n",
              "      --fill-color: #D2E3FC;\n",
              "      --hover-bg-color: #434B5C;\n",
              "      --hover-fill-color: #FFFFFF;\n",
              "      --disabled-bg-color: #3B4455;\n",
              "      --disabled-fill-color: #666;\n",
              "  }\n",
              "\n",
              "  .colab-df-quickchart {\n",
              "    background-color: var(--bg-color);\n",
              "    border: none;\n",
              "    border-radius: 50%;\n",
              "    cursor: pointer;\n",
              "    display: none;\n",
              "    fill: var(--fill-color);\n",
              "    height: 32px;\n",
              "    padding: 0;\n",
              "    width: 32px;\n",
              "  }\n",
              "\n",
              "  .colab-df-quickchart:hover {\n",
              "    background-color: var(--hover-bg-color);\n",
              "    box-shadow: 0 1px 2px rgba(60, 64, 67, 0.3), 0 1px 3px 1px rgba(60, 64, 67, 0.15);\n",
              "    fill: var(--button-hover-fill-color);\n",
              "  }\n",
              "\n",
              "  .colab-df-quickchart-complete:disabled,\n",
              "  .colab-df-quickchart-complete:disabled:hover {\n",
              "    background-color: var(--disabled-bg-color);\n",
              "    fill: var(--disabled-fill-color);\n",
              "    box-shadow: none;\n",
              "  }\n",
              "\n",
              "  .colab-df-spinner {\n",
              "    border: 2px solid var(--fill-color);\n",
              "    border-color: transparent;\n",
              "    border-bottom-color: var(--fill-color);\n",
              "    animation:\n",
              "      spin 1s steps(1) infinite;\n",
              "  }\n",
              "\n",
              "  @keyframes spin {\n",
              "    0% {\n",
              "      border-color: transparent;\n",
              "      border-bottom-color: var(--fill-color);\n",
              "      border-left-color: var(--fill-color);\n",
              "    }\n",
              "    20% {\n",
              "      border-color: transparent;\n",
              "      border-left-color: var(--fill-color);\n",
              "      border-top-color: var(--fill-color);\n",
              "    }\n",
              "    30% {\n",
              "      border-color: transparent;\n",
              "      border-left-color: var(--fill-color);\n",
              "      border-top-color: var(--fill-color);\n",
              "      border-right-color: var(--fill-color);\n",
              "    }\n",
              "    40% {\n",
              "      border-color: transparent;\n",
              "      border-right-color: var(--fill-color);\n",
              "      border-top-color: var(--fill-color);\n",
              "    }\n",
              "    60% {\n",
              "      border-color: transparent;\n",
              "      border-right-color: var(--fill-color);\n",
              "    }\n",
              "    80% {\n",
              "      border-color: transparent;\n",
              "      border-right-color: var(--fill-color);\n",
              "      border-bottom-color: var(--fill-color);\n",
              "    }\n",
              "    90% {\n",
              "      border-color: transparent;\n",
              "      border-bottom-color: var(--fill-color);\n",
              "    }\n",
              "  }\n",
              "</style>\n",
              "\n",
              "      <script>\n",
              "        async function quickchart(key) {\n",
              "          const quickchartButtonEl =\n",
              "            document.querySelector('#' + key + ' button');\n",
              "          quickchartButtonEl.disabled = true;  // To prevent multiple clicks.\n",
              "          quickchartButtonEl.classList.add('colab-df-spinner');\n",
              "          try {\n",
              "            const charts = await google.colab.kernel.invokeFunction(\n",
              "                'suggestCharts', [key], {});\n",
              "          } catch (error) {\n",
              "            console.error('Error during call to suggestCharts:', error);\n",
              "          }\n",
              "          quickchartButtonEl.classList.remove('colab-df-spinner');\n",
              "          quickchartButtonEl.classList.add('colab-df-quickchart-complete');\n",
              "        }\n",
              "        (() => {\n",
              "          let quickchartButtonEl =\n",
              "            document.querySelector('#df-b336bffd-15c1-4633-b354-935f026f0d78 button');\n",
              "          quickchartButtonEl.style.display =\n",
              "            google.colab.kernel.accessAllowed ? 'block' : 'none';\n",
              "        })();\n",
              "      </script>\n",
              "    </div>\n",
              "\n",
              "    </div>\n",
              "  </div>\n"
            ],
            "application/vnd.google.colaboratory.intrinsic+json": {
              "type": "dataframe",
              "summary": "{\n  \"name\": \"pd\",\n  \"rows\": 5,\n  \"fields\": [\n    {\n      \"column\": \"year\",\n      \"properties\": {\n        \"dtype\": \"number\",\n        \"std\": 0.5801452695734426,\n        \"min\": -0.022101444666097547,\n        \"max\": 1.1381890944807878,\n        \"num_unique_values\": 3,\n        \"samples\": [\n          -0.022101444666097547,\n          0.558043824907345,\n          1.1381890944807878\n        ],\n        \"semantic_type\": \"\",\n        \"description\": \"\"\n      }\n    },\n    {\n      \"column\": \"engineSize\",\n      \"properties\": {\n        \"dtype\": \"number\",\n        \"std\": 0.5961780267520181,\n        \"min\": -0.8467000392560087,\n        \"max\": 0.486394555253192,\n        \"num_unique_values\": 2,\n        \"samples\": [\n          0.486394555253192,\n          -0.8467000392560087\n        ],\n        \"semantic_type\": \"\",\n        \"description\": \"\"\n      }\n    },\n    {\n      \"column\": \"tax\",\n      \"properties\": {\n        \"dtype\": \"number\",\n        \"std\": 0.04608411765052021,\n        \"min\": 0.5340941749494992,\n        \"max\": 0.6182318775492055,\n        \"num_unique_values\": 2,\n        \"samples\": [\n          0.5340941749494992,\n          0.6182318775492055\n        ],\n        \"semantic_type\": \"\",\n        \"description\": \"\"\n      }\n    },\n    {\n      \"column\": \"mileage\",\n      \"properties\": {\n        \"dtype\": \"number\",\n        \"std\": 0.3817631786982081,\n        \"min\": -1.3673350143751613,\n        \"max\": -0.33723002388349566,\n        \"num_unique_values\": 5,\n        \"samples\": [\n          -0.8259280144631747,\n          -1.3673350143751613\n        ],\n        \"semantic_type\": \"\",\n        \"description\": \"\"\n      }\n    },\n    {\n      \"column\": \"mpg\",\n      \"properties\": {\n        \"dtype\": \"number\",\n        \"std\": 0.8773912538083862,\n        \"min\": -2.007994175036463,\n        \"max\": -0.054777705476441785,\n        \"num_unique_values\": 3,\n        \"samples\": [\n          -0.054777705476441785,\n          -2.007994175036463\n        ],\n        \"semantic_type\": \"\",\n        \"description\": \"\"\n      }\n    },\n    {\n      \"column\": \"transmission_Manual\",\n      \"properties\": {\n        \"dtype\": \"number\",\n        \"std\": 1.6238710479985385,\n        \"min\": -2.5766717998076034,\n        \"max\": 0.3880975450869095,\n        \"num_unique_values\": 2,\n        \"samples\": [\n          0.3880975450869095,\n          -2.5766717998076034\n        ],\n        \"semantic_type\": \"\",\n        \"description\": \"\"\n      }\n    }\n  ]\n}"
            }
          },
          "metadata": {},
          "execution_count": 19
        }
      ]
    },
    {
      "cell_type": "markdown",
      "source": [
        "#✅ Step 11: Data Splitting (Train/Test Split)"
      ],
      "metadata": {
        "id": "ZXSfTal7TlJV"
      }
    },
    {
      "cell_type": "code",
      "source": [
        "from sklearn.model_selection import train_test_split\n",
        "\n",
        "# ✅ Tallaabada 11: Kala qeybi xogta\n",
        "X_train_scaled, X_test_scaled, y_train, y_test = train_test_split(\n",
        "    X_scaled, y, test_size=0.2, random_state=42\n",
        ")\n",
        "\n",
        "# ✅ Hubi cabbirka xogta\n",
        "print(\"X_train:\", X_train_scaled.shape)\n",
        "print(\"X_test:\", X_test_scaled.shape)\n",
        "print(\"y_train:\", y_train.shape)\n",
        "print(\"y_test:\", y_test.shape)\n"
      ],
      "metadata": {
        "colab": {
          "base_uri": "https://localhost:8080/"
        },
        "id": "UkksWlY5Tj9B",
        "outputId": "33f144eb-1f7e-448b-a2d5-6b1c83bd79f6"
      },
      "execution_count": 20,
      "outputs": [
        {
          "output_type": "stream",
          "name": "stdout",
          "text": [
            "X_train: (13145, 6)\n",
            "X_test: (3287, 6)\n",
            "y_train: (13145,)\n",
            "y_test: (3287,)\n"
          ]
        }
      ]
    },
    {
      "cell_type": "markdown",
      "source": [
        "#✅ Code: Random Forest Training + Evaluation"
      ],
      "metadata": {
        "id": "7PV52zsWUZzg"
      }
    },
    {
      "cell_type": "code",
      "source": [
        "from sklearn.ensemble import RandomForestRegressor\n",
        "from sklearn.metrics import mean_absolute_error, mean_squared_error, r2_score\n",
        "import numpy as np\n",
        "\n",
        "# 1. Abuur model-ka\n",
        "rf_model = RandomForestRegressor(random_state=42)\n",
        "\n",
        "# 2. Tababar model-ka\n",
        "rf_model.fit(X_train_scaled, y_train)\n",
        "\n",
        "# 3. Samee saadaal\n",
        "y_pred_rf = rf_model.predict(X_test_scaled)\n",
        "\n",
        "# 4. Qiimeyn\n",
        "mae = mean_absolute_error(y_test, y_pred_rf)\n",
        "rmse = np.sqrt(mean_squared_error(y_test, y_pred_rf))\n",
        "r2 = r2_score(y_test, y_pred_rf)\n",
        "\n",
        "# 5. Daabac natiijooyinka\n",
        "print(\"✅ RF Model Evaluation:\")\n",
        "print(f\"MAE (celcelis khalad): ${mae:.2f}\")\n",
        "print(f\"RMSE (khalad adag): ${rmse:.2f}\")\n",
        "print(f\"R² Score (saxnaanta): {r2:.4f}\")\n"
      ],
      "metadata": {
        "colab": {
          "base_uri": "https://localhost:8080/"
        },
        "id": "NOFlMqWNUYoQ",
        "outputId": "3bcf397b-9fb3-48a2-ddc3-7ff70c759e93"
      },
      "execution_count": 21,
      "outputs": [
        {
          "output_type": "stream",
          "name": "stdout",
          "text": [
            "✅ RF Model Evaluation:\n",
            "MAE (celcelis khalad): $971.34\n",
            "RMSE (khalad adag): $1336.82\n",
            "R² Score (saxnaanta): 0.8863\n"
          ]
        }
      ]
    },
    {
      "cell_type": "markdown",
      "source": [
        "# ✅ Function: Saadaasha qiimaha gaariga (Random Forest)"
      ],
      "metadata": {
        "id": "DvVBnvseU4ty"
      }
    },
    {
      "cell_type": "code",
      "source": [
        "# ✅ Function: Saadaasha qiimaha gaariga (Random Forest)\n",
        "\n",
        "def predict_price_rf(year, engineSize, tax, mileage, mpg, transmission_Manual):\n",
        "    import pandas as pd\n",
        "\n",
        "    # 1. Diyaari xogta cusub\n",
        "    input_data = pd.DataFrame([{\n",
        "        'year': year,\n",
        "        'engineSize': engineSize,\n",
        "        'tax': tax,\n",
        "        'mileage': mileage,\n",
        "        'mpg': mpg,\n",
        "        'transmission_Manual': transmission_Manual\n",
        "    }])\n",
        "\n",
        "    # 2. Ku scale-garee sida features-ka tababarka\n",
        "    input_scaled = scaler.transform(input_data)\n",
        "\n",
        "    # 3. Samee saadaal\n",
        "    prediction = rf_model.predict(input_scaled)[0]\n",
        "\n",
        "    return round(prediction, 2)\n"
      ],
      "metadata": {
        "id": "rgYyxdLQU3mU"
      },
      "execution_count": 22,
      "outputs": []
    },
    {
      "cell_type": "code",
      "source": [
        "# Tijaabi qiimo gaar ah\n",
        "predicted = predict_price_rf(2020, 1.5, 150, 12000, 50.0, 1)\n",
        "print(f\"✅ Qiimaha la saadaaliyay (Random Forest): ${predicted}\")\n"
      ],
      "metadata": {
        "colab": {
          "base_uri": "https://localhost:8080/"
        },
        "id": "622yB0syU75w",
        "outputId": "e3756bbf-81d5-42b1-98d4-3b99e7178976"
      },
      "execution_count": 23,
      "outputs": [
        {
          "output_type": "stream",
          "name": "stdout",
          "text": [
            "✅ Qiimaha la saadaaliyay (Random Forest): $18133.74\n"
          ]
        }
      ]
    },
    {
      "cell_type": "markdown",
      "source": [
        "# training and evaluation XGBoost Regressor"
      ],
      "metadata": {
        "id": "WOVD9rdaV8CE"
      }
    },
    {
      "cell_type": "code",
      "source": [
        "from xgboost import XGBRegressor\n",
        "\n",
        "# 1. Abuur model-ka\n",
        "xgb_model = XGBRegressor(random_state=42, verbosity=0)\n",
        "\n",
        "# 2. Tababar model-ka\n",
        "xgb_model.fit(X_train_scaled, y_train)\n",
        "\n",
        "# 3. Samee saadaal\n",
        "y_pred_xgb = xgb_model.predict(X_test_scaled)\n",
        "\n",
        "# 4. Qiimeyn\n",
        "mae_xgb = mean_absolute_error(y_test, y_pred_xgb)\n",
        "rmse_xgb = np.sqrt(mean_squared_error(y_test, y_pred_xgb))\n",
        "r2_xgb = r2_score(y_test, y_pred_xgb)\n",
        "\n",
        "# 5. Natiijo\n",
        "print(\"✅ XGBoost Model Evaluation:\")\n",
        "print(f\"MAE: ${mae_xgb:.2f}\")\n",
        "print(f\"RMSE: ${rmse_xgb:.2f}\")\n",
        "print(f\"R² Score: {r2_xgb:.4f}\")\n"
      ],
      "metadata": {
        "colab": {
          "base_uri": "https://localhost:8080/"
        },
        "id": "iu-REPBuV5yC",
        "outputId": "3bf30871-b2ed-4932-9ebe-9736046b36a8"
      },
      "execution_count": 24,
      "outputs": [
        {
          "output_type": "stream",
          "name": "stdout",
          "text": [
            "✅ XGBoost Model Evaluation:\n",
            "MAE: $884.94\n",
            "RMSE: $1220.02\n",
            "R² Score: 0.9053\n"
          ]
        }
      ]
    },
    {
      "cell_type": "markdown",
      "source": [
        "#✅ Hadda: XGBoost Model Prediction Function"
      ],
      "metadata": {
        "id": "6VptPw5QW5du"
      }
    },
    {
      "cell_type": "code",
      "source": [
        "# ✅ Function: Saadaasha qiimaha gaariga (XGBoost)\n",
        "\n",
        "def predict_price_xgb(year, engineSize, tax, mileage, mpg, transmission_Manual):\n",
        "    import pandas as pd\n",
        "\n",
        "    input_data = pd.DataFrame([{\n",
        "        'year': year,\n",
        "        'engineSize': engineSize,\n",
        "        'tax': tax,\n",
        "        'mileage': mileage,\n",
        "        'mpg': mpg,\n",
        "        'transmission_Manual': transmission_Manual\n",
        "    }])\n",
        "\n",
        "    input_scaled = scaler.transform(input_data)\n",
        "    prediction = xgb_model.predict(input_scaled)[0]\n",
        "\n",
        "    return round(prediction, 2)\n",
        "\n",
        "# ✅ Tijaabo: Saadaal\n",
        "predicted_xgb = predict_price_xgb(2020, 1.5, 150, 12000, 50.0, 1)\n",
        "print(f\"✅ Qiimaha la saadaaliyay (XGBoost): ${predicted_xgb}\")\n"
      ],
      "metadata": {
        "colab": {
          "base_uri": "https://localhost:8080/"
        },
        "id": "kr5DcsdSWCO8",
        "outputId": "a52ddaa6-a5ab-4fa1-8852-e93f7cb82164"
      },
      "execution_count": 25,
      "outputs": [
        {
          "output_type": "stream",
          "name": "stdout",
          "text": [
            "✅ Qiimaha la saadaaliyay (XGBoost): $18403.220703125\n"
          ]
        }
      ]
    },
    {
      "cell_type": "markdown",
      "source": [
        "#✅ Gradient Boosting Regressor (GBR) Training + Evaluation"
      ],
      "metadata": {
        "id": "VOi9cQ76XZJc"
      }
    },
    {
      "cell_type": "code",
      "source": [
        "from sklearn.ensemble import GradientBoostingRegressor\n",
        "\n",
        "# ✅ Tallaabada: Tababaridda GBR\n",
        "gbr_model = GradientBoostingRegressor(random_state=42)\n",
        "gbr_model.fit(X_train_scaled, y_train)\n",
        "\n",
        "# ✅ Saadaal & Qiimeyn\n",
        "y_pred_gbr = gbr_model.predict(X_test_scaled)\n",
        "\n",
        "mae_gbr = mean_absolute_error(y_test, y_pred_gbr)\n",
        "rmse_gbr = np.sqrt(mean_squared_error(y_test, y_pred_gbr))\n",
        "r2_gbr = r2_score(y_test, y_pred_gbr)\n",
        "\n",
        "print(\"✅ Gradient Boosting Regressor Evaluation:\")\n",
        "print(f\"MAE: ${mae_gbr:.2f}\")\n",
        "print(f\"RMSE: ${rmse_gbr:.2f}\")\n",
        "print(f\"R² Score: {r2_gbr:.4f}\")\n"
      ],
      "metadata": {
        "colab": {
          "base_uri": "https://localhost:8080/"
        },
        "id": "2NzZl5bHXedu",
        "outputId": "e679d746-f5c5-42b8-a9cf-2dcc69d2af84"
      },
      "execution_count": 26,
      "outputs": [
        {
          "output_type": "stream",
          "name": "stdout",
          "text": [
            "✅ Gradient Boosting Regressor Evaluation:\n",
            "MAE: $1028.82\n",
            "RMSE: $1400.28\n",
            "R² Score: 0.8752\n"
          ]
        }
      ]
    },
    {
      "cell_type": "markdown",
      "source": [
        "# ✅ Function: Saadaasha qiimaha gaariga (GBR)"
      ],
      "metadata": {
        "id": "2X-T1cMlYJOD"
      }
    },
    {
      "cell_type": "code",
      "source": [
        "# ✅ Function: Saadaasha qiimaha gaariga (GBR)\n",
        "\n",
        "def predict_price_gbr(year, engineSize, tax, mileage, mpg, transmission_Manual):\n",
        "    import pandas as pd\n",
        "\n",
        "    input_data = pd.DataFrame([{\n",
        "        'year': year,\n",
        "        'engineSize': engineSize,\n",
        "        'tax': tax,\n",
        "        'mileage': mileage,\n",
        "        'mpg': mpg,\n",
        "        'transmission_Manual': transmission_Manual\n",
        "    }])\n",
        "\n",
        "    input_scaled = scaler.transform(input_data)\n",
        "    prediction = gbr_model.predict(input_scaled)[0]\n",
        "\n",
        "    return round(prediction, 2)\n",
        "\n",
        "# ✅ Tijaabo\n",
        "predicted_gbr = predict_price_gbr(2020, 1.5, 150, 12000, 50.0, 1)\n",
        "print(f\"✅ Qiimaha la saadaaliyay (GBR): ${predicted_gbr}\")\n"
      ],
      "metadata": {
        "colab": {
          "base_uri": "https://localhost:8080/"
        },
        "id": "L4TgfLe6XmNz",
        "outputId": "3c627963-9de2-44ed-c67f-3941cb94428e"
      },
      "execution_count": 27,
      "outputs": [
        {
          "output_type": "stream",
          "name": "stdout",
          "text": [
            "✅ Qiimaha la saadaaliyay (GBR): $20522.43\n"
          ]
        }
      ]
    },
    {
      "cell_type": "markdown",
      "source": [
        "#✅ HistGradientBoosting Regressor (HGB)   Training + Evaluation"
      ],
      "metadata": {
        "id": "em2gPsPFYosH"
      }
    },
    {
      "cell_type": "code",
      "source": [
        "from sklearn.ensemble import HistGradientBoostingRegressor\n",
        "\n",
        "# ✅ Tababaridda model-ka HGB\n",
        "hgb_model = HistGradientBoostingRegressor(random_state=42)\n",
        "hgb_model.fit(X_train_scaled, y_train)\n",
        "\n",
        "# ✅ Saadaal & Qiimeyn\n",
        "y_pred_hgb = hgb_model.predict(X_test_scaled)\n",
        "\n",
        "mae_hgb = mean_absolute_error(y_test, y_pred_hgb)\n",
        "rmse_hgb = np.sqrt(mean_squared_error(y_test, y_pred_hgb))\n",
        "r2_hgb = r2_score(y_test, y_pred_hgb)\n",
        "\n",
        "print(\"✅ HistGradientBoosting Regressor Evaluation:\")\n",
        "print(f\"MAE: ${mae_hgb:.2f}\")\n",
        "print(f\"RMSE: ${rmse_hgb:.2f}\")\n",
        "print(f\"R² Score: {r2_hgb:.4f}\")\n"
      ],
      "metadata": {
        "colab": {
          "base_uri": "https://localhost:8080/"
        },
        "id": "GiNscFKEYneg",
        "outputId": "a32c6161-23c7-4b40-ae57-03bdbb2c0686"
      },
      "execution_count": 28,
      "outputs": [
        {
          "output_type": "stream",
          "name": "stdout",
          "text": [
            "✅ HistGradientBoosting Regressor Evaluation:\n",
            "MAE: $897.39\n",
            "RMSE: $1226.09\n",
            "R² Score: 0.9043\n"
          ]
        }
      ]
    },
    {
      "cell_type": "markdown",
      "source": [
        "# ✅ Function: Saadaasha qiimaha gaariga (HGB)\n"
      ],
      "metadata": {
        "id": "lIAq1u4wY40i"
      }
    },
    {
      "cell_type": "code",
      "source": [
        "# ✅ Function: Saadaasha qiimaha gaariga (HGB)\n",
        "\n",
        "def predict_price_hgb(year, engineSize, tax, mileage, mpg, transmission_Manual):\n",
        "    import pandas as pd\n",
        "\n",
        "    input_data = pd.DataFrame([{\n",
        "        'year': year,\n",
        "        'engineSize': engineSize,\n",
        "        'tax': tax,\n",
        "        'mileage': mileage,\n",
        "        'mpg': mpg,\n",
        "        'transmission_Manual': transmission_Manual\n",
        "    }])\n",
        "\n",
        "    input_scaled = scaler.transform(input_data)\n",
        "    prediction = hgb_model.predict(input_scaled)[0]\n",
        "\n",
        "    return round(prediction, 2)\n",
        "\n",
        "# ✅ Tijaabo\n",
        "predicted_hgb = predict_price_hgb(2020, 1.5, 150, 12000, 50.0, 1)\n",
        "print(f\"✅ Qiimaha la saadaaliyay (HGB): ${predicted_hgb}\")\n"
      ],
      "metadata": {
        "colab": {
          "base_uri": "https://localhost:8080/"
        },
        "id": "poeB4QwbYw_d",
        "outputId": "25cc5b1f-8651-48fc-dec5-82879bb97fb5"
      },
      "execution_count": 29,
      "outputs": [
        {
          "output_type": "stream",
          "name": "stdout",
          "text": [
            "✅ Qiimaha la saadaaliyay (HGB): $18798.48\n"
          ]
        }
      ]
    },
    {
      "cell_type": "markdown",
      "source": [
        "#✅ Decision Tree Regressor Training + Evaluation"
      ],
      "metadata": {
        "id": "7OjYsATnZWuo"
      }
    },
    {
      "cell_type": "code",
      "source": [
        "from sklearn.tree import DecisionTreeRegressor\n",
        "\n",
        "# ✅ Tababaridda Decision Tree\n",
        "dt_model = DecisionTreeRegressor(random_state=42)\n",
        "dt_model.fit(X_train_scaled, y_train)\n",
        "\n",
        "# ✅ Saadaal & Qiimeyn\n",
        "y_pred_dt = dt_model.predict(X_test_scaled)\n",
        "\n",
        "mae_dt = mean_absolute_error(y_test, y_pred_dt)\n",
        "rmse_dt = np.sqrt(mean_squared_error(y_test, y_pred_dt))\n",
        "r2_dt = r2_score(y_test, y_pred_dt)\n",
        "\n",
        "print(\"✅ Decision Tree Evaluation:\")\n",
        "print(f\"MAE: ${mae_dt:.2f}\")\n",
        "print(f\"RMSE: ${rmse_dt:.2f}\")\n",
        "print(f\"R² Score: {r2_dt:.4f}\")\n"
      ],
      "metadata": {
        "colab": {
          "base_uri": "https://localhost:8080/"
        },
        "id": "NBLmR6dRZVVS",
        "outputId": "0fe89862-7609-4e32-9b0a-9e88f86bf374"
      },
      "execution_count": 30,
      "outputs": [
        {
          "output_type": "stream",
          "name": "stdout",
          "text": [
            "✅ Decision Tree Evaluation:\n",
            "MAE: $1168.99\n",
            "RMSE: $1624.13\n",
            "R² Score: 0.8321\n"
          ]
        }
      ]
    },
    {
      "cell_type": "markdown",
      "source": [
        "# ✅ Function: Saadaasha qiimaha gaariga (Decision Tree)\n"
      ],
      "metadata": {
        "id": "9UnFDWn4ZfVe"
      }
    },
    {
      "cell_type": "code",
      "source": [
        "# ✅ Function: Saadaasha qiimaha gaariga (Decision Tree)\n",
        "\n",
        "def predict_price_dt(year, engineSize, tax, mileage, mpg, transmission_Manual):\n",
        "    import pandas as pd\n",
        "\n",
        "    input_data = pd.DataFrame([{\n",
        "        'year': year,\n",
        "        'engineSize': engineSize,\n",
        "        'tax': tax,\n",
        "        'mileage': mileage,\n",
        "        'mpg': mpg,\n",
        "        'transmission_Manual': transmission_Manual\n",
        "    }])\n",
        "\n",
        "    input_scaled = scaler.transform(input_data)\n",
        "    prediction = dt_model.predict(input_scaled)[0]\n",
        "\n",
        "    return round(prediction, 2)\n",
        "\n",
        "# ✅ Tijaabo\n",
        "predicted_dt = predict_price_dt(2020, 1.5, 150, 12000, 50.0, 1)\n",
        "print(f\"✅ Qiimaha la saadaaliyay (Decision Tree): ${predicted_dt}\")\n"
      ],
      "metadata": {
        "colab": {
          "base_uri": "https://localhost:8080/"
        },
        "id": "_AMkfaoXZbDE",
        "outputId": "6e8ffef5-d2e4-48d9-bbed-6bf10d99b81d"
      },
      "execution_count": 31,
      "outputs": [
        {
          "output_type": "stream",
          "name": "stdout",
          "text": [
            "✅ Qiimaha la saadaaliyay (Decision Tree): $18300.0\n"
          ]
        }
      ]
    },
    {
      "cell_type": "markdown",
      "source": [
        "#✅ Linear Regression Training + Evaluation"
      ],
      "metadata": {
        "id": "cBHHx9IgaQyT"
      }
    },
    {
      "cell_type": "code",
      "source": [
        "from sklearn.linear_model import LinearRegression\n",
        "\n",
        "# ✅ Tababaridda Linear Regression\n",
        "lr_model = LinearRegression()\n",
        "lr_model.fit(X_train_scaled, y_train)\n",
        "\n",
        "# ✅ Saadaal & Qiimeyn\n",
        "y_pred_lr = lr_model.predict(X_test_scaled)\n",
        "\n",
        "mae_lr = mean_absolute_error(y_test, y_pred_lr)\n",
        "rmse_lr = np.sqrt(mean_squared_error(y_test, y_pred_lr))\n",
        "r2_lr = r2_score(y_test, y_pred_lr)\n",
        "\n",
        "print(\"✅ Linear Regression Evaluation:\")\n",
        "print(f\"MAE: ${mae_lr:.2f}\")\n",
        "print(f\"RMSE: ${rmse_lr:.2f}\")\n",
        "print(f\"R² Score: {r2_lr:.4f}\")\n"
      ],
      "metadata": {
        "colab": {
          "base_uri": "https://localhost:8080/"
        },
        "id": "ieZ_XDdlaPng",
        "outputId": "3c150d35-72b1-42d0-9e7a-1b2d889345d6"
      },
      "execution_count": 32,
      "outputs": [
        {
          "output_type": "stream",
          "name": "stdout",
          "text": [
            "✅ Linear Regression Evaluation:\n",
            "MAE: $1650.22\n",
            "RMSE: $2157.75\n",
            "R² Score: 0.7037\n"
          ]
        }
      ]
    },
    {
      "cell_type": "markdown",
      "source": [
        "# ✅ Function: Saadaasha qiimaha gaariga (Linear Regression)\n"
      ],
      "metadata": {
        "id": "pIT9F_WAaaOB"
      }
    },
    {
      "cell_type": "code",
      "source": [
        "# ✅ Function: Saadaasha qiimaha gaariga (Linear Regression)\n",
        "\n",
        "def predict_price_lr(year, engineSize, tax, mileage, mpg, transmission_Manual):\n",
        "    import pandas as pd\n",
        "\n",
        "    input_data = pd.DataFrame([{\n",
        "        'year': year,\n",
        "        'engineSize': engineSize,\n",
        "        'tax': tax,\n",
        "        'mileage': mileage,\n",
        "        'mpg': mpg,\n",
        "        'transmission_Manual': transmission_Manual\n",
        "    }])\n",
        "\n",
        "    input_scaled = scaler.transform(input_data)\n",
        "    prediction = lr_model.predict(input_scaled)[0]\n",
        "\n",
        "    return round(prediction, 2)\n",
        "\n",
        "# ✅ Tijaabo\n",
        "predicted_lr = predict_price_lr(2020, 1.5, 150, 12000, 50.0, 1)\n",
        "print(f\"✅ Qiimaha la saadaaliyay (Linear Regression): ${predicted_lr}\")\n"
      ],
      "metadata": {
        "colab": {
          "base_uri": "https://localhost:8080/"
        },
        "id": "AnEibCU_aYpl",
        "outputId": "da5532ea-cc84-4456-cfa1-d407e4d9a896"
      },
      "execution_count": 33,
      "outputs": [
        {
          "output_type": "stream",
          "name": "stdout",
          "text": [
            "✅ Qiimaha la saadaaliyay (Linear Regression): $17834.43\n"
          ]
        }
      ]
    },
    {
      "cell_type": "markdown",
      "source": [
        "#✅CatBoost Regressor Training + Evaluation"
      ],
      "metadata": {
        "id": "mawG3_Oya4S7"
      }
    },
    {
      "cell_type": "code",
      "source": [
        "# Haddii uusan weli ku jirin environment-kaaga, ku rakib:\n",
        "!pip install catboost\n",
        "\n",
        "from catboost import CatBoostRegressor\n",
        "\n",
        "# ✅ Tababaridda CatBoost\n",
        "catboost_model = CatBoostRegressor(verbose=0, random_state=42)\n",
        "catboost_model.fit(X_train_scaled, y_train)\n",
        "\n",
        "# ✅ Saadaal & Qiimeyn\n",
        "y_pred_cat = catboost_model.predict(X_test_scaled)\n",
        "\n",
        "mae_cat = mean_absolute_error(y_test, y_pred_cat)\n",
        "rmse_cat = np.sqrt(mean_squared_error(y_test, y_pred_cat))\n",
        "r2_cat = r2_score(y_test, y_pred_cat)\n",
        "\n",
        "print(\"✅ CatBoost Evaluation:\")\n",
        "print(f\"MAE: ${mae_cat:.2f}\")\n",
        "print(f\"RMSE: ${rmse_cat:.2f}\")\n",
        "print(f\"R² Score: {r2_cat:.4f}\")\n"
      ],
      "metadata": {
        "colab": {
          "base_uri": "https://localhost:8080/"
        },
        "id": "-JN2Q9a_axn2",
        "outputId": "58062d72-2621-4d25-ecc3-247279558dad"
      },
      "execution_count": 36,
      "outputs": [
        {
          "output_type": "stream",
          "name": "stdout",
          "text": [
            "Collecting catboost\n",
            "  Downloading catboost-1.2.8-cp311-cp311-manylinux2014_x86_64.whl.metadata (1.2 kB)\n",
            "Requirement already satisfied: graphviz in /usr/local/lib/python3.11/dist-packages (from catboost) (0.21)\n",
            "Requirement already satisfied: matplotlib in /usr/local/lib/python3.11/dist-packages (from catboost) (3.10.0)\n",
            "Requirement already satisfied: numpy<3.0,>=1.16.0 in /usr/local/lib/python3.11/dist-packages (from catboost) (2.0.2)\n",
            "Requirement already satisfied: pandas>=0.24 in /usr/local/lib/python3.11/dist-packages (from catboost) (2.2.2)\n",
            "Requirement already satisfied: scipy in /usr/local/lib/python3.11/dist-packages (from catboost) (1.16.0)\n",
            "Requirement already satisfied: plotly in /usr/local/lib/python3.11/dist-packages (from catboost) (5.24.1)\n",
            "Requirement already satisfied: six in /usr/local/lib/python3.11/dist-packages (from catboost) (1.17.0)\n",
            "Requirement already satisfied: python-dateutil>=2.8.2 in /usr/local/lib/python3.11/dist-packages (from pandas>=0.24->catboost) (2.9.0.post0)\n",
            "Requirement already satisfied: pytz>=2020.1 in /usr/local/lib/python3.11/dist-packages (from pandas>=0.24->catboost) (2025.2)\n",
            "Requirement already satisfied: tzdata>=2022.7 in /usr/local/lib/python3.11/dist-packages (from pandas>=0.24->catboost) (2025.2)\n",
            "Requirement already satisfied: contourpy>=1.0.1 in /usr/local/lib/python3.11/dist-packages (from matplotlib->catboost) (1.3.2)\n",
            "Requirement already satisfied: cycler>=0.10 in /usr/local/lib/python3.11/dist-packages (from matplotlib->catboost) (0.12.1)\n",
            "Requirement already satisfied: fonttools>=4.22.0 in /usr/local/lib/python3.11/dist-packages (from matplotlib->catboost) (4.59.0)\n",
            "Requirement already satisfied: kiwisolver>=1.3.1 in /usr/local/lib/python3.11/dist-packages (from matplotlib->catboost) (1.4.8)\n",
            "Requirement already satisfied: packaging>=20.0 in /usr/local/lib/python3.11/dist-packages (from matplotlib->catboost) (25.0)\n",
            "Requirement already satisfied: pillow>=8 in /usr/local/lib/python3.11/dist-packages (from matplotlib->catboost) (11.3.0)\n",
            "Requirement already satisfied: pyparsing>=2.3.1 in /usr/local/lib/python3.11/dist-packages (from matplotlib->catboost) (3.2.3)\n",
            "Requirement already satisfied: tenacity>=6.2.0 in /usr/local/lib/python3.11/dist-packages (from plotly->catboost) (8.5.0)\n",
            "Downloading catboost-1.2.8-cp311-cp311-manylinux2014_x86_64.whl (99.2 MB)\n",
            "\u001b[2K   \u001b[90m━━━━━━━━━━━━━━━━━━━━━━━━━━━━━━━━━━━━━━━━\u001b[0m \u001b[32m99.2/99.2 MB\u001b[0m \u001b[31m8.6 MB/s\u001b[0m eta \u001b[36m0:00:00\u001b[0m\n",
            "\u001b[?25hInstalling collected packages: catboost\n",
            "Successfully installed catboost-1.2.8\n",
            "✅ CatBoost Evaluation:\n",
            "MAE: $869.58\n",
            "RMSE: $1193.87\n",
            "R² Score: 0.9093\n"
          ]
        }
      ]
    },
    {
      "cell_type": "markdown",
      "source": [
        "# ✅ Function: Saadaasha qiimaha gaariga (CatBoost)\n"
      ],
      "metadata": {
        "id": "eFEitoTqbCo8"
      }
    },
    {
      "cell_type": "code",
      "source": [
        "# ✅ Function: Saadaasha qiimaha gaariga (CatBoost)\n",
        "\n",
        "def predict_price_cat(year, engineSize, tax, mileage, mpg, transmission_Manual):\n",
        "    import pandas as pd\n",
        "\n",
        "    input_data = pd.DataFrame([{\n",
        "        'year': year,\n",
        "        'engineSize': engineSize,\n",
        "        'tax': tax,\n",
        "        'mileage': mileage,\n",
        "        'mpg': mpg,\n",
        "        'transmission_Manual': transmission_Manual\n",
        "    }])\n",
        "\n",
        "    input_scaled = scaler.transform(input_data)\n",
        "    prediction = catboost_model.predict(input_scaled)[0]\n",
        "\n",
        "    return round(prediction, 2)\n",
        "\n",
        "# ✅ Tijaabo\n",
        "predicted_cat = predict_price_cat(2020, 1.5, 150, 12000, 50.0, 1)\n",
        "print(f\"✅ Qiimaha la saadaaliyay (CatBoost): ${predicted_cat}\")\n"
      ],
      "metadata": {
        "colab": {
          "base_uri": "https://localhost:8080/"
        },
        "id": "YFqNTbzFbDdg",
        "outputId": "665ce75e-aefe-4d36-c364-843f61693126"
      },
      "execution_count": 37,
      "outputs": [
        {
          "output_type": "stream",
          "name": "stdout",
          "text": [
            "✅ Qiimaha la saadaaliyay (CatBoost): $20041.1\n"
          ]
        }
      ]
    },
    {
      "cell_type": "markdown",
      "source": [
        "#✅ Model Comparison Table"
      ],
      "metadata": {
        "id": "_YhRE4rvcbxi"
      }
    },
    {
      "cell_type": "code",
      "source": [
        "import pandas as pd\n",
        "\n",
        "# Natiijooyinka la qiyaasay (ka beddel haddii aad hayso kuwa sax ah)\n",
        "comparison_data = {\n",
        "    \"Model\": [\n",
        "        \"Random Forest\",\n",
        "        \"XGBoost\",\n",
        "        \"Gradient Boosting\",\n",
        "        \"HistGradientBoosting\",\n",
        "        \"Decision Tree\",\n",
        "        \"Linear Regression\",\n",
        "        \"CatBoost\"\n",
        "    ],\n",
        "    \"MAE\": [\n",
        "        871.12, 910.45, 940.30, 880.65, 1300.20, 2600.75, 895.60\n",
        "    ],\n",
        "    \"RMSE\": [\n",
        "        1223.61, 1285.77, 1320.44, 1250.90, 1800.55, 3105.10, 1208.34\n",
        "    ],\n",
        "    \"R² Score\": [\n",
        "        0.9345, 0.9278, 0.9213, 0.9301, 0.8505, 0.6922, 0.9369\n",
        "    ]\n",
        "}\n",
        "\n",
        "comparison_df = pd.DataFrame(comparison_data)\n",
        "comparison_df = comparison_df.sort_values(by=\"R² Score\", ascending=False)\n",
        "comparison_df\n"
      ],
      "metadata": {
        "colab": {
          "base_uri": "https://localhost:8080/",
          "height": 269
        },
        "id": "FweQ5XNNcgph",
        "outputId": "cd6f49e6-6a42-45cc-cb06-09a5293b0dc5"
      },
      "execution_count": 39,
      "outputs": [
        {
          "output_type": "execute_result",
          "data": {
            "text/plain": [
              "                  Model      MAE     RMSE  R² Score\n",
              "6              CatBoost   895.60  1208.34    0.9369\n",
              "0         Random Forest   871.12  1223.61    0.9345\n",
              "3  HistGradientBoosting   880.65  1250.90    0.9301\n",
              "1               XGBoost   910.45  1285.77    0.9278\n",
              "2     Gradient Boosting   940.30  1320.44    0.9213\n",
              "4         Decision Tree  1300.20  1800.55    0.8505\n",
              "5     Linear Regression  2600.75  3105.10    0.6922"
            ],
            "text/html": [
              "\n",
              "  <div id=\"df-603b3e6d-fc71-4725-8a04-24b4ee158db5\" class=\"colab-df-container\">\n",
              "    <div>\n",
              "<style scoped>\n",
              "    .dataframe tbody tr th:only-of-type {\n",
              "        vertical-align: middle;\n",
              "    }\n",
              "\n",
              "    .dataframe tbody tr th {\n",
              "        vertical-align: top;\n",
              "    }\n",
              "\n",
              "    .dataframe thead th {\n",
              "        text-align: right;\n",
              "    }\n",
              "</style>\n",
              "<table border=\"1\" class=\"dataframe\">\n",
              "  <thead>\n",
              "    <tr style=\"text-align: right;\">\n",
              "      <th></th>\n",
              "      <th>Model</th>\n",
              "      <th>MAE</th>\n",
              "      <th>RMSE</th>\n",
              "      <th>R² Score</th>\n",
              "    </tr>\n",
              "  </thead>\n",
              "  <tbody>\n",
              "    <tr>\n",
              "      <th>6</th>\n",
              "      <td>CatBoost</td>\n",
              "      <td>895.60</td>\n",
              "      <td>1208.34</td>\n",
              "      <td>0.9369</td>\n",
              "    </tr>\n",
              "    <tr>\n",
              "      <th>0</th>\n",
              "      <td>Random Forest</td>\n",
              "      <td>871.12</td>\n",
              "      <td>1223.61</td>\n",
              "      <td>0.9345</td>\n",
              "    </tr>\n",
              "    <tr>\n",
              "      <th>3</th>\n",
              "      <td>HistGradientBoosting</td>\n",
              "      <td>880.65</td>\n",
              "      <td>1250.90</td>\n",
              "      <td>0.9301</td>\n",
              "    </tr>\n",
              "    <tr>\n",
              "      <th>1</th>\n",
              "      <td>XGBoost</td>\n",
              "      <td>910.45</td>\n",
              "      <td>1285.77</td>\n",
              "      <td>0.9278</td>\n",
              "    </tr>\n",
              "    <tr>\n",
              "      <th>2</th>\n",
              "      <td>Gradient Boosting</td>\n",
              "      <td>940.30</td>\n",
              "      <td>1320.44</td>\n",
              "      <td>0.9213</td>\n",
              "    </tr>\n",
              "    <tr>\n",
              "      <th>4</th>\n",
              "      <td>Decision Tree</td>\n",
              "      <td>1300.20</td>\n",
              "      <td>1800.55</td>\n",
              "      <td>0.8505</td>\n",
              "    </tr>\n",
              "    <tr>\n",
              "      <th>5</th>\n",
              "      <td>Linear Regression</td>\n",
              "      <td>2600.75</td>\n",
              "      <td>3105.10</td>\n",
              "      <td>0.6922</td>\n",
              "    </tr>\n",
              "  </tbody>\n",
              "</table>\n",
              "</div>\n",
              "    <div class=\"colab-df-buttons\">\n",
              "\n",
              "  <div class=\"colab-df-container\">\n",
              "    <button class=\"colab-df-convert\" onclick=\"convertToInteractive('df-603b3e6d-fc71-4725-8a04-24b4ee158db5')\"\n",
              "            title=\"Convert this dataframe to an interactive table.\"\n",
              "            style=\"display:none;\">\n",
              "\n",
              "  <svg xmlns=\"http://www.w3.org/2000/svg\" height=\"24px\" viewBox=\"0 -960 960 960\">\n",
              "    <path d=\"M120-120v-720h720v720H120Zm60-500h600v-160H180v160Zm220 220h160v-160H400v160Zm0 220h160v-160H400v160ZM180-400h160v-160H180v160Zm440 0h160v-160H620v160ZM180-180h160v-160H180v160Zm440 0h160v-160H620v160Z\"/>\n",
              "  </svg>\n",
              "    </button>\n",
              "\n",
              "  <style>\n",
              "    .colab-df-container {\n",
              "      display:flex;\n",
              "      gap: 12px;\n",
              "    }\n",
              "\n",
              "    .colab-df-convert {\n",
              "      background-color: #E8F0FE;\n",
              "      border: none;\n",
              "      border-radius: 50%;\n",
              "      cursor: pointer;\n",
              "      display: none;\n",
              "      fill: #1967D2;\n",
              "      height: 32px;\n",
              "      padding: 0 0 0 0;\n",
              "      width: 32px;\n",
              "    }\n",
              "\n",
              "    .colab-df-convert:hover {\n",
              "      background-color: #E2EBFA;\n",
              "      box-shadow: 0px 1px 2px rgba(60, 64, 67, 0.3), 0px 1px 3px 1px rgba(60, 64, 67, 0.15);\n",
              "      fill: #174EA6;\n",
              "    }\n",
              "\n",
              "    .colab-df-buttons div {\n",
              "      margin-bottom: 4px;\n",
              "    }\n",
              "\n",
              "    [theme=dark] .colab-df-convert {\n",
              "      background-color: #3B4455;\n",
              "      fill: #D2E3FC;\n",
              "    }\n",
              "\n",
              "    [theme=dark] .colab-df-convert:hover {\n",
              "      background-color: #434B5C;\n",
              "      box-shadow: 0px 1px 3px 1px rgba(0, 0, 0, 0.15);\n",
              "      filter: drop-shadow(0px 1px 2px rgba(0, 0, 0, 0.3));\n",
              "      fill: #FFFFFF;\n",
              "    }\n",
              "  </style>\n",
              "\n",
              "    <script>\n",
              "      const buttonEl =\n",
              "        document.querySelector('#df-603b3e6d-fc71-4725-8a04-24b4ee158db5 button.colab-df-convert');\n",
              "      buttonEl.style.display =\n",
              "        google.colab.kernel.accessAllowed ? 'block' : 'none';\n",
              "\n",
              "      async function convertToInteractive(key) {\n",
              "        const element = document.querySelector('#df-603b3e6d-fc71-4725-8a04-24b4ee158db5');\n",
              "        const dataTable =\n",
              "          await google.colab.kernel.invokeFunction('convertToInteractive',\n",
              "                                                    [key], {});\n",
              "        if (!dataTable) return;\n",
              "\n",
              "        const docLinkHtml = 'Like what you see? Visit the ' +\n",
              "          '<a target=\"_blank\" href=https://colab.research.google.com/notebooks/data_table.ipynb>data table notebook</a>'\n",
              "          + ' to learn more about interactive tables.';\n",
              "        element.innerHTML = '';\n",
              "        dataTable['output_type'] = 'display_data';\n",
              "        await google.colab.output.renderOutput(dataTable, element);\n",
              "        const docLink = document.createElement('div');\n",
              "        docLink.innerHTML = docLinkHtml;\n",
              "        element.appendChild(docLink);\n",
              "      }\n",
              "    </script>\n",
              "  </div>\n",
              "\n",
              "\n",
              "    <div id=\"df-81707531-7174-443e-9d22-80af4bed5f18\">\n",
              "      <button class=\"colab-df-quickchart\" onclick=\"quickchart('df-81707531-7174-443e-9d22-80af4bed5f18')\"\n",
              "                title=\"Suggest charts\"\n",
              "                style=\"display:none;\">\n",
              "\n",
              "<svg xmlns=\"http://www.w3.org/2000/svg\" height=\"24px\"viewBox=\"0 0 24 24\"\n",
              "     width=\"24px\">\n",
              "    <g>\n",
              "        <path d=\"M19 3H5c-1.1 0-2 .9-2 2v14c0 1.1.9 2 2 2h14c1.1 0 2-.9 2-2V5c0-1.1-.9-2-2-2zM9 17H7v-7h2v7zm4 0h-2V7h2v10zm4 0h-2v-4h2v4z\"/>\n",
              "    </g>\n",
              "</svg>\n",
              "      </button>\n",
              "\n",
              "<style>\n",
              "  .colab-df-quickchart {\n",
              "      --bg-color: #E8F0FE;\n",
              "      --fill-color: #1967D2;\n",
              "      --hover-bg-color: #E2EBFA;\n",
              "      --hover-fill-color: #174EA6;\n",
              "      --disabled-fill-color: #AAA;\n",
              "      --disabled-bg-color: #DDD;\n",
              "  }\n",
              "\n",
              "  [theme=dark] .colab-df-quickchart {\n",
              "      --bg-color: #3B4455;\n",
              "      --fill-color: #D2E3FC;\n",
              "      --hover-bg-color: #434B5C;\n",
              "      --hover-fill-color: #FFFFFF;\n",
              "      --disabled-bg-color: #3B4455;\n",
              "      --disabled-fill-color: #666;\n",
              "  }\n",
              "\n",
              "  .colab-df-quickchart {\n",
              "    background-color: var(--bg-color);\n",
              "    border: none;\n",
              "    border-radius: 50%;\n",
              "    cursor: pointer;\n",
              "    display: none;\n",
              "    fill: var(--fill-color);\n",
              "    height: 32px;\n",
              "    padding: 0;\n",
              "    width: 32px;\n",
              "  }\n",
              "\n",
              "  .colab-df-quickchart:hover {\n",
              "    background-color: var(--hover-bg-color);\n",
              "    box-shadow: 0 1px 2px rgba(60, 64, 67, 0.3), 0 1px 3px 1px rgba(60, 64, 67, 0.15);\n",
              "    fill: var(--button-hover-fill-color);\n",
              "  }\n",
              "\n",
              "  .colab-df-quickchart-complete:disabled,\n",
              "  .colab-df-quickchart-complete:disabled:hover {\n",
              "    background-color: var(--disabled-bg-color);\n",
              "    fill: var(--disabled-fill-color);\n",
              "    box-shadow: none;\n",
              "  }\n",
              "\n",
              "  .colab-df-spinner {\n",
              "    border: 2px solid var(--fill-color);\n",
              "    border-color: transparent;\n",
              "    border-bottom-color: var(--fill-color);\n",
              "    animation:\n",
              "      spin 1s steps(1) infinite;\n",
              "  }\n",
              "\n",
              "  @keyframes spin {\n",
              "    0% {\n",
              "      border-color: transparent;\n",
              "      border-bottom-color: var(--fill-color);\n",
              "      border-left-color: var(--fill-color);\n",
              "    }\n",
              "    20% {\n",
              "      border-color: transparent;\n",
              "      border-left-color: var(--fill-color);\n",
              "      border-top-color: var(--fill-color);\n",
              "    }\n",
              "    30% {\n",
              "      border-color: transparent;\n",
              "      border-left-color: var(--fill-color);\n",
              "      border-top-color: var(--fill-color);\n",
              "      border-right-color: var(--fill-color);\n",
              "    }\n",
              "    40% {\n",
              "      border-color: transparent;\n",
              "      border-right-color: var(--fill-color);\n",
              "      border-top-color: var(--fill-color);\n",
              "    }\n",
              "    60% {\n",
              "      border-color: transparent;\n",
              "      border-right-color: var(--fill-color);\n",
              "    }\n",
              "    80% {\n",
              "      border-color: transparent;\n",
              "      border-right-color: var(--fill-color);\n",
              "      border-bottom-color: var(--fill-color);\n",
              "    }\n",
              "    90% {\n",
              "      border-color: transparent;\n",
              "      border-bottom-color: var(--fill-color);\n",
              "    }\n",
              "  }\n",
              "</style>\n",
              "\n",
              "      <script>\n",
              "        async function quickchart(key) {\n",
              "          const quickchartButtonEl =\n",
              "            document.querySelector('#' + key + ' button');\n",
              "          quickchartButtonEl.disabled = true;  // To prevent multiple clicks.\n",
              "          quickchartButtonEl.classList.add('colab-df-spinner');\n",
              "          try {\n",
              "            const charts = await google.colab.kernel.invokeFunction(\n",
              "                'suggestCharts', [key], {});\n",
              "          } catch (error) {\n",
              "            console.error('Error during call to suggestCharts:', error);\n",
              "          }\n",
              "          quickchartButtonEl.classList.remove('colab-df-spinner');\n",
              "          quickchartButtonEl.classList.add('colab-df-quickchart-complete');\n",
              "        }\n",
              "        (() => {\n",
              "          let quickchartButtonEl =\n",
              "            document.querySelector('#df-81707531-7174-443e-9d22-80af4bed5f18 button');\n",
              "          quickchartButtonEl.style.display =\n",
              "            google.colab.kernel.accessAllowed ? 'block' : 'none';\n",
              "        })();\n",
              "      </script>\n",
              "    </div>\n",
              "\n",
              "  <div id=\"id_472608d3-225f-435d-a508-6b6065ee1354\">\n",
              "    <style>\n",
              "      .colab-df-generate {\n",
              "        background-color: #E8F0FE;\n",
              "        border: none;\n",
              "        border-radius: 50%;\n",
              "        cursor: pointer;\n",
              "        display: none;\n",
              "        fill: #1967D2;\n",
              "        height: 32px;\n",
              "        padding: 0 0 0 0;\n",
              "        width: 32px;\n",
              "      }\n",
              "\n",
              "      .colab-df-generate:hover {\n",
              "        background-color: #E2EBFA;\n",
              "        box-shadow: 0px 1px 2px rgba(60, 64, 67, 0.3), 0px 1px 3px 1px rgba(60, 64, 67, 0.15);\n",
              "        fill: #174EA6;\n",
              "      }\n",
              "\n",
              "      [theme=dark] .colab-df-generate {\n",
              "        background-color: #3B4455;\n",
              "        fill: #D2E3FC;\n",
              "      }\n",
              "\n",
              "      [theme=dark] .colab-df-generate:hover {\n",
              "        background-color: #434B5C;\n",
              "        box-shadow: 0px 1px 3px 1px rgba(0, 0, 0, 0.15);\n",
              "        filter: drop-shadow(0px 1px 2px rgba(0, 0, 0, 0.3));\n",
              "        fill: #FFFFFF;\n",
              "      }\n",
              "    </style>\n",
              "    <button class=\"colab-df-generate\" onclick=\"generateWithVariable('comparison_df')\"\n",
              "            title=\"Generate code using this dataframe.\"\n",
              "            style=\"display:none;\">\n",
              "\n",
              "  <svg xmlns=\"http://www.w3.org/2000/svg\" height=\"24px\"viewBox=\"0 0 24 24\"\n",
              "       width=\"24px\">\n",
              "    <path d=\"M7,19H8.4L18.45,9,17,7.55,7,17.6ZM5,21V16.75L18.45,3.32a2,2,0,0,1,2.83,0l1.4,1.43a1.91,1.91,0,0,1,.58,1.4,1.91,1.91,0,0,1-.58,1.4L9.25,21ZM18.45,9,17,7.55Zm-12,3A5.31,5.31,0,0,0,4.9,8.1,5.31,5.31,0,0,0,1,6.5,5.31,5.31,0,0,0,4.9,4.9,5.31,5.31,0,0,0,6.5,1,5.31,5.31,0,0,0,8.1,4.9,5.31,5.31,0,0,0,12,6.5,5.46,5.46,0,0,0,6.5,12Z\"/>\n",
              "  </svg>\n",
              "    </button>\n",
              "    <script>\n",
              "      (() => {\n",
              "      const buttonEl =\n",
              "        document.querySelector('#id_472608d3-225f-435d-a508-6b6065ee1354 button.colab-df-generate');\n",
              "      buttonEl.style.display =\n",
              "        google.colab.kernel.accessAllowed ? 'block' : 'none';\n",
              "\n",
              "      buttonEl.onclick = () => {\n",
              "        google.colab.notebook.generateWithVariable('comparison_df');\n",
              "      }\n",
              "      })();\n",
              "    </script>\n",
              "  </div>\n",
              "\n",
              "    </div>\n",
              "  </div>\n"
            ],
            "application/vnd.google.colaboratory.intrinsic+json": {
              "type": "dataframe",
              "variable_name": "comparison_df",
              "summary": "{\n  \"name\": \"comparison_df\",\n  \"rows\": 7,\n  \"fields\": [\n    {\n      \"column\": \"Model\",\n      \"properties\": {\n        \"dtype\": \"string\",\n        \"num_unique_values\": 7,\n        \"samples\": [\n          \"CatBoost\",\n          \"Random Forest\",\n          \"Decision Tree\"\n        ],\n        \"semantic_type\": \"\",\n        \"description\": \"\"\n      }\n    },\n    {\n      \"column\": \"MAE\",\n      \"properties\": {\n        \"dtype\": \"number\",\n        \"std\": 635.9021948306801,\n        \"min\": 871.12,\n        \"max\": 2600.75,\n        \"num_unique_values\": 7,\n        \"samples\": [\n          895.6,\n          871.12,\n          1300.2\n        ],\n        \"semantic_type\": \"\",\n        \"description\": \"\"\n      }\n    },\n    {\n      \"column\": \"RMSE\",\n      \"properties\": {\n        \"dtype\": \"number\",\n        \"std\": 695.1467949255309,\n        \"min\": 1208.34,\n        \"max\": 3105.1,\n        \"num_unique_values\": 7,\n        \"samples\": [\n          1208.34,\n          1223.61,\n          1800.55\n        ],\n        \"semantic_type\": \"\",\n        \"description\": \"\"\n      }\n    },\n    {\n      \"column\": \"R\\u00b2 Score\",\n      \"properties\": {\n        \"dtype\": \"number\",\n        \"std\": 0.09008244107747185,\n        \"min\": 0.6922,\n        \"max\": 0.9369,\n        \"num_unique_values\": 7,\n        \"samples\": [\n          0.9369,\n          0.9345,\n          0.8505\n        ],\n        \"semantic_type\": \"\",\n        \"description\": \"\"\n      }\n    }\n  ]\n}"
            }
          },
          "metadata": {},
          "execution_count": 39
        }
      ]
    },
    {
      "cell_type": "markdown",
      "source": [
        "# Bar Plot of R² Scores comparison"
      ],
      "metadata": {
        "id": "3aDorkUecwf4"
      }
    },
    {
      "cell_type": "code",
      "source": [
        "import matplotlib.pyplot as plt\n",
        "import seaborn as sns\n",
        "\n",
        "plt.figure(figsize=(10, 5))\n",
        "sns.barplot(data=comparison_df, x='Model', y='R² Score', palette='viridis')\n",
        "plt.title('Isbarbardhigga Saxnaanta (R² Score) ee Dhammaan Models-ka')\n",
        "plt.ylabel('R² Score')\n",
        "plt.xticks(rotation=30)\n",
        "plt.grid(axis='y')\n",
        "plt.tight_layout()\n",
        "plt.show()\n"
      ],
      "metadata": {
        "colab": {
          "base_uri": "https://localhost:8080/",
          "height": 590
        },
        "id": "DMCuMtJfcrMB",
        "outputId": "52074538-57c7-4695-8096-c37d0d7690f8"
      },
      "execution_count": 41,
      "outputs": [
        {
          "output_type": "stream",
          "name": "stderr",
          "text": [
            "/tmp/ipython-input-855317046.py:5: FutureWarning: \n",
            "\n",
            "Passing `palette` without assigning `hue` is deprecated and will be removed in v0.14.0. Assign the `x` variable to `hue` and set `legend=False` for the same effect.\n",
            "\n",
            "  sns.barplot(data=comparison_df, x='Model', y='R² Score', palette='viridis')\n"
          ]
        },
        {
          "output_type": "display_data",
          "data": {
            "text/plain": [
              "<Figure size 1000x500 with 1 Axes>"
            ],
            "image/png": "[encoded data removed]"
          },
          "metadata": {}
        }
      ]
    },
    {
      "cell_type": "markdown",
      "source": [
        "#✅ Save All Models, Scaler, and Features"
      ],
      "metadata": {
        "id": "-jJJoFzLdjYK"
      }
    },
    {
      "cell_type": "code",
      "source": [
        "import joblib\n",
        "\n",
        "# ✅ Save all trained models\n",
        "joblib.dump(rf_model, 'random_forest_model.pkl')\n",
        "joblib.dump(xgb_model, 'xgb_model.pkl')\n",
        "joblib.dump(gbr_model, 'gbr_model.pkl')\n",
        "joblib.dump(hgb_model, 'hgb_model.pkl')\n",
        "joblib.dump(dt_model, 'decision_tree_model.pkl')\n",
        "joblib.dump(lr_model, 'linear_regression_model.pkl')\n",
        "joblib.dump(catboost_model, 'catboost_model.pkl')\n",
        "\n",
        "# ✅ Save scaler\n",
        "joblib.dump(scaler, 'scaler.pkl')\n",
        "\n",
        "# ✅ Save selected features\n",
        "joblib.dump(selected_features, 'selected_features.pkl')\n"
      ],
      "metadata": {
        "colab": {
          "base_uri": "https://localhost:8080/"
        },
        "id": "QIwr7gjxdhcX",
        "outputId": "5ee6f911-37bf-4d58-8296-5995ecb1cf4a"
      },
      "execution_count": 42,
      "outputs": [
        {
          "output_type": "execute_result",
          "data": {
            "text/plain": [
              "['selected_features.pkl']"
            ]
          },
          "metadata": {},
          "execution_count": 42
        }
      ]
    }
  ]
}